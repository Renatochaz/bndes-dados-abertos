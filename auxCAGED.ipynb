{
 "cells": [
  {
   "cell_type": "markdown",
   "source": [
    "# Código de tratamento dos dados do CAGED"
   ],
   "metadata": {}
  },
  {
   "cell_type": "markdown",
   "source": [
    "Foram recolhidos dados do número de empregos formais da plataforma CAGED do governo. Os dados estão segmentados por ano, setor, estado e tamanho da empresa.\n",
    "\n",
    "A classificação do tamanho da empresa foi realizada através do padrão adotado no CAGED, que segue o seguinte formato:\n",
    "\n",
    "Micro: com até 19 empregados.\n",
    "Pequena: de 20 a 99 empregados.\n",
    "Média: 100 a 499 empregados.\n",
    "Grande: mais de 500 empregados.\n",
    "\n",
    "Os dados estão disponíveis para consulta no seguinte endereço: bi.mte.gov.br/bgcaged"
   ],
   "metadata": {}
  },
  {
   "cell_type": "code",
   "execution_count": 1,
   "source": [
    "## Load dependencies.\n",
    "import os\n",
    "import pandas as pd\n",
    "import numpy as np\n",
    "from global_functions import strip_upper"
   ],
   "outputs": [],
   "metadata": {}
  },
  {
   "cell_type": "code",
   "execution_count": 18,
   "source": [
    "## Read file.\n",
    "df_original = pd.read_excel('bases-auxiliares/CAGED.xlsx')"
   ],
   "outputs": [],
   "metadata": {}
  },
  {
   "cell_type": "code",
   "execution_count": null,
   "source": [
    "df = df_original"
   ],
   "outputs": [],
   "metadata": {}
  },
  {
   "cell_type": "markdown",
   "source": [
    "# 1. Data Wrangling\n",
    "\n",
    "Nesta etapa iremos limpar a base de dados e transformar os dados para um formato compatível com a base de dados de operações de financiamento."
   ],
   "metadata": {}
  },
  {
   "cell_type": "markdown",
   "source": [
    "## 1.1 - Exploração e limpeza do dataset"
   ],
   "metadata": {}
  },
  {
   "cell_type": "code",
   "execution_count": 3,
   "source": [
    "## Dataset overview.\n",
    "df_original.head()"
   ],
   "outputs": [
    {
     "output_type": "execute_result",
     "data": {
      "text/plain": [
       "    Ano             UF  Setor Gr IBGE  Micro  Pequena  Média  Grande\n",
       "0  2019  11 - Rondônia  1 - Indústria   9493    10783   8522   12642\n",
       "1  2019      12 - Acre  1 - Indústria   2372     2540   2837       0\n",
       "2  2019  13 - Amazonas  1 - Indústria   8308    16948  40635   41806\n",
       "3  2019   14 - Roraima  1 - Indústria   1415     1426   1080     543\n",
       "4  2019      15 - Pará  1 - Indústria  16603    23729  26954   42678"
      ],
      "text/html": [
       "<div>\n",
       "<style scoped>\n",
       "    .dataframe tbody tr th:only-of-type {\n",
       "        vertical-align: middle;\n",
       "    }\n",
       "\n",
       "    .dataframe tbody tr th {\n",
       "        vertical-align: top;\n",
       "    }\n",
       "\n",
       "    .dataframe thead th {\n",
       "        text-align: right;\n",
       "    }\n",
       "</style>\n",
       "<table border=\"1\" class=\"dataframe\">\n",
       "  <thead>\n",
       "    <tr style=\"text-align: right;\">\n",
       "      <th></th>\n",
       "      <th>Ano</th>\n",
       "      <th>UF</th>\n",
       "      <th>Setor Gr IBGE</th>\n",
       "      <th>Micro</th>\n",
       "      <th>Pequena</th>\n",
       "      <th>Média</th>\n",
       "      <th>Grande</th>\n",
       "    </tr>\n",
       "  </thead>\n",
       "  <tbody>\n",
       "    <tr>\n",
       "      <th>0</th>\n",
       "      <td>2019</td>\n",
       "      <td>11 - Rondônia</td>\n",
       "      <td>1 - Indústria</td>\n",
       "      <td>9493</td>\n",
       "      <td>10783</td>\n",
       "      <td>8522</td>\n",
       "      <td>12642</td>\n",
       "    </tr>\n",
       "    <tr>\n",
       "      <th>1</th>\n",
       "      <td>2019</td>\n",
       "      <td>12 - Acre</td>\n",
       "      <td>1 - Indústria</td>\n",
       "      <td>2372</td>\n",
       "      <td>2540</td>\n",
       "      <td>2837</td>\n",
       "      <td>0</td>\n",
       "    </tr>\n",
       "    <tr>\n",
       "      <th>2</th>\n",
       "      <td>2019</td>\n",
       "      <td>13 - Amazonas</td>\n",
       "      <td>1 - Indústria</td>\n",
       "      <td>8308</td>\n",
       "      <td>16948</td>\n",
       "      <td>40635</td>\n",
       "      <td>41806</td>\n",
       "    </tr>\n",
       "    <tr>\n",
       "      <th>3</th>\n",
       "      <td>2019</td>\n",
       "      <td>14 - Roraima</td>\n",
       "      <td>1 - Indústria</td>\n",
       "      <td>1415</td>\n",
       "      <td>1426</td>\n",
       "      <td>1080</td>\n",
       "      <td>543</td>\n",
       "    </tr>\n",
       "    <tr>\n",
       "      <th>4</th>\n",
       "      <td>2019</td>\n",
       "      <td>15 - Pará</td>\n",
       "      <td>1 - Indústria</td>\n",
       "      <td>16603</td>\n",
       "      <td>23729</td>\n",
       "      <td>26954</td>\n",
       "      <td>42678</td>\n",
       "    </tr>\n",
       "  </tbody>\n",
       "</table>\n",
       "</div>"
      ]
     },
     "metadata": {},
     "execution_count": 3
    }
   ],
   "metadata": {}
  },
  {
   "cell_type": "code",
   "execution_count": 5,
   "source": [
    "## Dataset dimensions.\n",
    "print(df.shape)\n",
    "\n",
    "## NA' check.\n",
    "print(sum(df.isna().sum()))\n",
    "\n",
    "## Veryfing duplicated records.\n",
    "print(df.duplicated().sum())"
   ],
   "outputs": [
    {
     "output_type": "stream",
     "name": "stdout",
     "text": [
      "(1458, 7)\n",
      "0\n",
      "0\n"
     ]
    }
   ],
   "metadata": {}
  },
  {
   "cell_type": "code",
   "execution_count": 6,
   "source": [
    "## Checking years.\n",
    "print(df['Ano'].unique())\n",
    "print(len(df['Ano'].unique()\n",
    "))"
   ],
   "outputs": [
    {
     "output_type": "stream",
     "name": "stdout",
     "text": [
      "[2019 2018 2017 2016 2015 2014 2013 2012 2011 2010 2009 2008 2007 2006\n",
      " 2005 2004 2003 2002]\n",
      "18\n"
     ]
    }
   ],
   "metadata": {}
  },
  {
   "cell_type": "code",
   "execution_count": 5,
   "source": [
    "## Checking UF.\n",
    "print(df['UF'].unique())\n",
    "\n",
    "print(len(df['UF'].unique()))\n"
   ],
   "outputs": [
    {
     "output_type": "stream",
     "name": "stdout",
     "text": [
      "['11 - Rondônia' '12 - Acre' '13 - Amazonas' '14 - Roraima' '15 - Pará'\n",
      " '16 - Amapá' '17 - Tocantins' '21 - Maranhão' '22 - Piauí' '23 - Ceará'\n",
      " '24 - Rio Grande do Norte' '25 - Paraíba' '26 - Pernambuco'\n",
      " '27 - Alagoas' '28 - Sergipe' '29 - Bahia' '31 - Minas Gerais'\n",
      " '32 - Espírito Santo' '33 - Rio de Janeiro' '35 - São Paulo'\n",
      " '41 - Paraná' '42 - Santa Catarina' '43 - Rio Grande do Sul'\n",
      " '50 - Mato Grosso do Sul' '51 - Mato Grosso' '52 - Goiás'\n",
      " '53 - Distrito Federal']\n",
      "27\n"
     ]
    }
   ],
   "metadata": {}
  },
  {
   "cell_type": "code",
   "execution_count": 4,
   "source": [
    "## Verifying if sequence of UF's repeats through all data\n",
    "states = df['UF'].unique()\n",
    "\n",
    "states_seq = states.tolist() * int((len(df)/len(states)))\n",
    "\n",
    "sum(df['UF'] == states_seq) == len(df)"
   ],
   "outputs": [
    {
     "output_type": "execute_result",
     "data": {
      "text/plain": [
       "True"
      ]
     },
     "metadata": {},
     "execution_count": 4
    }
   ],
   "metadata": {}
  },
  {
   "cell_type": "markdown",
   "source": [
    "Devido ao padrão de repetição dos estados neste dataset, podemos substituir os estados por uma lista contendo as UF's na mesma sequência:"
   ],
   "metadata": {}
  },
  {
   "cell_type": "code",
   "execution_count": 5,
   "source": [
    "states_list = ['RO', 'AC', 'AM', 'RR', 'PA', 'AP', 'TO', 'MA', 'PI', 'CE', 'RN', 'PB', 'PE', 'AL', 'SE', 'BA',\n",
    "          'MG', 'ES', 'RJ', 'SP', 'PR', 'SC', 'RS', 'MS', 'MT', 'GO', 'DF']\n",
    "\n",
    "df['UF'] = states_list * (int((len(df)/len(states))))\n",
    "\n",
    "df.head()\n"
   ],
   "outputs": [
    {
     "output_type": "execute_result",
     "data": {
      "text/plain": [
       "    Ano  UF  Setor Gr IBGE  Micro  Pequena  Média  Grande\n",
       "0  2019  RO  1 - Indústria   9493    10783   8522   12642\n",
       "1  2019  AC  1 - Indústria   2372     2540   2837       0\n",
       "2  2019  AM  1 - Indústria   8308    16948  40635   41806\n",
       "3  2019  RR  1 - Indústria   1415     1426   1080     543\n",
       "4  2019  PA  1 - Indústria  16603    23729  26954   42678"
      ],
      "text/html": [
       "<div>\n",
       "<style scoped>\n",
       "    .dataframe tbody tr th:only-of-type {\n",
       "        vertical-align: middle;\n",
       "    }\n",
       "\n",
       "    .dataframe tbody tr th {\n",
       "        vertical-align: top;\n",
       "    }\n",
       "\n",
       "    .dataframe thead th {\n",
       "        text-align: right;\n",
       "    }\n",
       "</style>\n",
       "<table border=\"1\" class=\"dataframe\">\n",
       "  <thead>\n",
       "    <tr style=\"text-align: right;\">\n",
       "      <th></th>\n",
       "      <th>Ano</th>\n",
       "      <th>UF</th>\n",
       "      <th>Setor Gr IBGE</th>\n",
       "      <th>Micro</th>\n",
       "      <th>Pequena</th>\n",
       "      <th>Média</th>\n",
       "      <th>Grande</th>\n",
       "    </tr>\n",
       "  </thead>\n",
       "  <tbody>\n",
       "    <tr>\n",
       "      <th>0</th>\n",
       "      <td>2019</td>\n",
       "      <td>RO</td>\n",
       "      <td>1 - Indústria</td>\n",
       "      <td>9493</td>\n",
       "      <td>10783</td>\n",
       "      <td>8522</td>\n",
       "      <td>12642</td>\n",
       "    </tr>\n",
       "    <tr>\n",
       "      <th>1</th>\n",
       "      <td>2019</td>\n",
       "      <td>AC</td>\n",
       "      <td>1 - Indústria</td>\n",
       "      <td>2372</td>\n",
       "      <td>2540</td>\n",
       "      <td>2837</td>\n",
       "      <td>0</td>\n",
       "    </tr>\n",
       "    <tr>\n",
       "      <th>2</th>\n",
       "      <td>2019</td>\n",
       "      <td>AM</td>\n",
       "      <td>1 - Indústria</td>\n",
       "      <td>8308</td>\n",
       "      <td>16948</td>\n",
       "      <td>40635</td>\n",
       "      <td>41806</td>\n",
       "    </tr>\n",
       "    <tr>\n",
       "      <th>3</th>\n",
       "      <td>2019</td>\n",
       "      <td>RR</td>\n",
       "      <td>1 - Indústria</td>\n",
       "      <td>1415</td>\n",
       "      <td>1426</td>\n",
       "      <td>1080</td>\n",
       "      <td>543</td>\n",
       "    </tr>\n",
       "    <tr>\n",
       "      <th>4</th>\n",
       "      <td>2019</td>\n",
       "      <td>PA</td>\n",
       "      <td>1 - Indústria</td>\n",
       "      <td>16603</td>\n",
       "      <td>23729</td>\n",
       "      <td>26954</td>\n",
       "      <td>42678</td>\n",
       "    </tr>\n",
       "  </tbody>\n",
       "</table>\n",
       "</div>"
      ]
     },
     "metadata": {},
     "execution_count": 5
    }
   ],
   "metadata": {}
  },
  {
   "cell_type": "code",
   "execution_count": 6,
   "source": [
    "## Veryfing sectors.\n",
    "df['Setor Gr IBGE'].unique()"
   ],
   "outputs": [
    {
     "output_type": "execute_result",
     "data": {
      "text/plain": [
       "array(['1 - Indústria', '2 - Construção Civil', '5 - Agropecuária'],\n",
       "      dtype=object)"
      ]
     },
     "metadata": {},
     "execution_count": 6
    }
   ],
   "metadata": {}
  },
  {
   "cell_type": "code",
   "execution_count": 7,
   "source": [
    "## Adjusting names to a standard lower case, no numbers, no spaces and no special characters.\n",
    "setor = df['Setor Gr IBGE'].tolist()\n",
    "regex = '^\\\\d\\\\s-\\\\s'\n"
   ],
   "outputs": [],
   "metadata": {}
  },
  {
   "cell_type": "code",
   "execution_count": 8,
   "source": [
    "## Inputing adjusted setor to df\n",
    "df['Setor Gr IBGE'] = strip_upper(setor, regex)\n",
    "print(df['Setor Gr IBGE'].unique())\n",
    "df.head()"
   ],
   "outputs": [
    {
     "output_type": "stream",
     "name": "stdout",
     "text": [
      "['INDUSTRIA' 'CONSTRUCAO CIVIL' 'AGROPECUARIA']\n"
     ]
    },
    {
     "output_type": "execute_result",
     "data": {
      "text/plain": [
       "    Ano  UF Setor Gr IBGE  Micro  Pequena  Média  Grande\n",
       "0  2019  RO     INDUSTRIA   9493    10783   8522   12642\n",
       "1  2019  AC     INDUSTRIA   2372     2540   2837       0\n",
       "2  2019  AM     INDUSTRIA   8308    16948  40635   41806\n",
       "3  2019  RR     INDUSTRIA   1415     1426   1080     543\n",
       "4  2019  PA     INDUSTRIA  16603    23729  26954   42678"
      ],
      "text/html": [
       "<div>\n",
       "<style scoped>\n",
       "    .dataframe tbody tr th:only-of-type {\n",
       "        vertical-align: middle;\n",
       "    }\n",
       "\n",
       "    .dataframe tbody tr th {\n",
       "        vertical-align: top;\n",
       "    }\n",
       "\n",
       "    .dataframe thead th {\n",
       "        text-align: right;\n",
       "    }\n",
       "</style>\n",
       "<table border=\"1\" class=\"dataframe\">\n",
       "  <thead>\n",
       "    <tr style=\"text-align: right;\">\n",
       "      <th></th>\n",
       "      <th>Ano</th>\n",
       "      <th>UF</th>\n",
       "      <th>Setor Gr IBGE</th>\n",
       "      <th>Micro</th>\n",
       "      <th>Pequena</th>\n",
       "      <th>Média</th>\n",
       "      <th>Grande</th>\n",
       "    </tr>\n",
       "  </thead>\n",
       "  <tbody>\n",
       "    <tr>\n",
       "      <th>0</th>\n",
       "      <td>2019</td>\n",
       "      <td>RO</td>\n",
       "      <td>INDUSTRIA</td>\n",
       "      <td>9493</td>\n",
       "      <td>10783</td>\n",
       "      <td>8522</td>\n",
       "      <td>12642</td>\n",
       "    </tr>\n",
       "    <tr>\n",
       "      <th>1</th>\n",
       "      <td>2019</td>\n",
       "      <td>AC</td>\n",
       "      <td>INDUSTRIA</td>\n",
       "      <td>2372</td>\n",
       "      <td>2540</td>\n",
       "      <td>2837</td>\n",
       "      <td>0</td>\n",
       "    </tr>\n",
       "    <tr>\n",
       "      <th>2</th>\n",
       "      <td>2019</td>\n",
       "      <td>AM</td>\n",
       "      <td>INDUSTRIA</td>\n",
       "      <td>8308</td>\n",
       "      <td>16948</td>\n",
       "      <td>40635</td>\n",
       "      <td>41806</td>\n",
       "    </tr>\n",
       "    <tr>\n",
       "      <th>3</th>\n",
       "      <td>2019</td>\n",
       "      <td>RR</td>\n",
       "      <td>INDUSTRIA</td>\n",
       "      <td>1415</td>\n",
       "      <td>1426</td>\n",
       "      <td>1080</td>\n",
       "      <td>543</td>\n",
       "    </tr>\n",
       "    <tr>\n",
       "      <th>4</th>\n",
       "      <td>2019</td>\n",
       "      <td>PA</td>\n",
       "      <td>INDUSTRIA</td>\n",
       "      <td>16603</td>\n",
       "      <td>23729</td>\n",
       "      <td>26954</td>\n",
       "      <td>42678</td>\n",
       "    </tr>\n",
       "  </tbody>\n",
       "</table>\n",
       "</div>"
      ]
     },
     "metadata": {},
     "execution_count": 8
    }
   ],
   "metadata": {}
  },
  {
   "cell_type": "markdown",
   "source": [
    "## 1.2 Transformação\n",
    "\n",
    "Para mesclar os dados com o dataset de financiamento, precisamos deixar esses dados dispostos de uma maneira diferente.\n",
    "\n",
    "Observando o dataset, percebese que para cada segmento de tamanho da empresa, os dados estão ajustando na coluna. Usando a função melt(), podemos transformar as colunas de tamanho em colunas de categorias de tamanho e valores resultantes.\n",
    "\n",
    "Desta forma, apenas precisamos ajustar a disposição do dataset para acomodar este novo formato:"
   ],
   "metadata": {}
  },
  {
   "cell_type": "code",
   "execution_count": 9,
   "source": [
    "## Slicing dataset: Return categorial information and numeric information in separate datasets.\n",
    "df_cat = df.iloc[:, 0:3] \n",
    "df_data = df.iloc[:, 3:]"
   ],
   "outputs": [],
   "metadata": {}
  },
  {
   "cell_type": "code",
   "execution_count": 10,
   "source": [
    "## Returning df_cat with 4 times (number of categories) its size.\n",
    "df_cat = pd.concat([df_cat] * 4, ignore_index = True)\n",
    "len(df_cat)"
   ],
   "outputs": [
    {
     "output_type": "execute_result",
     "data": {
      "text/plain": [
       "5832"
      ]
     },
     "metadata": {},
     "execution_count": 10
    }
   ],
   "metadata": {}
  },
  {
   "cell_type": "code",
   "execution_count": 11,
   "source": [
    "## Melting numeric data.\n",
    "df_data = df_data.melt()"
   ],
   "outputs": [],
   "metadata": {}
  },
  {
   "cell_type": "code",
   "execution_count": 12,
   "source": [
    "len(df_data)"
   ],
   "outputs": [
    {
     "output_type": "execute_result",
     "data": {
      "text/plain": [
       "5832"
      ]
     },
     "metadata": {},
     "execution_count": 12
    }
   ],
   "metadata": {}
  },
  {
   "cell_type": "code",
   "execution_count": 13,
   "source": [
    "## Joining dataset\n",
    "df_cat['porte_do_cliente'] = df_data['variable']\n",
    "df_cat['num_empregados'] = df_data['value']"
   ],
   "outputs": [],
   "metadata": {}
  },
  {
   "cell_type": "code",
   "execution_count": 14,
   "source": [
    "## Setting header names\n",
    "df_cat.columns = ['ano', 'uf', 'setor', 'porte_do_cliente', 'num_empregados']"
   ],
   "outputs": [],
   "metadata": {}
  },
  {
   "cell_type": "code",
   "execution_count": 15,
   "source": [
    "df_cat.tail()"
   ],
   "outputs": [
    {
     "output_type": "execute_result",
     "data": {
      "text/plain": [
       "       ano  uf         setor porte_do_cliente  num_empregados\n",
       "5827  2002  RS  AGROPECUARIA           Grande            2016\n",
       "5828  2002  MS  AGROPECUARIA           Grande               0\n",
       "5829  2002  MT  AGROPECUARIA           Grande            1583\n",
       "5830  2002  GO  AGROPECUARIA           Grande             664\n",
       "5831  2002  DF  AGROPECUARIA           Grande             608"
      ],
      "text/html": [
       "<div>\n",
       "<style scoped>\n",
       "    .dataframe tbody tr th:only-of-type {\n",
       "        vertical-align: middle;\n",
       "    }\n",
       "\n",
       "    .dataframe tbody tr th {\n",
       "        vertical-align: top;\n",
       "    }\n",
       "\n",
       "    .dataframe thead th {\n",
       "        text-align: right;\n",
       "    }\n",
       "</style>\n",
       "<table border=\"1\" class=\"dataframe\">\n",
       "  <thead>\n",
       "    <tr style=\"text-align: right;\">\n",
       "      <th></th>\n",
       "      <th>ano</th>\n",
       "      <th>uf</th>\n",
       "      <th>setor</th>\n",
       "      <th>porte_do_cliente</th>\n",
       "      <th>num_empregados</th>\n",
       "    </tr>\n",
       "  </thead>\n",
       "  <tbody>\n",
       "    <tr>\n",
       "      <th>5827</th>\n",
       "      <td>2002</td>\n",
       "      <td>RS</td>\n",
       "      <td>AGROPECUARIA</td>\n",
       "      <td>Grande</td>\n",
       "      <td>2016</td>\n",
       "    </tr>\n",
       "    <tr>\n",
       "      <th>5828</th>\n",
       "      <td>2002</td>\n",
       "      <td>MS</td>\n",
       "      <td>AGROPECUARIA</td>\n",
       "      <td>Grande</td>\n",
       "      <td>0</td>\n",
       "    </tr>\n",
       "    <tr>\n",
       "      <th>5829</th>\n",
       "      <td>2002</td>\n",
       "      <td>MT</td>\n",
       "      <td>AGROPECUARIA</td>\n",
       "      <td>Grande</td>\n",
       "      <td>1583</td>\n",
       "    </tr>\n",
       "    <tr>\n",
       "      <th>5830</th>\n",
       "      <td>2002</td>\n",
       "      <td>GO</td>\n",
       "      <td>AGROPECUARIA</td>\n",
       "      <td>Grande</td>\n",
       "      <td>664</td>\n",
       "    </tr>\n",
       "    <tr>\n",
       "      <th>5831</th>\n",
       "      <td>2002</td>\n",
       "      <td>DF</td>\n",
       "      <td>AGROPECUARIA</td>\n",
       "      <td>Grande</td>\n",
       "      <td>608</td>\n",
       "    </tr>\n",
       "  </tbody>\n",
       "</table>\n",
       "</div>"
      ]
     },
     "metadata": {},
     "execution_count": 15
    }
   ],
   "metadata": {}
  },
  {
   "cell_type": "code",
   "execution_count": 19,
   "source": [
    "## Catching a random row to verify values\n",
    "print(df_cat.iloc[3672, :])"
   ],
   "outputs": [
    {
     "output_type": "stream",
     "name": "stdout",
     "text": [
      "ano                             2009\n",
      "uf                                RO\n",
      "setor               CONSTRUCAO CIVIL\n",
      "porte_do_cliente               Média\n",
      "num_empregados                  5741\n",
      "Name: 3672, dtype: object\n"
     ]
    }
   ],
   "metadata": {}
  },
  {
   "cell_type": "code",
   "execution_count": 21,
   "source": [
    "## Returning equivalent row in original dataset\n",
    "df_original.loc[(df_original['Ano'] == 2009) & (df_original['UF'] == '11 - Rondônia')]"
   ],
   "outputs": [
    {
     "output_type": "execute_result",
     "data": {
      "text/plain": [
       "       Ano             UF         Setor Gr IBGE  Micro  Pequena  Média  Grande\n",
       "270   2009  11 - Rondônia         1 - Indústria   9922    12798   6820    5196\n",
       "756   2009  11 - Rondônia  2 - Construção Civil   2861     4549   5741   14529\n",
       "1242  2009  11 - Rondônia      5 - Agropecuária   7675     1774    499       0"
      ],
      "text/html": [
       "<div>\n",
       "<style scoped>\n",
       "    .dataframe tbody tr th:only-of-type {\n",
       "        vertical-align: middle;\n",
       "    }\n",
       "\n",
       "    .dataframe tbody tr th {\n",
       "        vertical-align: top;\n",
       "    }\n",
       "\n",
       "    .dataframe thead th {\n",
       "        text-align: right;\n",
       "    }\n",
       "</style>\n",
       "<table border=\"1\" class=\"dataframe\">\n",
       "  <thead>\n",
       "    <tr style=\"text-align: right;\">\n",
       "      <th></th>\n",
       "      <th>Ano</th>\n",
       "      <th>UF</th>\n",
       "      <th>Setor Gr IBGE</th>\n",
       "      <th>Micro</th>\n",
       "      <th>Pequena</th>\n",
       "      <th>Média</th>\n",
       "      <th>Grande</th>\n",
       "    </tr>\n",
       "  </thead>\n",
       "  <tbody>\n",
       "    <tr>\n",
       "      <th>270</th>\n",
       "      <td>2009</td>\n",
       "      <td>11 - Rondônia</td>\n",
       "      <td>1 - Indústria</td>\n",
       "      <td>9922</td>\n",
       "      <td>12798</td>\n",
       "      <td>6820</td>\n",
       "      <td>5196</td>\n",
       "    </tr>\n",
       "    <tr>\n",
       "      <th>756</th>\n",
       "      <td>2009</td>\n",
       "      <td>11 - Rondônia</td>\n",
       "      <td>2 - Construção Civil</td>\n",
       "      <td>2861</td>\n",
       "      <td>4549</td>\n",
       "      <td>5741</td>\n",
       "      <td>14529</td>\n",
       "    </tr>\n",
       "    <tr>\n",
       "      <th>1242</th>\n",
       "      <td>2009</td>\n",
       "      <td>11 - Rondônia</td>\n",
       "      <td>5 - Agropecuária</td>\n",
       "      <td>7675</td>\n",
       "      <td>1774</td>\n",
       "      <td>499</td>\n",
       "      <td>0</td>\n",
       "    </tr>\n",
       "  </tbody>\n",
       "</table>\n",
       "</div>"
      ]
     },
     "metadata": {},
     "execution_count": 21
    }
   ],
   "metadata": {}
  },
  {
   "cell_type": "code",
   "execution_count": 22,
   "source": [
    "## Upper porte_do_cliente categories\n",
    "porte_list = df_cat['porte_do_cliente'].tolist()\n",
    "df_cat['porte_do_cliente'] = strip_upper(porte_list, regex)"
   ],
   "outputs": [],
   "metadata": {}
  },
  {
   "cell_type": "code",
   "execution_count": 24,
   "source": [
    "## Overview ajusted dataset\n",
    "df_cat.tail()"
   ],
   "outputs": [
    {
     "output_type": "execute_result",
     "data": {
      "text/plain": [
       "       ano  uf         setor porte_do_cliente  num_empregados\n",
       "5827  2002  RS  AGROPECUARIA           GRANDE            2016\n",
       "5828  2002  MS  AGROPECUARIA           GRANDE               0\n",
       "5829  2002  MT  AGROPECUARIA           GRANDE            1583\n",
       "5830  2002  GO  AGROPECUARIA           GRANDE             664\n",
       "5831  2002  DF  AGROPECUARIA           GRANDE             608"
      ],
      "text/html": [
       "<div>\n",
       "<style scoped>\n",
       "    .dataframe tbody tr th:only-of-type {\n",
       "        vertical-align: middle;\n",
       "    }\n",
       "\n",
       "    .dataframe tbody tr th {\n",
       "        vertical-align: top;\n",
       "    }\n",
       "\n",
       "    .dataframe thead th {\n",
       "        text-align: right;\n",
       "    }\n",
       "</style>\n",
       "<table border=\"1\" class=\"dataframe\">\n",
       "  <thead>\n",
       "    <tr style=\"text-align: right;\">\n",
       "      <th></th>\n",
       "      <th>ano</th>\n",
       "      <th>uf</th>\n",
       "      <th>setor</th>\n",
       "      <th>porte_do_cliente</th>\n",
       "      <th>num_empregados</th>\n",
       "    </tr>\n",
       "  </thead>\n",
       "  <tbody>\n",
       "    <tr>\n",
       "      <th>5827</th>\n",
       "      <td>2002</td>\n",
       "      <td>RS</td>\n",
       "      <td>AGROPECUARIA</td>\n",
       "      <td>GRANDE</td>\n",
       "      <td>2016</td>\n",
       "    </tr>\n",
       "    <tr>\n",
       "      <th>5828</th>\n",
       "      <td>2002</td>\n",
       "      <td>MS</td>\n",
       "      <td>AGROPECUARIA</td>\n",
       "      <td>GRANDE</td>\n",
       "      <td>0</td>\n",
       "    </tr>\n",
       "    <tr>\n",
       "      <th>5829</th>\n",
       "      <td>2002</td>\n",
       "      <td>MT</td>\n",
       "      <td>AGROPECUARIA</td>\n",
       "      <td>GRANDE</td>\n",
       "      <td>1583</td>\n",
       "    </tr>\n",
       "    <tr>\n",
       "      <th>5830</th>\n",
       "      <td>2002</td>\n",
       "      <td>GO</td>\n",
       "      <td>AGROPECUARIA</td>\n",
       "      <td>GRANDE</td>\n",
       "      <td>664</td>\n",
       "    </tr>\n",
       "    <tr>\n",
       "      <th>5831</th>\n",
       "      <td>2002</td>\n",
       "      <td>DF</td>\n",
       "      <td>AGROPECUARIA</td>\n",
       "      <td>GRANDE</td>\n",
       "      <td>608</td>\n",
       "    </tr>\n",
       "  </tbody>\n",
       "</table>\n",
       "</div>"
      ]
     },
     "metadata": {},
     "execution_count": 24
    }
   ],
   "metadata": {}
  },
  {
   "cell_type": "code",
   "execution_count": 25,
   "source": [
    "## Exporting adjusted dataset\n",
    "df_cat.to_csv('bases-auxiliares/CAGED-ajustado.csv',\n",
    "                   index=False, header=True)\n"
   ],
   "outputs": [],
   "metadata": {}
  }
 ],
 "metadata": {
  "orig_nbformat": 4,
  "language_info": {
   "name": "python",
   "version": "3.9.6",
   "mimetype": "text/x-python",
   "codemirror_mode": {
    "name": "ipython",
    "version": 3
   },
   "pygments_lexer": "ipython3",
   "nbconvert_exporter": "python",
   "file_extension": ".py"
  },
  "kernelspec": {
   "name": "python3",
   "display_name": "Python 3.9.6 64-bit ('dados-abertos': venv)"
  },
  "interpreter": {
   "hash": "1d941c93d37f459bccd78a691d83d4424a13868c9a91f8dd5dc1bbe19462440e"
  }
 },
 "nbformat": 4,
 "nbformat_minor": 2
}