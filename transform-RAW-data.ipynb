{
    "cells": [
        {
            "cell_type": "markdown",
            "source": [
                "# 1. Introdução"
            ],
            "metadata": {}
        },
        {
            "cell_type": "markdown",
            "source": [
                "Os objetivos deste notebook auxiliar são listados a seguir: \n",
                "- Acessar de forma programática os dados de operações de financiamento não automáticas do BNDES\n",
                "- Explorar as categorias de setor e subsetor do bndes\n",
                "- Padronizar o formato das variáveis e seus valores\n",
                "- Deflacionar os dados de desembolso, usando o índice IGPM com base no mês de dezembro de 2010 (mesma base dos dados do PIB).\n",
                "- Agregar a base com os dados do número de empregos e emissão de CO2 formatadas nos notebooks: auxCAGED e auxSEEG.\n",
                "- Agregar a base com dados do PIB.\n",
                "- Agregar a base com dados de IDH."
            ],
            "metadata": {}
        },
        {
            "cell_type": "markdown",
            "source": [
                "## 1.1 - Dados de operações de financiamento não automáticas\n",
                "\n",
                "### Overview do dataset\n",
                "Operações contratadas diretamente com o BNDES e operações contratadas via agente financeiro (indiretas) que foram revisadas por analistas do BNDES. O critério principal para seja feita análise manual de operações indiretas é o valor.\n",
                "\n",
                "### Contratos e subcréditos\n",
                "Cada contrato pode ter um ou mais subcréditos, sendo que cada subscrédito pode ser caracterizado por condições financeiras distintas.\n",
                "\n",
                "O somatório dos valores dos subcréditos equivale ao valor total do contrato.\n",
                "\n",
                "Cada linha corresponde a um subcrédito diferente.\n",
                "\n",
                "### Valor contratado e desembolsado em R$\n",
                "O valor contratado das operações do BNDES pode ser corrigido por algum indexador (US$, IPCA, TJLP etc), caso haja previsão no contrato.\n",
                "\n",
                "O valor contratado em R$ representa o valor convertido com base na data do contrato e no indexador.\n",
                "\n",
                "O valor desembolsado representa o valor liberado convertido com base na data do desembolso e no indexador. Desta forma, caso haja variação positiva do indexador, entre a data do contrato e a data do desembolso, o valor desembolsado pode ser maior que o valor contratado."
            ],
            "metadata": {}
        },
        {
            "cell_type": "markdown",
            "source": [
                "## 1.2 - Dados do SEEG\n",
                "O Sistema de Estimativas de Emissões e Remoções de Gases de Efeito Estufa(SEEG), desenvolvido pelo Observatório do Clima, disponibiliza estimativas anuais das emissões de gases de efeito estufa(GEE) no Brasil. São considerados os gases de efeito estufa(como CO2, CH4, N2O, os HFCs, e apresentados como CO2e) e avaliados todos os cinco setores que são fontes de emissões – Agropecuária, Energia, Mudanças de Uso da Terra, Processos Industriais e Resíduos, em cidades e estados do Brasil.\n",
                "\n",
                "As estimativas são feitas de acordo com as diretrizes do Painel Intergovernamental sobre Mudanças Climáticas(IPCC), com base na metodologia dos Inventários Brasileiros de Emissões e Remoções Antrópicas de Gases do Efeito Estufa, elaborado pelo Ministério da Ciência, Tecnologia e Inovação(MCTI), e em dados obtidos junto a relatórios governamentais, institutos, centros de pesquisa, entidades setoriais e organizações não governamentais\n",
                "\n",
                "Essas informações podem ser encontradas no site do SEEG (http://seeg.eco.br/), onde também é possível visualizar e fazer download das estimativas, assim como ver detalhes sobre a metodologia e a qualidade dos dados. Link para artigo com a metodologia do SEEG, publicado na NATURE, em 2018: https://www.nature.com/articles/sdata201845.\n"
            ],
            "metadata": {}
        },
        {
            "cell_type": "markdown",
            "source": [
                "Foi usado o gás co2e(t) GWP-AR5 como medida de emissão, pois o CO2e (CO2 equivalente) converte todas as outras medidas e gases em CO2. O GWP é a métrica de conversão mais comum, com base na energia e potencial de aquecimento. O AR5 é o mais recente.\n",
                "\n",
                "O agrupamento para o setor Agrícola e Industrial foi definido a partir da segmentação indicada pelo SEEG (imagem a baixo).\n",
                "Dessa forma, a classificação final de grande setor foi a seguinte:\n",
                "\n",
                "- Agropecuária = Agropecuária (nível 1) + Mudança de Uso da Terra e Florestas (nível 1)\n",
                "- Indústria = Processos Industriais (nivel 1)\n",
                "\n",
                "Nota-se que uma pequena fração da emissão agropecuária vem de resíduos, e cerca de 20% da emissão industrial vem de energia. \n",
                "Para agregar estes dados, é necessário iterar por inúmeras tabelas do SEEG que iriam consumir grande parte do tempo disponível para o concurso, por isso é importante ressaltar que as emissões não estár 100% ajustadas. Essa sugestão fica para futuros trabalhos, que podem inclusive segmentar a emissão por nível 3 e conseguir maior granularidade na análise.\n",
                "\n",
                "Adicionalmente, analisaremos apenas emissao de co2, e não remoção."
            ],
            "metadata": {}
        },
        {
            "cell_type": "markdown",
            "source": [
                "![Categorias SEEG](./img/categorias_seeg.jpg)"
            ],
            "metadata": {}
        },
        {
            "cell_type": "markdown",
            "source": [
                "## 1.3 - Dados do CAGED\n",
                "Foram recolhidos dados do número de empregos formais da plataforma CAGED do governo. Os dados estão segmentados por ano, setor, estado e tamanho da empresa.\n",
                "\n",
                "A classificação do tamanho da empresa foi realizada através do padrão adotado no CAGED, que segue o seguinte formato:\n",
                "\n",
                "Micro: com até 19 empregados.\n",
                "Pequena: de 20 a 99 empregados.\n",
                "Média: 100 a 499 empregados.\n",
                "Grande: mais de 500 empregados.\n",
                "\n",
                "Os dados estão disponíveis para consulta no seguinte endereço: bi.mte.gov.br/bgcaged"
            ],
            "metadata": {}
        },
        {
            "cell_type": "markdown",
            "source": [
                "## 1.4 - Dados do PIB\n",
                "Foram levantados dados do produto interno bruto do setor Industrial e Agrícola, para os anos de 2002 a 2017 de todos os estados brasileiros.\n",
                "\n",
                "Os dados estão em escala de R$1000,00, com a PIB real em valores de 2010 pelo deflator implícito do PIB nacional.\n",
                "Esta escala será revertida para o valor em unidade de real.\n",
                "\n",
                "Os dados do pib estão disponíveis em: http://www.ipeadata.gov.br/Default.aspx"
            ],
            "metadata": {}
        },
        {
            "cell_type": "markdown",
            "source": [
                "## 1.5 - Dados de IDH\n",
                "Neste trabalho serão usados dados apenas do IDHM, pois fazem parte do escopo que busca-se analisar.\n",
                "Os dados de IDH estão disponíveis para os estados brasileiros nos anos de 2010, 2016 e 2017.\n",
                "\n",
                "Dados disponíveis em: http://www.atlasbrasil.org.br/ranking"
            ],
            "metadata": {}
        },
        {
            "cell_type": "markdown",
            "source": [
                "# 2. Carregando dados e dependências"
            ],
            "metadata": {}
        },
        {
            "cell_type": "markdown",
            "source": [
                "## 2.1 Importando dependências\n",
                "\n",
                "Importando as bibliotecas necessárias para as etapas inicias de carregamento de dados, exploração e transformação."
            ],
            "metadata": {}
        },
        {
            "cell_type": "code",
            "execution_count": 1,
            "source": [
                "## Load dependencies.\n",
                "import pandas as pd\n",
                "import json\n",
                "import requests\n",
                "import numpy as np\n",
                "from global_functions import strip_upper\n",
                "from global_functions import map_values_caged\n",
                "from global_functions import map_values_general\n",
                "from global_functions import quote\n",
                "from global_functions import melt_pib\n",
                "from global_functions import search_info"
            ],
            "outputs": [],
            "metadata": {}
        },
        {
            "cell_type": "markdown",
            "source": [
                "## 2.1 Carregando dados através da API CKAN."
            ],
            "metadata": {}
        },
        {
            "cell_type": "markdown",
            "source": [
                "A base de dados carregada aqui é referente as operações de financiamento não automáticas dos dados abertos do BNDES."
            ],
            "metadata": {}
        },
        {
            "cell_type": "code",
            "execution_count": 2,
            "source": [
                "## Define resource identifier and server to create our URL string for an API request.\n",
                "res_id = '332d446e-d340-46ef-af64-ee6f36e7bd50' ## Operações de financiamento não automáticas.\n",
                "server = 'https://dadosabertos.bndes.gov.br'\n",
                "\n",
                "## Define query limit.\n",
                "limit = 20000\n",
                "\n",
                "## Define filters.\n",
                "## This project works with only those sectors.\n",
                "filters = quote({'setor_bndes': ['INFRAESTRUTURA', 'INDUSTRIA', 'AGROPECUÁRIA']})\n",
                "                 \n",
                "## Define fields to query.\n",
                "fields = 'cliente,cnpj,uf, numero_do_contrato, data_da_contratacao,valor_contratado_reais, \\\n",
                "            valor_desembolsado_reais,fonte_de_recurso_desembolsos,custo_financeiro, \\\n",
                "            juros,prazo_carencia_meses,prazo_amortizacao_meses,modalidade_de_apoio,produto, \\\n",
                "            instrumento_financeiro,inovacao,area_operacional,setor_bndes,subsetor_bndes, \\\n",
                "            porte_do_cliente,natureza_do_cliente,tipo_de_garantia,situacao_do_contrato'\n",
                "\n",
                "## Create query url.\n",
                "query = (f\"{server}/api/3/action/datastore_search?resource_id={res_id}\"\n",
                "         f\"&filters={filters}&fields={fields}&limit={limit}\")\n",
                "\n",
                "print('Url para consulta:', query)"
            ],
            "outputs": [
                {
                    "output_type": "stream",
                    "name": "stdout",
                    "text": [
                        "Url para consulta: https://dadosabertos.bndes.gov.br/api/3/action/datastore_search?resource_id=332d446e-d340-46ef-af64-ee6f36e7bd50&filters=%7B%22setor_bndes%22%3A%20%5B%22INFRAESTRUTURA%22%2C%20%22INDUSTRIA%22%2C%20%22AGROPECU%5Cu00c1RIA%22%5D%7D&fields=cliente,cnpj,uf, numero_do_contrato, data_da_contratacao,valor_contratado_reais,             valor_desembolsado_reais,fonte_de_recurso_desembolsos,custo_financeiro,             juros,prazo_carencia_meses,prazo_amortizacao_meses,modalidade_de_apoio,produto,             instrumento_financeiro,inovacao,area_operacional,setor_bndes,subsetor_bndes,             porte_do_cliente,natureza_do_cliente,tipo_de_garantia,situacao_do_contrato&limit=20000\n"
                    ]
                }
            ],
            "metadata": {}
        },
        {
            "cell_type": "code",
            "execution_count": 3,
            "source": [
                "## Request dataset.\n",
                "try:\n",
                "    data = requests.get(query)\n",
                "    if data.json()['success'] == True:\n",
                "        df_fin = pd.DataFrame(data.json()['result']['records'])\n",
                "\n",
                "    else:\n",
                "        print(data.json()['error'])\n",
                "except:\n",
                "    data.raise_for_status()\n"
            ],
            "outputs": [],
            "metadata": {}
        },
        {
            "cell_type": "markdown",
            "source": [
                "# 3. Data wrangling - Transformando e mapeando os dados para análise.\n"
            ],
            "metadata": {}
        },
        {
            "cell_type": "markdown",
            "source": [
                "## 3.1 Explorando o dataset 'Operações não automáticas'"
            ],
            "metadata": {}
        },
        {
            "cell_type": "code",
            "execution_count": 4,
            "source": [
                "## Overview of the dataset.\n",
                "df_fin.head()"
            ],
            "outputs": [
                {
                    "output_type": "execute_result",
                    "data": {
                        "text/plain": [
                            "                                             cliente                cnpj  uf  \\\n",
                            "0  ELETROPAULO METROPOLITANA ELETRICIDADE DE SAO ...  61.695.227/0001-93  SP   \n",
                            "1                                VIDEOLAR-INNOVA S/A  04.229.761/0001-70  AM   \n",
                            "2                                VIDEOLAR-INNOVA S/A  04.229.761/0001-70  AM   \n",
                            "3                                VIDEOLAR-INNOVA S/A  04.229.761/0001-70  AM   \n",
                            "4                                    USINA CAETE S A  12.282.034/0001-03  AL   \n",
                            "\n",
                            "   numero_do_contrato  data_da_contratacao  valor_contratado_reais  \\\n",
                            "0             2204531  2002-02-04T00:00:00            1.820297e+08   \n",
                            "1             1235151  2002-01-10T00:00:00            5.000000e+05   \n",
                            "2             1235151  2002-01-10T00:00:00            5.714000e+06   \n",
                            "3             1235151  2002-01-10T00:00:00            2.968000e+07   \n",
                            "4             1252231  2002-01-11T00:00:00            6.323444e+06   \n",
                            "\n",
                            "   valor_desembolsado_reais  \\\n",
                            "0              1.820297e+08   \n",
                            "1              5.339624e+05   \n",
                            "2              5.340896e+06   \n",
                            "3              2.999406e+07   \n",
                            "4              6.408000e+06   \n",
                            "\n",
                            "                        fonte_de_recurso_desembolsos custo_financeiro  juros  \\\n",
                            "0                          RECURSOS LIVRES - TESOURO        TAXA FIXA    1.0   \n",
                            "1  RECURSOS LIVRES - FAT / RECURSOS LIVRES - PRÓP...             TJLP    1.0   \n",
                            "2  RECURSOS LIVRES - FAT / RECURSOS LIVRES - PRÓP...      US$ / CESTA    4.5   \n",
                            "3  RECURSOS LIVRES - FAT / RECURSOS LIVRES - PRÓP...             TJLP    4.5   \n",
                            "4  RECURSOS LIVRES - PRÓPRIOS / RECURSOS VINCULAD...             TJLP    3.5   \n",
                            "\n",
                            "   ...      produto  instrumento_financeiro inovacao  \\\n",
                            "0  ...  BNDES FINEM                  OUTROS      NÃO   \n",
                            "1  ...  BNDES FINEM                  OUTROS      NÃO   \n",
                            "2  ...  BNDES FINEM                  OUTROS      NÃO   \n",
                            "3  ...  BNDES FINEM                  OUTROS      NÃO   \n",
                            "4  ...  BNDES FINEM                  OUTROS      NÃO   \n",
                            "\n",
                            "               area_operacional     setor_bndes    subsetor_bndes  \\\n",
                            "0               AREA DE ENERGIA  INFRAESTRUTURA  ENERGIA ELÉTRICA   \n",
                            "1  AREA DE INDUSTRIA E SERVICOS       INDUSTRIA          MECÂNICA   \n",
                            "2  AREA DE INDUSTRIA E SERVICOS       INDUSTRIA          MECÂNICA   \n",
                            "3  AREA DE INDUSTRIA E SERVICOS       INDUSTRIA          MECÂNICA   \n",
                            "4  AREA DE INDUSTRIA E SERVICOS  INFRAESTRUTURA  ENERGIA ELÉTRICA   \n",
                            "\n",
                            "  porte_do_cliente   natureza_do_cliente tipo_de_garantia situacao_do_contrato  \n",
                            "0           GRANDE  PRIVADA                          REAL            LIQUIDADO  \n",
                            "1           GRANDE  PRIVADA                REAL / PESSOAL            LIQUIDADO  \n",
                            "2           GRANDE  PRIVADA                REAL / PESSOAL            LIQUIDADO  \n",
                            "3           GRANDE  PRIVADA                REAL / PESSOAL            LIQUIDADO  \n",
                            "4           GRANDE  PRIVADA                REAL / PESSOAL            LIQUIDADO  \n",
                            "\n",
                            "[5 rows x 23 columns]"
                        ],
                        "text/html": [
                            "<div>\n",
                            "<style scoped>\n",
                            "    .dataframe tbody tr th:only-of-type {\n",
                            "        vertical-align: middle;\n",
                            "    }\n",
                            "\n",
                            "    .dataframe tbody tr th {\n",
                            "        vertical-align: top;\n",
                            "    }\n",
                            "\n",
                            "    .dataframe thead th {\n",
                            "        text-align: right;\n",
                            "    }\n",
                            "</style>\n",
                            "<table border=\"1\" class=\"dataframe\">\n",
                            "  <thead>\n",
                            "    <tr style=\"text-align: right;\">\n",
                            "      <th></th>\n",
                            "      <th>cliente</th>\n",
                            "      <th>cnpj</th>\n",
                            "      <th>uf</th>\n",
                            "      <th>numero_do_contrato</th>\n",
                            "      <th>data_da_contratacao</th>\n",
                            "      <th>valor_contratado_reais</th>\n",
                            "      <th>valor_desembolsado_reais</th>\n",
                            "      <th>fonte_de_recurso_desembolsos</th>\n",
                            "      <th>custo_financeiro</th>\n",
                            "      <th>juros</th>\n",
                            "      <th>...</th>\n",
                            "      <th>produto</th>\n",
                            "      <th>instrumento_financeiro</th>\n",
                            "      <th>inovacao</th>\n",
                            "      <th>area_operacional</th>\n",
                            "      <th>setor_bndes</th>\n",
                            "      <th>subsetor_bndes</th>\n",
                            "      <th>porte_do_cliente</th>\n",
                            "      <th>natureza_do_cliente</th>\n",
                            "      <th>tipo_de_garantia</th>\n",
                            "      <th>situacao_do_contrato</th>\n",
                            "    </tr>\n",
                            "  </thead>\n",
                            "  <tbody>\n",
                            "    <tr>\n",
                            "      <th>0</th>\n",
                            "      <td>ELETROPAULO METROPOLITANA ELETRICIDADE DE SAO ...</td>\n",
                            "      <td>61.695.227/0001-93</td>\n",
                            "      <td>SP</td>\n",
                            "      <td>2204531</td>\n",
                            "      <td>2002-02-04T00:00:00</td>\n",
                            "      <td>1.820297e+08</td>\n",
                            "      <td>1.820297e+08</td>\n",
                            "      <td>RECURSOS LIVRES - TESOURO</td>\n",
                            "      <td>TAXA FIXA</td>\n",
                            "      <td>1.0</td>\n",
                            "      <td>...</td>\n",
                            "      <td>BNDES FINEM</td>\n",
                            "      <td>OUTROS</td>\n",
                            "      <td>NÃO</td>\n",
                            "      <td>AREA DE ENERGIA</td>\n",
                            "      <td>INFRAESTRUTURA</td>\n",
                            "      <td>ENERGIA ELÉTRICA</td>\n",
                            "      <td>GRANDE</td>\n",
                            "      <td>PRIVADA</td>\n",
                            "      <td>REAL</td>\n",
                            "      <td>LIQUIDADO</td>\n",
                            "    </tr>\n",
                            "    <tr>\n",
                            "      <th>1</th>\n",
                            "      <td>VIDEOLAR-INNOVA S/A</td>\n",
                            "      <td>04.229.761/0001-70</td>\n",
                            "      <td>AM</td>\n",
                            "      <td>1235151</td>\n",
                            "      <td>2002-01-10T00:00:00</td>\n",
                            "      <td>5.000000e+05</td>\n",
                            "      <td>5.339624e+05</td>\n",
                            "      <td>RECURSOS LIVRES - FAT / RECURSOS LIVRES - PRÓP...</td>\n",
                            "      <td>TJLP</td>\n",
                            "      <td>1.0</td>\n",
                            "      <td>...</td>\n",
                            "      <td>BNDES FINEM</td>\n",
                            "      <td>OUTROS</td>\n",
                            "      <td>NÃO</td>\n",
                            "      <td>AREA DE INDUSTRIA E SERVICOS</td>\n",
                            "      <td>INDUSTRIA</td>\n",
                            "      <td>MECÂNICA</td>\n",
                            "      <td>GRANDE</td>\n",
                            "      <td>PRIVADA</td>\n",
                            "      <td>REAL / PESSOAL</td>\n",
                            "      <td>LIQUIDADO</td>\n",
                            "    </tr>\n",
                            "    <tr>\n",
                            "      <th>2</th>\n",
                            "      <td>VIDEOLAR-INNOVA S/A</td>\n",
                            "      <td>04.229.761/0001-70</td>\n",
                            "      <td>AM</td>\n",
                            "      <td>1235151</td>\n",
                            "      <td>2002-01-10T00:00:00</td>\n",
                            "      <td>5.714000e+06</td>\n",
                            "      <td>5.340896e+06</td>\n",
                            "      <td>RECURSOS LIVRES - FAT / RECURSOS LIVRES - PRÓP...</td>\n",
                            "      <td>US$ / CESTA</td>\n",
                            "      <td>4.5</td>\n",
                            "      <td>...</td>\n",
                            "      <td>BNDES FINEM</td>\n",
                            "      <td>OUTROS</td>\n",
                            "      <td>NÃO</td>\n",
                            "      <td>AREA DE INDUSTRIA E SERVICOS</td>\n",
                            "      <td>INDUSTRIA</td>\n",
                            "      <td>MECÂNICA</td>\n",
                            "      <td>GRANDE</td>\n",
                            "      <td>PRIVADA</td>\n",
                            "      <td>REAL / PESSOAL</td>\n",
                            "      <td>LIQUIDADO</td>\n",
                            "    </tr>\n",
                            "    <tr>\n",
                            "      <th>3</th>\n",
                            "      <td>VIDEOLAR-INNOVA S/A</td>\n",
                            "      <td>04.229.761/0001-70</td>\n",
                            "      <td>AM</td>\n",
                            "      <td>1235151</td>\n",
                            "      <td>2002-01-10T00:00:00</td>\n",
                            "      <td>2.968000e+07</td>\n",
                            "      <td>2.999406e+07</td>\n",
                            "      <td>RECURSOS LIVRES - FAT / RECURSOS LIVRES - PRÓP...</td>\n",
                            "      <td>TJLP</td>\n",
                            "      <td>4.5</td>\n",
                            "      <td>...</td>\n",
                            "      <td>BNDES FINEM</td>\n",
                            "      <td>OUTROS</td>\n",
                            "      <td>NÃO</td>\n",
                            "      <td>AREA DE INDUSTRIA E SERVICOS</td>\n",
                            "      <td>INDUSTRIA</td>\n",
                            "      <td>MECÂNICA</td>\n",
                            "      <td>GRANDE</td>\n",
                            "      <td>PRIVADA</td>\n",
                            "      <td>REAL / PESSOAL</td>\n",
                            "      <td>LIQUIDADO</td>\n",
                            "    </tr>\n",
                            "    <tr>\n",
                            "      <th>4</th>\n",
                            "      <td>USINA CAETE S A</td>\n",
                            "      <td>12.282.034/0001-03</td>\n",
                            "      <td>AL</td>\n",
                            "      <td>1252231</td>\n",
                            "      <td>2002-01-11T00:00:00</td>\n",
                            "      <td>6.323444e+06</td>\n",
                            "      <td>6.408000e+06</td>\n",
                            "      <td>RECURSOS LIVRES - PRÓPRIOS / RECURSOS VINCULAD...</td>\n",
                            "      <td>TJLP</td>\n",
                            "      <td>3.5</td>\n",
                            "      <td>...</td>\n",
                            "      <td>BNDES FINEM</td>\n",
                            "      <td>OUTROS</td>\n",
                            "      <td>NÃO</td>\n",
                            "      <td>AREA DE INDUSTRIA E SERVICOS</td>\n",
                            "      <td>INFRAESTRUTURA</td>\n",
                            "      <td>ENERGIA ELÉTRICA</td>\n",
                            "      <td>GRANDE</td>\n",
                            "      <td>PRIVADA</td>\n",
                            "      <td>REAL / PESSOAL</td>\n",
                            "      <td>LIQUIDADO</td>\n",
                            "    </tr>\n",
                            "  </tbody>\n",
                            "</table>\n",
                            "<p>5 rows × 23 columns</p>\n",
                            "</div>"
                        ]
                    },
                    "metadata": {},
                    "execution_count": 4
                }
            ],
            "metadata": {}
        },
        {
            "cell_type": "code",
            "execution_count": 36,
            "source": [
                "df_fin.loc[0]"
            ],
            "outputs": [
                {
                    "output_type": "execute_result",
                    "data": {
                        "text/plain": [
                            "cliente                         ELETROPAULO METROPOLITANA ELETRICIDADE DE SAO ...\n",
                            "cnpj                                                           61.695.227/0001-93\n",
                            "uf                                                                             SP\n",
                            "numero_do_contrato                                                        2204531\n",
                            "data_da_contratacao                                           2002-02-04T00:00:00\n",
                            "valor_contratado_reais                                                182029685.4\n",
                            "valor_desembolsado_reais                                              182029685.4\n",
                            "fonte_de_recurso_desembolsos                            RECURSOS LIVRES - TESOURO\n",
                            "custo_financeiro                                                        TAXA FIXA\n",
                            "juros                                                                         1.0\n",
                            "prazo_carencia_meses                                                           63\n",
                            "prazo_amortizacao_meses                                                         8\n",
                            "modalidade_de_apoio                                                  REEMBOLSÁVEL\n",
                            "produto                                                               BNDES FINEM\n",
                            "instrumento_financeiro                                                     OUTROS\n",
                            "inovacao                                                                      NÃO\n",
                            "area_operacional                                                  AREA DE ENERGIA\n",
                            "setor_bndes                                                        INFRAESTRUTURA\n",
                            "subsetor_bndes                                                   ENERGIA ELETRICA\n",
                            "porte_do_cliente                                                           GRANDE\n",
                            "natureza_do_cliente                                          PRIVADA             \n",
                            "tipo_de_garantia                                                             REAL\n",
                            "situacao_do_contrato                                                    LIQUIDADO\n",
                            "ano                                                                       2002-02\n",
                            "igpm                                                                      217.074\n",
                            "valor_contratado_ajustado                                             377604639.0\n",
                            "Name: 0, dtype: object"
                        ]
                    },
                    "metadata": {},
                    "execution_count": 36
                }
            ],
            "metadata": {}
        },
        {
            "cell_type": "code",
            "execution_count": 14,
            "source": [
                "## Veryifing duplicated records\n",
                "df_fin.duplicated().sum()"
            ],
            "outputs": [
                {
                    "output_type": "execute_result",
                    "data": {
                        "text/plain": [
                            "541"
                        ]
                    },
                    "metadata": {},
                    "execution_count": 14
                }
            ],
            "metadata": {}
        },
        {
            "cell_type": "code",
            "execution_count": 15,
            "source": [
                "## Dropping duplicates\n",
                "df_fin = df_fin.drop_duplicates(subset=None, keep='first', inplace = False, ignore_index = True)\n"
            ],
            "outputs": [],
            "metadata": {}
        },
        {
            "cell_type": "code",
            "execution_count": 16,
            "source": [
                "## Veryifing duplicated records\n",
                "df_fin.duplicated().sum()"
            ],
            "outputs": [
                {
                    "output_type": "execute_result",
                    "data": {
                        "text/plain": [
                            "0"
                        ]
                    },
                    "metadata": {},
                    "execution_count": 16
                }
            ],
            "metadata": {}
        },
        {
            "cell_type": "code",
            "execution_count": 8,
            "source": [
                "## Dataset dimensions\n",
                "df_fin.shape"
            ],
            "outputs": [
                {
                    "output_type": "execute_result",
                    "data": {
                        "text/plain": [
                            "(14955, 23)"
                        ]
                    },
                    "metadata": {},
                    "execution_count": 8
                }
            ],
            "metadata": {}
        },
        {
            "cell_type": "code",
            "execution_count": 9,
            "source": [
                "## Veryfing NA's\n",
                "df_fin.isna().sum()"
            ],
            "outputs": [
                {
                    "output_type": "execute_result",
                    "data": {
                        "text/plain": [
                            "cliente                         0\n",
                            "cnpj                            0\n",
                            "uf                              0\n",
                            "numero_do_contrato              0\n",
                            "data_da_contratacao             0\n",
                            "valor_contratado_reais          0\n",
                            "valor_desembolsado_reais        0\n",
                            "fonte_de_recurso_desembolsos    0\n",
                            "custo_financeiro                0\n",
                            "juros                           0\n",
                            "prazo_carencia_meses            0\n",
                            "prazo_amortizacao_meses         0\n",
                            "modalidade_de_apoio             0\n",
                            "produto                         0\n",
                            "instrumento_financeiro          0\n",
                            "inovacao                        0\n",
                            "area_operacional                0\n",
                            "setor_bndes                     0\n",
                            "subsetor_bndes                  0\n",
                            "porte_do_cliente                0\n",
                            "natureza_do_cliente             0\n",
                            "tipo_de_garantia                0\n",
                            "situacao_do_contrato            0\n",
                            "dtype: int64"
                        ]
                    },
                    "metadata": {},
                    "execution_count": 9
                }
            ],
            "metadata": {}
        },
        {
            "cell_type": "code",
            "execution_count": 10,
            "source": [
                "## Printing unique bndes sector\n",
                "print(df_fin['setor_bndes'].unique())\n",
                "\n",
                "## Printing unique bndes sub sector\n",
                "print(df_fin['subsetor_bndes'].unique())\n"
            ],
            "outputs": [
                {
                    "output_type": "stream",
                    "name": "stdout",
                    "text": [
                        "['INFRAESTRUTURA' 'INDUSTRIA' 'AGROPECUÁRIA']\n",
                        "['ENERGIA ELÉTRICA' 'MECÂNICA' 'MATERIAL DE TRANSPORTE' 'AGROPECUÁRIA'\n",
                        " 'OUTROS TRANSPORTES' 'TÊXTIL E VESTUÁRIO' 'OUTRAS' 'ALIMENTO E BEBIDA'\n",
                        " 'METALURGIA E PRODUTOS' 'CONSTRUÇÃO' 'QUÍMICA E PETROQUÍMICA'\n",
                        " 'TRANSPORTE RODOVIÁRIO' 'SERV. UTILIDADE PÚBLICA' 'ATV. AUX. TRANSPORTES'\n",
                        " 'EXTRATIVA' 'TRANSPORTE FERROVIÁRIO' 'CELULOSE E PAPEL'\n",
                        " 'TELECOMUNICAÇÕES']\n"
                    ]
                }
            ],
            "metadata": {}
        },
        {
            "cell_type": "code",
            "execution_count": 17,
            "source": [
                "## Subsectors of AGROPECUÁRIA\n",
                "df_fin.loc[df_fin['setor_bndes'] == 'AGROPECUÁRIA']['subsetor_bndes'].unique()"
            ],
            "outputs": [
                {
                    "output_type": "execute_result",
                    "data": {
                        "text/plain": [
                            "array(['AGROPECUÁRIA'], dtype=object)"
                        ]
                    },
                    "metadata": {},
                    "execution_count": 17
                }
            ],
            "metadata": {}
        },
        {
            "cell_type": "code",
            "execution_count": 18,
            "source": [
                "## Subsectors of INFRAESTRUTURA\n",
                "df_fin.loc[df_fin['setor_bndes'] == 'INFRAESTRUTURA']['subsetor_bndes'].unique()\n"
            ],
            "outputs": [
                {
                    "output_type": "execute_result",
                    "data": {
                        "text/plain": [
                            "array(['ENERGIA ELÉTRICA', 'OUTROS TRANSPORTES', 'CONSTRUÇÃO',\n",
                            "       'TRANSPORTE RODOVIÁRIO', 'SERV. UTILIDADE PÚBLICA',\n",
                            "       'ATV. AUX. TRANSPORTES', 'TRANSPORTE FERROVIÁRIO',\n",
                            "       'TELECOMUNICAÇÕES'], dtype=object)"
                        ]
                    },
                    "metadata": {},
                    "execution_count": 18
                }
            ],
            "metadata": {}
        },
        {
            "cell_type": "code",
            "execution_count": 13,
            "source": [
                "## Subsectors of INDUSTRIA\n",
                "df_fin.loc[df_fin['setor_bndes'] == 'INDUSTRIA']['subsetor_bndes'].unique()\n"
            ],
            "outputs": [
                {
                    "output_type": "execute_result",
                    "data": {
                        "text/plain": [
                            "array(['MECÂNICA', 'MATERIAL DE TRANSPORTE', 'TÊXTIL E VESTUÁRIO',\n",
                            "       'OUTRAS', 'ALIMENTO E BEBIDA', 'METALURGIA E PRODUTOS',\n",
                            "       'QUÍMICA E PETROQUÍMICA', 'EXTRATIVA', 'CELULOSE E PAPEL'],\n",
                            "      dtype=object)"
                        ]
                    },
                    "metadata": {},
                    "execution_count": 13
                }
            ],
            "metadata": {}
        },
        {
            "cell_type": "code",
            "execution_count": 12,
            "source": [
                "## Type of support\n",
                "df_fin['modalidade_de_apoio'].unique()"
            ],
            "outputs": [
                {
                    "output_type": "execute_result",
                    "data": {
                        "text/plain": [
                            "array(['REEMBOLSÁVEL', 'NÃO REEMBOLSÁVEL'], dtype=object)"
                        ]
                    },
                    "metadata": {},
                    "execution_count": 12
                }
            ],
            "metadata": {}
        },
        {
            "cell_type": "code",
            "execution_count": 13,
            "source": [
                "## Print number of different supports\n",
                "print(len(df_fin.loc[df_fin['modalidade_de_apoio'] == 'REEMBOLSÁVEL']))\n",
                "print(len(df_fin.loc[df_fin['modalidade_de_apoio'] == 'NÃO REEMBOLSÁVEL']))"
            ],
            "outputs": [
                {
                    "output_type": "stream",
                    "name": "stdout",
                    "text": [
                        "14705\n",
                        "250\n"
                    ]
                }
            ],
            "metadata": {}
        },
        {
            "cell_type": "markdown",
            "source": [
                "Financimanentos não reembolsáveis são doações que o BNDES faz para cultura/esportes e outros incentivos sociais. Por terem apenas 250 observações e serem desembolsos com características diferentes das que procuramos analisar neste trabalho, iremos retirar estes dados da base."
            ],
            "metadata": {}
        },
        {
            "cell_type": "code",
            "execution_count": 19,
            "source": [
                "## Dropping type 'NÃO REEMBOLSÁVEL'.\n",
                "df_fin = df_fin.loc[df_fin['modalidade_de_apoio'] == 'REEMBOLSÁVEL']\n",
                "len(df_fin)"
            ],
            "outputs": [
                {
                    "output_type": "execute_result",
                    "data": {
                        "text/plain": [
                            "14705"
                        ]
                    },
                    "metadata": {},
                    "execution_count": 19
                }
            ],
            "metadata": {}
        },
        {
            "cell_type": "code",
            "execution_count": 20,
            "source": [
                "## Understading contract categories.\n",
                "print(df_fin['situacao_do_contrato'].unique())\n",
                "print(len(df_fin.loc[df_fin['situacao_do_contrato'] == '-']))\n"
            ],
            "outputs": [
                {
                    "output_type": "stream",
                    "name": "stdout",
                    "text": [
                        "['LIQUIDADO' 'ATIVO' '-']\n",
                        "189\n"
                    ]
                }
            ],
            "metadata": {}
        },
        {
            "cell_type": "code",
            "execution_count": 21,
            "source": [
                "## We lack information to know what '-' means in the contracts.\n",
                "## Since they can have different interpretations, they are dropped here.\n",
                "df_fin = df_fin.loc[df_fin['situacao_do_contrato'] != '-']\n",
                "len(df_fin)\n"
            ],
            "outputs": [
                {
                    "output_type": "execute_result",
                    "data": {
                        "text/plain": [
                            "14516"
                        ]
                    },
                    "metadata": {},
                    "execution_count": 21
                }
            ],
            "metadata": {}
        },
        {
            "cell_type": "markdown",
            "source": [
                "## 3.2 Padronizando a formatação dos dados"
            ],
            "metadata": {}
        },
        {
            "cell_type": "code",
            "execution_count": 22,
            "source": [
                "## Adjusting index.\n",
                "df_fin.index = pd.RangeIndex(len(df_fin.index))"
            ],
            "outputs": [],
            "metadata": {}
        },
        {
            "cell_type": "code",
            "execution_count": 23,
            "source": [
                "# Indexing a new column with year-month format\n",
                "df_fin['ano'] = pd.to_datetime(df_fin['data_da_contratacao']).dt.to_period('m')\n"
            ],
            "outputs": [],
            "metadata": {}
        },
        {
            "cell_type": "code",
            "execution_count": 24,
            "source": [
                "## Strip setor,subsetor BNDES and porte_do_cliente from special characters\n",
                "df_fin['setor_bndes'] = strip_upper(df_fin['setor_bndes'].tolist(),'')\n",
                "df_fin['subsetor_bndes'] = strip_upper(df_fin['subsetor_bndes'].tolist(), '')\n",
                "df_fin['porte_do_cliente'] = strip_upper(df_fin['porte_do_cliente'].tolist(), '')\n",
                "## Printing unique bndes sector\n",
                "print(df_fin['setor_bndes'].unique())\n",
                "\n",
                "## Printing unique bndes sub sector\n",
                "print(df_fin['subsetor_bndes'].unique())"
            ],
            "outputs": [
                {
                    "output_type": "stream",
                    "name": "stdout",
                    "text": [
                        "['INFRAESTRUTURA' 'INDUSTRIA' 'AGROPECUARIA']\n",
                        "['ENERGIA ELETRICA' 'MECANICA' 'MATERIAL DE TRANSPORTE' 'AGROPECUARIA'\n",
                        " 'OUTROS TRANSPORTES' 'TEXTIL E VESTUARIO' 'OUTRAS' 'ALIMENTO E BEBIDA'\n",
                        " 'METALURGIA E PRODUTOS' 'CONSTRUCAO' 'QUIMICA E PETROQUIMICA'\n",
                        " 'TRANSPORTE RODOVIARIO' 'SERV. UTILIDADE PUBLICA' 'ATV. AUX. TRANSPORTES'\n",
                        " 'EXTRATIVA' 'TRANSPORTE FERROVIARIO' 'CELULOSE E PAPEL'\n",
                        " 'TELECOMUNICACOES']\n"
                    ]
                }
            ],
            "metadata": {}
        },
        {
            "cell_type": "markdown",
            "source": [
                "## 3.3 - Deflacionando valores de desembolso\n",
                "O índice usado para deflacionar a série é o IGP-M calculado pela FGV. A série história do índice pode ser acessada em: https://sindusconpr.com.br/igp-m-fgv-309-p\n",
                "\n",
                "A data usada como base é de dezembro de 2010."
            ],
            "metadata": {}
        },
        {
            "cell_type": "code",
            "execution_count": 25,
            "source": [
                "## Load IGP-M\n",
                "igpm = pd.read_csv('bases-auxiliares/igpm.csv')"
            ],
            "outputs": [],
            "metadata": {}
        },
        {
            "cell_type": "code",
            "execution_count": 26,
            "source": [
                "igpm"
            ],
            "outputs": [
                {
                    "output_type": "execute_result",
                    "data": {
                        "text/plain": [
                            "            ano       igpm\n",
                            "0    1994-08-01    100,000\n",
                            "1    1994-09-01    101,751\n",
                            "2    1994-10-01    103,602\n",
                            "3    1994-11-01    106,553\n",
                            "4    1994-12-01    107,450\n",
                            "..          ...        ...\n",
                            "319  2021-03-01  1.011,948\n",
                            "320  2021-04-01  1.027,211\n",
                            "321  2021-05-01  1.069,289\n",
                            "322  2021-06-01  1.075,733\n",
                            "323  2021-07-01  1.084,095\n",
                            "\n",
                            "[324 rows x 2 columns]"
                        ],
                        "text/html": [
                            "<div>\n",
                            "<style scoped>\n",
                            "    .dataframe tbody tr th:only-of-type {\n",
                            "        vertical-align: middle;\n",
                            "    }\n",
                            "\n",
                            "    .dataframe tbody tr th {\n",
                            "        vertical-align: top;\n",
                            "    }\n",
                            "\n",
                            "    .dataframe thead th {\n",
                            "        text-align: right;\n",
                            "    }\n",
                            "</style>\n",
                            "<table border=\"1\" class=\"dataframe\">\n",
                            "  <thead>\n",
                            "    <tr style=\"text-align: right;\">\n",
                            "      <th></th>\n",
                            "      <th>ano</th>\n",
                            "      <th>igpm</th>\n",
                            "    </tr>\n",
                            "  </thead>\n",
                            "  <tbody>\n",
                            "    <tr>\n",
                            "      <th>0</th>\n",
                            "      <td>1994-08-01</td>\n",
                            "      <td>100,000</td>\n",
                            "    </tr>\n",
                            "    <tr>\n",
                            "      <th>1</th>\n",
                            "      <td>1994-09-01</td>\n",
                            "      <td>101,751</td>\n",
                            "    </tr>\n",
                            "    <tr>\n",
                            "      <th>2</th>\n",
                            "      <td>1994-10-01</td>\n",
                            "      <td>103,602</td>\n",
                            "    </tr>\n",
                            "    <tr>\n",
                            "      <th>3</th>\n",
                            "      <td>1994-11-01</td>\n",
                            "      <td>106,553</td>\n",
                            "    </tr>\n",
                            "    <tr>\n",
                            "      <th>4</th>\n",
                            "      <td>1994-12-01</td>\n",
                            "      <td>107,450</td>\n",
                            "    </tr>\n",
                            "    <tr>\n",
                            "      <th>...</th>\n",
                            "      <td>...</td>\n",
                            "      <td>...</td>\n",
                            "    </tr>\n",
                            "    <tr>\n",
                            "      <th>319</th>\n",
                            "      <td>2021-03-01</td>\n",
                            "      <td>1.011,948</td>\n",
                            "    </tr>\n",
                            "    <tr>\n",
                            "      <th>320</th>\n",
                            "      <td>2021-04-01</td>\n",
                            "      <td>1.027,211</td>\n",
                            "    </tr>\n",
                            "    <tr>\n",
                            "      <th>321</th>\n",
                            "      <td>2021-05-01</td>\n",
                            "      <td>1.069,289</td>\n",
                            "    </tr>\n",
                            "    <tr>\n",
                            "      <th>322</th>\n",
                            "      <td>2021-06-01</td>\n",
                            "      <td>1.075,733</td>\n",
                            "    </tr>\n",
                            "    <tr>\n",
                            "      <th>323</th>\n",
                            "      <td>2021-07-01</td>\n",
                            "      <td>1.084,095</td>\n",
                            "    </tr>\n",
                            "  </tbody>\n",
                            "</table>\n",
                            "<p>324 rows × 2 columns</p>\n",
                            "</div>"
                        ]
                    },
                    "metadata": {},
                    "execution_count": 26
                }
            ],
            "metadata": {}
        },
        {
            "cell_type": "code",
            "execution_count": 27,
            "source": [
                "## Convert data to year-month format\n",
                "igpm['ano'] = pd.to_datetime(igpm['ano']).dt.to_period('m')"
            ],
            "outputs": [],
            "metadata": {}
        },
        {
            "cell_type": "code",
            "execution_count": 28,
            "source": [
                "## Convert numeric format to EU standard\n",
                "igpm['igpm'] = igpm['igpm'].str.replace('\\.', '')\n",
                "igpm['igpm'] = igpm['igpm'].str.replace(',', '.')\n"
            ],
            "outputs": [
                {
                    "output_type": "stream",
                    "name": "stderr",
                    "text": [
                        "/tmp/ipykernel_602/521327833.py:2: FutureWarning: The default value of regex will change from True to False in a future version.\n",
                        "  igpm['igpm'] = igpm['igpm'].str.replace('\\.', '')\n"
                    ]
                }
            ],
            "metadata": {}
        },
        {
            "cell_type": "code",
            "execution_count": 29,
            "source": [
                "## Transform IGP-M to a dict\n",
                "igpm_dict = dict(zip(igpm['ano'].dt.strftime('%Y-%m'), igpm['igpm']))"
            ],
            "outputs": [],
            "metadata": {}
        },
        {
            "cell_type": "code",
            "execution_count": 30,
            "source": [
                "## append igpm information to our main dataset\n",
                "df_fin['igpm'] = df_fin['ano'].dt.strftime('%Y-%m').map(igpm_dict)"
            ],
            "outputs": [],
            "metadata": {}
        },
        {
            "cell_type": "code",
            "execution_count": 32,
            "source": [
                "## set 2010-12 as our base date\n",
                "base_igpm = float(igpm_dict['2010-12'])\n",
                "base_igpm"
            ],
            "outputs": [
                {
                    "output_type": "execute_result",
                    "data": {
                        "text/plain": [
                            "450.301"
                        ]
                    },
                    "metadata": {},
                    "execution_count": 32
                }
            ],
            "metadata": {}
        },
        {
            "cell_type": "code",
            "execution_count": 34,
            "source": [
                "## Deflacionando valor_contratado\n",
                "for i in range(len(df_fin)):\n",
                "    df_fin.loc[:i, 'valor_contratado_ajustado'] = round((base_igpm / df_fin.loc[:i, 'igpm'].astype(float)) *\n",
                "          (df_fin.loc[:i, 'valor_contratado_reais'].astype(float)))\n"
            ],
            "outputs": [],
            "metadata": {}
        },
        {
            "cell_type": "code",
            "execution_count": 27,
            "source": [
                "## Deflacionando valor_desembolsado\n",
                "for i in range(len(df_fin)):\n",
                "    df_fin.loc[:i, 'valor_desembolsado_ajustado'] = round((base_igpm / df_fin.loc[:i, 'igpm'].astype(float)) *\n",
                "         (df_fin.loc[:i, 'valor_desembolsado_reais'].astype(float)))\n"
            ],
            "outputs": [],
            "metadata": {}
        },
        {
            "cell_type": "code",
            "execution_count": 28,
            "source": [
                "## Checking NA.\n",
                "df_fin.isna().sum()"
            ],
            "outputs": [
                {
                    "output_type": "execute_result",
                    "data": {
                        "text/plain": [
                            "cliente                         0\n",
                            "cnpj                            0\n",
                            "uf                              0\n",
                            "numero_do_contrato              0\n",
                            "data_da_contratacao             0\n",
                            "valor_contratado_reais          0\n",
                            "valor_desembolsado_reais        0\n",
                            "fonte_de_recurso_desembolsos    0\n",
                            "custo_financeiro                0\n",
                            "juros                           0\n",
                            "prazo_carencia_meses            0\n",
                            "prazo_amortizacao_meses         0\n",
                            "modalidade_de_apoio             0\n",
                            "produto                         0\n",
                            "instrumento_financeiro          0\n",
                            "inovacao                        0\n",
                            "area_operacional                0\n",
                            "setor_bndes                     0\n",
                            "subsetor_bndes                  0\n",
                            "porte_do_cliente                0\n",
                            "natureza_do_cliente             0\n",
                            "tipo_de_garantia                0\n",
                            "situacao_do_contrato            0\n",
                            "ano                             0\n",
                            "igpm                            0\n",
                            "valor_contratado_ajustado       0\n",
                            "valor_desembolsado_ajustado     0\n",
                            "dtype: int64"
                        ]
                    },
                    "metadata": {},
                    "execution_count": 28
                }
            ],
            "metadata": {}
        },
        {
            "cell_type": "code",
            "execution_count": 29,
            "source": [
                "## Checking 0's and negative values\n",
                "df_fin.loc[df_fin['valor_contratado_ajustado'] <= 0]"
            ],
            "outputs": [
                {
                    "output_type": "execute_result",
                    "data": {
                        "text/plain": [
                            "Empty DataFrame\n",
                            "Columns: [cliente, cnpj, uf, numero_do_contrato, data_da_contratacao, valor_contratado_reais, valor_desembolsado_reais, fonte_de_recurso_desembolsos, custo_financeiro, juros, prazo_carencia_meses, prazo_amortizacao_meses, modalidade_de_apoio, produto, instrumento_financeiro, inovacao, area_operacional, setor_bndes, subsetor_bndes, porte_do_cliente, natureza_do_cliente, tipo_de_garantia, situacao_do_contrato, ano, igpm, valor_contratado_ajustado, valor_desembolsado_ajustado]\n",
                            "Index: []\n",
                            "\n",
                            "[0 rows x 27 columns]"
                        ],
                        "text/html": [
                            "<div>\n",
                            "<style scoped>\n",
                            "    .dataframe tbody tr th:only-of-type {\n",
                            "        vertical-align: middle;\n",
                            "    }\n",
                            "\n",
                            "    .dataframe tbody tr th {\n",
                            "        vertical-align: top;\n",
                            "    }\n",
                            "\n",
                            "    .dataframe thead th {\n",
                            "        text-align: right;\n",
                            "    }\n",
                            "</style>\n",
                            "<table border=\"1\" class=\"dataframe\">\n",
                            "  <thead>\n",
                            "    <tr style=\"text-align: right;\">\n",
                            "      <th></th>\n",
                            "      <th>cliente</th>\n",
                            "      <th>cnpj</th>\n",
                            "      <th>uf</th>\n",
                            "      <th>numero_do_contrato</th>\n",
                            "      <th>data_da_contratacao</th>\n",
                            "      <th>valor_contratado_reais</th>\n",
                            "      <th>valor_desembolsado_reais</th>\n",
                            "      <th>fonte_de_recurso_desembolsos</th>\n",
                            "      <th>custo_financeiro</th>\n",
                            "      <th>juros</th>\n",
                            "      <th>...</th>\n",
                            "      <th>setor_bndes</th>\n",
                            "      <th>subsetor_bndes</th>\n",
                            "      <th>porte_do_cliente</th>\n",
                            "      <th>natureza_do_cliente</th>\n",
                            "      <th>tipo_de_garantia</th>\n",
                            "      <th>situacao_do_contrato</th>\n",
                            "      <th>ano</th>\n",
                            "      <th>igpm</th>\n",
                            "      <th>valor_contratado_ajustado</th>\n",
                            "      <th>valor_desembolsado_ajustado</th>\n",
                            "    </tr>\n",
                            "  </thead>\n",
                            "  <tbody>\n",
                            "  </tbody>\n",
                            "</table>\n",
                            "<p>0 rows × 27 columns</p>\n",
                            "</div>"
                        ]
                    },
                    "metadata": {},
                    "execution_count": 29
                }
            ],
            "metadata": {}
        },
        {
            "cell_type": "code",
            "execution_count": 30,
            "source": [
                "df_fin.loc[df_fin['valor_desembolsado_ajustado'] <= 0]"
            ],
            "outputs": [
                {
                    "output_type": "execute_result",
                    "data": {
                        "text/plain": [
                            "                                                cliente                cnpj  \\\n",
                            "23                     COMPANHIA BRASILEIRA DE OFFSHORE  13.534.284/0001-48   \n",
                            "169                             VICUNHA SIDERURGIA S/A.  02.871.007/0001-04   \n",
                            "170                             VICUNHA SIDERURGIA S/A.  02.871.007/0001-04   \n",
                            "173                             VICUNHA SIDERURGIA S/A.  02.871.007/0001-04   \n",
                            "238    EMPRESA AMAZONENSE DE TRANSMISSAO DE ENERGIA S/A  04.416.935/0001-04   \n",
                            "...                                                 ...                 ...   \n",
                            "14511                              MUELLER FOGOES LTDA.  04.565.361/0001-36   \n",
                            "14512                   HERCULES MOTORES ELETRICOS LTDA  07.442.711/0001-65   \n",
                            "14513                              MUELLER FOGOES LTDA.  04.565.361/0001-36   \n",
                            "14514                              MUELLER FOGOES LTDA.  04.565.361/0001-36   \n",
                            "14515                              MUELLER FOGOES LTDA.  04.565.361/0001-36   \n",
                            "\n",
                            "       uf  numero_do_contrato  data_da_contratacao  valor_contratado_reais  \\\n",
                            "23     RJ             1244531  2002-02-04T00:00:00              4004991.76   \n",
                            "169    RJ             1230311  2002-03-25T00:00:00             40977230.05   \n",
                            "170    RJ             1230312  2002-03-25T00:00:00             45657080.84   \n",
                            "173    RJ             1230313  2002-03-25T00:00:00              9930415.09   \n",
                            "238    PA             2219241  2002-06-11T00:00:00             12530960.00   \n",
                            "...    ..                 ...                  ...                     ...   \n",
                            "14511  SC            19400011  2021-05-27T00:00:00              4479999.98   \n",
                            "14512  SC            19400011  2021-05-27T00:00:00               736000.00   \n",
                            "14513  SC            19400011  2021-05-27T00:00:00                88000.00   \n",
                            "14514  SC            19400011  2021-05-27T00:00:00               104564.00   \n",
                            "14515  SC            19400011  2021-05-28T00:00:00              1802854.99   \n",
                            "\n",
                            "       valor_desembolsado_reais  \\\n",
                            "23                          0.0   \n",
                            "169                         0.0   \n",
                            "170                         0.0   \n",
                            "173                         0.0   \n",
                            "238                         0.0   \n",
                            "...                         ...   \n",
                            "14511                       0.0   \n",
                            "14512                       0.0   \n",
                            "14513                       0.0   \n",
                            "14514                       0.0   \n",
                            "14515                       0.0   \n",
                            "\n",
                            "                            fonte_de_recurso_desembolsos custo_financeiro  \\\n",
                            "23                         RECURSOS VINCULADOS - TESOURO      US$ / CESTA   \n",
                            "169                                                    -             TJLP   \n",
                            "170                                                    -             TJLP   \n",
                            "173                                                    -             TJLP   \n",
                            "238    RECURSOS LIVRES - FAT / RECURSOS LIVRES - PRÓP...      US$ / CESTA   \n",
                            "...                                                  ...              ...   \n",
                            "14511                                                  -              TLP   \n",
                            "14512                                                  -              TLP   \n",
                            "14513                                                  -              TLP   \n",
                            "14514                                                  -              TLP   \n",
                            "14515                                                  -              TLP   \n",
                            "\n",
                            "       juros  ...     setor_bndes         subsetor_bndes porte_do_cliente  \\\n",
                            "23      5.50  ...  INFRAESTRUTURA     OUTROS TRANSPORTES            MEDIA   \n",
                            "169     3.75  ...       INDUSTRIA  METALURGIA E PRODUTOS           GRANDE   \n",
                            "170     3.75  ...       INDUSTRIA  METALURGIA E PRODUTOS           GRANDE   \n",
                            "173     3.75  ...       INDUSTRIA  METALURGIA E PRODUTOS           GRANDE   \n",
                            "238     5.00  ...  INFRAESTRUTURA       ENERGIA ELETRICA           GRANDE   \n",
                            "...      ...  ...             ...                    ...              ...   \n",
                            "14511   1.39  ...       INDUSTRIA               MECANICA           GRANDE   \n",
                            "14512   1.39  ...       INDUSTRIA               MECANICA           GRANDE   \n",
                            "14513   1.39  ...       INDUSTRIA               MECANICA           GRANDE   \n",
                            "14514   1.39  ...       INDUSTRIA               MECANICA           GRANDE   \n",
                            "14515   1.39  ...       INDUSTRIA               MECANICA           GRANDE   \n",
                            "\n",
                            "        natureza_do_cliente  \\\n",
                            "23     PRIVADA                \n",
                            "169    PRIVADA                \n",
                            "170    PRIVADA                \n",
                            "173    PRIVADA                \n",
                            "238    PRIVADA                \n",
                            "...                     ...   \n",
                            "14511  PRIVADA                \n",
                            "14512  PRIVADA                \n",
                            "14513  PRIVADA                \n",
                            "14514  PRIVADA                \n",
                            "14515  PRIVADA                \n",
                            "\n",
                            "                                        tipo_de_garantia situacao_do_contrato  \\\n",
                            "23     REAL / PESSOAL / OUTRA, DE NATUREZA ESPECÍFICA...                ATIVO   \n",
                            "169                      DEFINIDA PELO AGENTE FINANCEIRO                ATIVO   \n",
                            "170                      DEFINIDA PELO AGENTE FINANCEIRO                ATIVO   \n",
                            "173                      DEFINIDA PELO AGENTE FINANCEIRO                ATIVO   \n",
                            "238                                                 REAL            LIQUIDADO   \n",
                            "...                                                  ...                  ...   \n",
                            "14511                                            PESSOAL                ATIVO   \n",
                            "14512                                            PESSOAL                ATIVO   \n",
                            "14513                                            PESSOAL                ATIVO   \n",
                            "14514                                            PESSOAL                ATIVO   \n",
                            "14515                                            PESSOAL                ATIVO   \n",
                            "\n",
                            "           ano      igpm valor_contratado_ajustado valor_desembolsado_ajustado  \n",
                            "23     2002-02   217.074                 8308005.0                         0.0  \n",
                            "169    2002-03   217.276                84924647.0                         0.0  \n",
                            "170    2002-03   217.276                94623562.0                         0.0  \n",
                            "173    2002-03   217.276                20580625.0                         0.0  \n",
                            "238    2002-06   223.688                25225778.0                         0.0  \n",
                            "...        ...       ...                       ...                         ...  \n",
                            "14511  2021-05  1069.289                 1886626.0                         0.0  \n",
                            "14512  2021-05  1069.289                  309946.0                         0.0  \n",
                            "14513  2021-05  1069.289                   37059.0                         0.0  \n",
                            "14514  2021-05  1069.289                   44034.0                         0.0  \n",
                            "14515  2021-05  1069.289                  759222.0                         0.0  \n",
                            "\n",
                            "[834 rows x 27 columns]"
                        ],
                        "text/html": [
                            "<div>\n",
                            "<style scoped>\n",
                            "    .dataframe tbody tr th:only-of-type {\n",
                            "        vertical-align: middle;\n",
                            "    }\n",
                            "\n",
                            "    .dataframe tbody tr th {\n",
                            "        vertical-align: top;\n",
                            "    }\n",
                            "\n",
                            "    .dataframe thead th {\n",
                            "        text-align: right;\n",
                            "    }\n",
                            "</style>\n",
                            "<table border=\"1\" class=\"dataframe\">\n",
                            "  <thead>\n",
                            "    <tr style=\"text-align: right;\">\n",
                            "      <th></th>\n",
                            "      <th>cliente</th>\n",
                            "      <th>cnpj</th>\n",
                            "      <th>uf</th>\n",
                            "      <th>numero_do_contrato</th>\n",
                            "      <th>data_da_contratacao</th>\n",
                            "      <th>valor_contratado_reais</th>\n",
                            "      <th>valor_desembolsado_reais</th>\n",
                            "      <th>fonte_de_recurso_desembolsos</th>\n",
                            "      <th>custo_financeiro</th>\n",
                            "      <th>juros</th>\n",
                            "      <th>...</th>\n",
                            "      <th>setor_bndes</th>\n",
                            "      <th>subsetor_bndes</th>\n",
                            "      <th>porte_do_cliente</th>\n",
                            "      <th>natureza_do_cliente</th>\n",
                            "      <th>tipo_de_garantia</th>\n",
                            "      <th>situacao_do_contrato</th>\n",
                            "      <th>ano</th>\n",
                            "      <th>igpm</th>\n",
                            "      <th>valor_contratado_ajustado</th>\n",
                            "      <th>valor_desembolsado_ajustado</th>\n",
                            "    </tr>\n",
                            "  </thead>\n",
                            "  <tbody>\n",
                            "    <tr>\n",
                            "      <th>23</th>\n",
                            "      <td>COMPANHIA BRASILEIRA DE OFFSHORE</td>\n",
                            "      <td>13.534.284/0001-48</td>\n",
                            "      <td>RJ</td>\n",
                            "      <td>1244531</td>\n",
                            "      <td>2002-02-04T00:00:00</td>\n",
                            "      <td>4004991.76</td>\n",
                            "      <td>0.0</td>\n",
                            "      <td>RECURSOS VINCULADOS - TESOURO</td>\n",
                            "      <td>US$ / CESTA</td>\n",
                            "      <td>5.50</td>\n",
                            "      <td>...</td>\n",
                            "      <td>INFRAESTRUTURA</td>\n",
                            "      <td>OUTROS TRANSPORTES</td>\n",
                            "      <td>MEDIA</td>\n",
                            "      <td>PRIVADA</td>\n",
                            "      <td>REAL / PESSOAL / OUTRA, DE NATUREZA ESPECÍFICA...</td>\n",
                            "      <td>ATIVO</td>\n",
                            "      <td>2002-02</td>\n",
                            "      <td>217.074</td>\n",
                            "      <td>8308005.0</td>\n",
                            "      <td>0.0</td>\n",
                            "    </tr>\n",
                            "    <tr>\n",
                            "      <th>169</th>\n",
                            "      <td>VICUNHA SIDERURGIA S/A.</td>\n",
                            "      <td>02.871.007/0001-04</td>\n",
                            "      <td>RJ</td>\n",
                            "      <td>1230311</td>\n",
                            "      <td>2002-03-25T00:00:00</td>\n",
                            "      <td>40977230.05</td>\n",
                            "      <td>0.0</td>\n",
                            "      <td>-</td>\n",
                            "      <td>TJLP</td>\n",
                            "      <td>3.75</td>\n",
                            "      <td>...</td>\n",
                            "      <td>INDUSTRIA</td>\n",
                            "      <td>METALURGIA E PRODUTOS</td>\n",
                            "      <td>GRANDE</td>\n",
                            "      <td>PRIVADA</td>\n",
                            "      <td>DEFINIDA PELO AGENTE FINANCEIRO</td>\n",
                            "      <td>ATIVO</td>\n",
                            "      <td>2002-03</td>\n",
                            "      <td>217.276</td>\n",
                            "      <td>84924647.0</td>\n",
                            "      <td>0.0</td>\n",
                            "    </tr>\n",
                            "    <tr>\n",
                            "      <th>170</th>\n",
                            "      <td>VICUNHA SIDERURGIA S/A.</td>\n",
                            "      <td>02.871.007/0001-04</td>\n",
                            "      <td>RJ</td>\n",
                            "      <td>1230312</td>\n",
                            "      <td>2002-03-25T00:00:00</td>\n",
                            "      <td>45657080.84</td>\n",
                            "      <td>0.0</td>\n",
                            "      <td>-</td>\n",
                            "      <td>TJLP</td>\n",
                            "      <td>3.75</td>\n",
                            "      <td>...</td>\n",
                            "      <td>INDUSTRIA</td>\n",
                            "      <td>METALURGIA E PRODUTOS</td>\n",
                            "      <td>GRANDE</td>\n",
                            "      <td>PRIVADA</td>\n",
                            "      <td>DEFINIDA PELO AGENTE FINANCEIRO</td>\n",
                            "      <td>ATIVO</td>\n",
                            "      <td>2002-03</td>\n",
                            "      <td>217.276</td>\n",
                            "      <td>94623562.0</td>\n",
                            "      <td>0.0</td>\n",
                            "    </tr>\n",
                            "    <tr>\n",
                            "      <th>173</th>\n",
                            "      <td>VICUNHA SIDERURGIA S/A.</td>\n",
                            "      <td>02.871.007/0001-04</td>\n",
                            "      <td>RJ</td>\n",
                            "      <td>1230313</td>\n",
                            "      <td>2002-03-25T00:00:00</td>\n",
                            "      <td>9930415.09</td>\n",
                            "      <td>0.0</td>\n",
                            "      <td>-</td>\n",
                            "      <td>TJLP</td>\n",
                            "      <td>3.75</td>\n",
                            "      <td>...</td>\n",
                            "      <td>INDUSTRIA</td>\n",
                            "      <td>METALURGIA E PRODUTOS</td>\n",
                            "      <td>GRANDE</td>\n",
                            "      <td>PRIVADA</td>\n",
                            "      <td>DEFINIDA PELO AGENTE FINANCEIRO</td>\n",
                            "      <td>ATIVO</td>\n",
                            "      <td>2002-03</td>\n",
                            "      <td>217.276</td>\n",
                            "      <td>20580625.0</td>\n",
                            "      <td>0.0</td>\n",
                            "    </tr>\n",
                            "    <tr>\n",
                            "      <th>238</th>\n",
                            "      <td>EMPRESA AMAZONENSE DE TRANSMISSAO DE ENERGIA S/A</td>\n",
                            "      <td>04.416.935/0001-04</td>\n",
                            "      <td>PA</td>\n",
                            "      <td>2219241</td>\n",
                            "      <td>2002-06-11T00:00:00</td>\n",
                            "      <td>12530960.00</td>\n",
                            "      <td>0.0</td>\n",
                            "      <td>RECURSOS LIVRES - FAT / RECURSOS LIVRES - PRÓP...</td>\n",
                            "      <td>US$ / CESTA</td>\n",
                            "      <td>5.00</td>\n",
                            "      <td>...</td>\n",
                            "      <td>INFRAESTRUTURA</td>\n",
                            "      <td>ENERGIA ELETRICA</td>\n",
                            "      <td>GRANDE</td>\n",
                            "      <td>PRIVADA</td>\n",
                            "      <td>REAL</td>\n",
                            "      <td>LIQUIDADO</td>\n",
                            "      <td>2002-06</td>\n",
                            "      <td>223.688</td>\n",
                            "      <td>25225778.0</td>\n",
                            "      <td>0.0</td>\n",
                            "    </tr>\n",
                            "    <tr>\n",
                            "      <th>...</th>\n",
                            "      <td>...</td>\n",
                            "      <td>...</td>\n",
                            "      <td>...</td>\n",
                            "      <td>...</td>\n",
                            "      <td>...</td>\n",
                            "      <td>...</td>\n",
                            "      <td>...</td>\n",
                            "      <td>...</td>\n",
                            "      <td>...</td>\n",
                            "      <td>...</td>\n",
                            "      <td>...</td>\n",
                            "      <td>...</td>\n",
                            "      <td>...</td>\n",
                            "      <td>...</td>\n",
                            "      <td>...</td>\n",
                            "      <td>...</td>\n",
                            "      <td>...</td>\n",
                            "      <td>...</td>\n",
                            "      <td>...</td>\n",
                            "      <td>...</td>\n",
                            "      <td>...</td>\n",
                            "    </tr>\n",
                            "    <tr>\n",
                            "      <th>14511</th>\n",
                            "      <td>MUELLER FOGOES LTDA.</td>\n",
                            "      <td>04.565.361/0001-36</td>\n",
                            "      <td>SC</td>\n",
                            "      <td>19400011</td>\n",
                            "      <td>2021-05-27T00:00:00</td>\n",
                            "      <td>4479999.98</td>\n",
                            "      <td>0.0</td>\n",
                            "      <td>-</td>\n",
                            "      <td>TLP</td>\n",
                            "      <td>1.39</td>\n",
                            "      <td>...</td>\n",
                            "      <td>INDUSTRIA</td>\n",
                            "      <td>MECANICA</td>\n",
                            "      <td>GRANDE</td>\n",
                            "      <td>PRIVADA</td>\n",
                            "      <td>PESSOAL</td>\n",
                            "      <td>ATIVO</td>\n",
                            "      <td>2021-05</td>\n",
                            "      <td>1069.289</td>\n",
                            "      <td>1886626.0</td>\n",
                            "      <td>0.0</td>\n",
                            "    </tr>\n",
                            "    <tr>\n",
                            "      <th>14512</th>\n",
                            "      <td>HERCULES MOTORES ELETRICOS LTDA</td>\n",
                            "      <td>07.442.711/0001-65</td>\n",
                            "      <td>SC</td>\n",
                            "      <td>19400011</td>\n",
                            "      <td>2021-05-27T00:00:00</td>\n",
                            "      <td>736000.00</td>\n",
                            "      <td>0.0</td>\n",
                            "      <td>-</td>\n",
                            "      <td>TLP</td>\n",
                            "      <td>1.39</td>\n",
                            "      <td>...</td>\n",
                            "      <td>INDUSTRIA</td>\n",
                            "      <td>MECANICA</td>\n",
                            "      <td>GRANDE</td>\n",
                            "      <td>PRIVADA</td>\n",
                            "      <td>PESSOAL</td>\n",
                            "      <td>ATIVO</td>\n",
                            "      <td>2021-05</td>\n",
                            "      <td>1069.289</td>\n",
                            "      <td>309946.0</td>\n",
                            "      <td>0.0</td>\n",
                            "    </tr>\n",
                            "    <tr>\n",
                            "      <th>14513</th>\n",
                            "      <td>MUELLER FOGOES LTDA.</td>\n",
                            "      <td>04.565.361/0001-36</td>\n",
                            "      <td>SC</td>\n",
                            "      <td>19400011</td>\n",
                            "      <td>2021-05-27T00:00:00</td>\n",
                            "      <td>88000.00</td>\n",
                            "      <td>0.0</td>\n",
                            "      <td>-</td>\n",
                            "      <td>TLP</td>\n",
                            "      <td>1.39</td>\n",
                            "      <td>...</td>\n",
                            "      <td>INDUSTRIA</td>\n",
                            "      <td>MECANICA</td>\n",
                            "      <td>GRANDE</td>\n",
                            "      <td>PRIVADA</td>\n",
                            "      <td>PESSOAL</td>\n",
                            "      <td>ATIVO</td>\n",
                            "      <td>2021-05</td>\n",
                            "      <td>1069.289</td>\n",
                            "      <td>37059.0</td>\n",
                            "      <td>0.0</td>\n",
                            "    </tr>\n",
                            "    <tr>\n",
                            "      <th>14514</th>\n",
                            "      <td>MUELLER FOGOES LTDA.</td>\n",
                            "      <td>04.565.361/0001-36</td>\n",
                            "      <td>SC</td>\n",
                            "      <td>19400011</td>\n",
                            "      <td>2021-05-27T00:00:00</td>\n",
                            "      <td>104564.00</td>\n",
                            "      <td>0.0</td>\n",
                            "      <td>-</td>\n",
                            "      <td>TLP</td>\n",
                            "      <td>1.39</td>\n",
                            "      <td>...</td>\n",
                            "      <td>INDUSTRIA</td>\n",
                            "      <td>MECANICA</td>\n",
                            "      <td>GRANDE</td>\n",
                            "      <td>PRIVADA</td>\n",
                            "      <td>PESSOAL</td>\n",
                            "      <td>ATIVO</td>\n",
                            "      <td>2021-05</td>\n",
                            "      <td>1069.289</td>\n",
                            "      <td>44034.0</td>\n",
                            "      <td>0.0</td>\n",
                            "    </tr>\n",
                            "    <tr>\n",
                            "      <th>14515</th>\n",
                            "      <td>MUELLER FOGOES LTDA.</td>\n",
                            "      <td>04.565.361/0001-36</td>\n",
                            "      <td>SC</td>\n",
                            "      <td>19400011</td>\n",
                            "      <td>2021-05-28T00:00:00</td>\n",
                            "      <td>1802854.99</td>\n",
                            "      <td>0.0</td>\n",
                            "      <td>-</td>\n",
                            "      <td>TLP</td>\n",
                            "      <td>1.39</td>\n",
                            "      <td>...</td>\n",
                            "      <td>INDUSTRIA</td>\n",
                            "      <td>MECANICA</td>\n",
                            "      <td>GRANDE</td>\n",
                            "      <td>PRIVADA</td>\n",
                            "      <td>PESSOAL</td>\n",
                            "      <td>ATIVO</td>\n",
                            "      <td>2021-05</td>\n",
                            "      <td>1069.289</td>\n",
                            "      <td>759222.0</td>\n",
                            "      <td>0.0</td>\n",
                            "    </tr>\n",
                            "  </tbody>\n",
                            "</table>\n",
                            "<p>834 rows × 27 columns</p>\n",
                            "</div>"
                        ]
                    },
                    "metadata": {},
                    "execution_count": 30
                }
            ],
            "metadata": {}
        },
        {
            "cell_type": "code",
            "execution_count": 31,
            "source": [
                "## Removing those observations, which are outside the scope of this project.\n",
                "df_fin = df_fin.loc[(df_fin['valor_desembolsado_ajustado']!=0)]"
            ],
            "outputs": [],
            "metadata": {}
        },
        {
            "cell_type": "code",
            "execution_count": 32,
            "source": [
                "## Exporting dataset\n",
                "df_fin.to_csv('bases-ajustadas/operacoes-ajustado.csv',\n",
                "                index=False, header=True)"
            ],
            "outputs": [],
            "metadata": {}
        },
        {
            "cell_type": "markdown",
            "source": [
                "# 4 - Agrupando dados para receber bases externas"
            ],
            "metadata": {}
        },
        {
            "cell_type": "markdown",
            "source": [
                "## 4.1 - Agrupamento para os dados CAGED - UF/SETOR/ANO/PORTE_DO_CLIENTE\n"
            ],
            "metadata": {}
        },
        {
            "cell_type": "markdown",
            "source": [
                "Os dados do CAGED tem um nível de granularidade maior do que os dados do SEEG e do PIB, devido a presença da segmentação por porte do cliente. Devido a isso, o primeiro agrupamento será para este formato."
            ],
            "metadata": {}
        },
        {
            "cell_type": "code",
            "execution_count": 33,
            "source": [
                "## Loading auxiliar datasets.\n",
                "caged = pd.read_csv('bases-auxiliares/CAGED-ajustado.csv')"
            ],
            "outputs": [],
            "metadata": {}
        },
        {
            "cell_type": "code",
            "execution_count": 34,
            "source": [
                "## Setting dataset for CAGED data.\n",
                "df_caged = df_fin"
            ],
            "outputs": [],
            "metadata": {}
        },
        {
            "cell_type": "code",
            "execution_count": 35,
            "source": [
                "## Drop columns with higher segmentation levels.\n",
                "drop_cols = ['cliente', 'cnpj', 'ano', 'fonte_de_recurso_desembolsos', 'numero_do_contrato',\n",
                "             'custo_financeiro', 'modalidade_de_apoio', 'produto', 'instrumento_financeiro',\n",
                "             'inovacao', 'area_operacional', 'subsetor_bndes', 'natureza_do_cliente', 'tipo_de_garantia',\n",
                "             'situacao_do_contrato', 'igpm']\n",
                "df_caged.drop(drop_cols, axis=1, inplace=True)\n"
            ],
            "outputs": [],
            "metadata": {}
        },
        {
            "cell_type": "code",
            "execution_count": 36,
            "source": [
                "## Indexing a new column with year format.\n",
                "df_caged['ano'] = pd.to_datetime(df_caged['data_da_contratacao'])\n",
                "df_caged['ano'] = pd.DatetimeIndex(df_caged['ano']).year\n"
            ],
            "outputs": [],
            "metadata": {}
        },
        {
            "cell_type": "code",
            "execution_count": 37,
            "source": [
                "## Group dataset with mean values and by uf, setor_bndes, porte_do_cliente and ano.\n",
                "df_caged = df_caged.groupby(['uf', 'setor_bndes', 'porte_do_cliente', 'ano'], as_index=False).agg(\n",
                "    {'valor_contratado_reais': ['sum'], 'valor_desembolsado_reais': ['sum'],\n",
                "     'juros': ['mean'], 'prazo_carencia_meses': ['mean'], 'prazo_amortizacao_meses': ['mean'],\n",
                "     'valor_contratado_ajustado': ['sum'], 'valor_desembolsado_ajustado': ['sum']})\n"
            ],
            "outputs": [],
            "metadata": {}
        },
        {
            "cell_type": "code",
            "execution_count": 38,
            "source": [
                "## Melt multi index from pandas.\n",
                "df_caged.columns = list(map(''.join, df_caged.columns.values))"
            ],
            "outputs": [],
            "metadata": {}
        },
        {
            "cell_type": "code",
            "execution_count": 39,
            "source": [
                "## Rename columns.\n",
                "df_caged.columns = ['uf', 'setor_bndes', 'porte_do_cliente', 'ano', 'valor_contratado_reais',\n",
                "                      'valor_desembolsado_reais', 'media_juros', 'media_prazo_carencia_meses',\n",
                "                      'media_prazo_amortizacao_meses', 'valor_contratado_ajustado', 'valor_desembolsado_ajustado']\n"
            ],
            "outputs": [],
            "metadata": {}
        },
        {
            "cell_type": "code",
            "execution_count": 40,
            "source": [
                "## Round numeric values.\n",
                "toRound = ['valor_contratado_reais', 'valor_desembolsado_reais',\n",
                "            'valor_contratado_ajustado', 'valor_desembolsado_ajustado',\n",
                "            'media_prazo_carencia_meses', 'media_prazo_amortizacao_meses']\n",
                "df_caged[toRound] = df_caged[toRound].round(1)\n",
                "df_caged['media_juros'] = df_caged['media_juros'].round(2)\n"
            ],
            "outputs": [],
            "metadata": {}
        },
        {
            "cell_type": "code",
            "execution_count": 41,
            "source": [
                "# Re-order columns.\n",
                "df_caged = df_caged[['uf', 'setor_bndes', 'porte_do_cliente', 'ano', 'valor_contratado_reais',\n",
                "                        'valor_desembolsado_reais', 'valor_contratado_ajustado', 'valor_desembolsado_ajustado',\n",
                "                        'media_juros', 'media_prazo_carencia_meses', 'media_prazo_amortizacao_meses']]"
            ],
            "outputs": [],
            "metadata": {}
        },
        {
            "cell_type": "code",
            "execution_count": 42,
            "source": [
                "## Append number of employees from CAGED dataset, segmented by company_size/sector/uf/ano.\n",
                "df_caged = map_values_caged(df_caged, caged, 'setor_bndes', 'num_empregados')"
            ],
            "outputs": [],
            "metadata": {}
        },
        {
            "cell_type": "code",
            "execution_count": 43,
            "source": [
                "## veryfing random observation.\n",
                "print(caged.loc[(caged['uf'] == 'SP') & (caged['porte_do_cliente'] == 'GRANDE') & \n",
                "      (caged['setor'] == 'INDUSTRIA')])\n"
            ],
            "outputs": [
                {
                    "output_type": "stream",
                    "name": "stdout",
                    "text": [
                        "       ano  uf      setor porte_do_cliente  num_empregados\n",
                        "4393  2019  SP  INDUSTRIA           GRANDE          741404\n",
                        "4420  2018  SP  INDUSTRIA           GRANDE          734995\n",
                        "4447  2017  SP  INDUSTRIA           GRANDE          737504\n",
                        "4474  2016  SP  INDUSTRIA           GRANDE          749834\n",
                        "4501  2015  SP  INDUSTRIA           GRANDE          809950\n",
                        "4528  2014  SP  INDUSTRIA           GRANDE          899721\n",
                        "4555  2013  SP  INDUSTRIA           GRANDE          941342\n",
                        "4582  2012  SP  INDUSTRIA           GRANDE          933411\n",
                        "4609  2011  SP  INDUSTRIA           GRANDE          951255\n",
                        "4636  2010  SP  INDUSTRIA           GRANDE          920209\n",
                        "4663  2009  SP  INDUSTRIA           GRANDE          826559\n",
                        "4690  2008  SP  INDUSTRIA           GRANDE          843542\n",
                        "4717  2007  SP  INDUSTRIA           GRANDE          807752\n",
                        "4744  2006  SP  INDUSTRIA           GRANDE          707430\n",
                        "4771  2005  SP  INDUSTRIA           GRANDE          635279\n",
                        "4798  2004  SP  INDUSTRIA           GRANDE          621570\n",
                        "4825  2003  SP  INDUSTRIA           GRANDE          525774\n",
                        "4852  2002  SP  INDUSTRIA           GRANDE          505442\n"
                    ]
                }
            ],
            "metadata": {}
        },
        {
            "cell_type": "code",
            "execution_count": 44,
            "source": [
                "df_caged.loc[(df_caged['uf'] == 'SP') & (df_caged['porte_do_cliente'] == 'GRANDE') &\n",
                "      (df_caged['setor_bndes'] == 'INDUSTRIA')]"
            ],
            "outputs": [
                {
                    "output_type": "execute_result",
                    "data": {
                        "text/plain": [
                            "     uf setor_bndes porte_do_cliente   ano  valor_contratado_reais  \\\n",
                            "879  SP   INDUSTRIA           GRANDE  2002            7.031570e+08   \n",
                            "880  SP   INDUSTRIA           GRANDE  2003            3.156121e+08   \n",
                            "881  SP   INDUSTRIA           GRANDE  2004            2.766436e+08   \n",
                            "882  SP   INDUSTRIA           GRANDE  2005            2.549802e+09   \n",
                            "883  SP   INDUSTRIA           GRANDE  2006            2.656786e+09   \n",
                            "884  SP   INDUSTRIA           GRANDE  2007            3.189347e+09   \n",
                            "885  SP   INDUSTRIA           GRANDE  2008            4.442376e+09   \n",
                            "886  SP   INDUSTRIA           GRANDE  2009            3.385919e+09   \n",
                            "887  SP   INDUSTRIA           GRANDE  2010            2.555657e+09   \n",
                            "888  SP   INDUSTRIA           GRANDE  2011            4.639901e+09   \n",
                            "889  SP   INDUSTRIA           GRANDE  2012            2.022904e+09   \n",
                            "890  SP   INDUSTRIA           GRANDE  2013            5.051360e+09   \n",
                            "891  SP   INDUSTRIA           GRANDE  2014            2.863355e+09   \n",
                            "892  SP   INDUSTRIA           GRANDE  2015            7.488728e+08   \n",
                            "893  SP   INDUSTRIA           GRANDE  2016            6.603712e+08   \n",
                            "894  SP   INDUSTRIA           GRANDE  2017            5.181273e+08   \n",
                            "895  SP   INDUSTRIA           GRANDE  2018            2.865743e+09   \n",
                            "896  SP   INDUSTRIA           GRANDE  2019            5.287984e+08   \n",
                            "897  SP   INDUSTRIA           GRANDE  2020            9.028722e+08   \n",
                            "\n",
                            "     valor_desembolsado_reais  valor_contratado_ajustado  \\\n",
                            "879              7.340150e+08               1.281616e+09   \n",
                            "880              3.141715e+08               4.908004e+08   \n",
                            "881              2.771103e+08               3.891016e+08   \n",
                            "882              2.557720e+09               3.424499e+09   \n",
                            "883              2.503691e+09               3.482421e+09   \n",
                            "884              3.130468e+09               3.993045e+09   \n",
                            "885              3.885050e+09               5.050306e+09   \n",
                            "886              3.318741e+09               3.756893e+09   \n",
                            "887              2.540039e+09               2.724112e+09   \n",
                            "888              4.488574e+09               4.498715e+09   \n",
                            "889              1.955121e+09               1.840046e+09   \n",
                            "890              4.816340e+09               4.280838e+09   \n",
                            "891              2.693572e+09               2.354253e+09   \n",
                            "892              6.276980e+08               5.765207e+08   \n",
                            "893              6.109444e+08               4.609747e+08   \n",
                            "894              3.385649e+08               3.580149e+08   \n",
                            "895              2.335989e+09               1.859836e+09   \n",
                            "896              3.062357e+08               3.227653e+08   \n",
                            "897              6.847019e+08               5.277070e+08   \n",
                            "\n",
                            "     valor_desembolsado_ajustado  media_juros  media_prazo_carencia_meses  \\\n",
                            "879                 1.339494e+09         3.28                        19.4   \n",
                            "880                 4.886598e+08         3.64                        16.1   \n",
                            "881                 3.897936e+08         4.38                        15.0   \n",
                            "882                 3.435183e+09         5.11                        21.7   \n",
                            "883                 3.281751e+09         2.63                        21.4   \n",
                            "884                 3.920485e+09         3.20                        19.1   \n",
                            "885                 4.408068e+09         2.83                        18.3   \n",
                            "886                 3.682427e+09         3.09                        15.3   \n",
                            "887                 2.708024e+09         3.13                        17.1   \n",
                            "888                 4.350856e+09         3.50                        20.6   \n",
                            "889                 1.777063e+09         2.71                        21.8   \n",
                            "890                 4.081422e+09         2.74                        20.0   \n",
                            "891                 2.216543e+09         3.13                        21.7   \n",
                            "892                 4.834128e+08         2.75                        22.4   \n",
                            "893                 4.261925e+08         2.41                        20.4   \n",
                            "894                 2.341370e+08         2.76                        20.5   \n",
                            "895                 1.517529e+09         3.00                        24.6   \n",
                            "896                 1.875780e+08         3.05                        27.7   \n",
                            "897                 3.997641e+08         2.38                        30.1   \n",
                            "\n",
                            "     media_prazo_amortizacao_meses  num_empregados  \n",
                            "879                           55.9        505442.0  \n",
                            "880                           62.8        525774.0  \n",
                            "881                           57.5        621570.0  \n",
                            "882                           31.6        635279.0  \n",
                            "883                           61.5        707430.0  \n",
                            "884                           66.4        807752.0  \n",
                            "885                           73.6        843542.0  \n",
                            "886                           63.9        826559.0  \n",
                            "887                           54.7        920209.0  \n",
                            "888                           76.1        951255.0  \n",
                            "889                           68.2        933411.0  \n",
                            "890                           81.8        941342.0  \n",
                            "891                           57.9        899721.0  \n",
                            "892                           57.9        809950.0  \n",
                            "893                           59.0        749834.0  \n",
                            "894                           66.9        737504.0  \n",
                            "895                           91.4        734995.0  \n",
                            "896                           77.8        741404.0  \n",
                            "897                           75.8             NaN  "
                        ],
                        "text/html": [
                            "<div>\n",
                            "<style scoped>\n",
                            "    .dataframe tbody tr th:only-of-type {\n",
                            "        vertical-align: middle;\n",
                            "    }\n",
                            "\n",
                            "    .dataframe tbody tr th {\n",
                            "        vertical-align: top;\n",
                            "    }\n",
                            "\n",
                            "    .dataframe thead th {\n",
                            "        text-align: right;\n",
                            "    }\n",
                            "</style>\n",
                            "<table border=\"1\" class=\"dataframe\">\n",
                            "  <thead>\n",
                            "    <tr style=\"text-align: right;\">\n",
                            "      <th></th>\n",
                            "      <th>uf</th>\n",
                            "      <th>setor_bndes</th>\n",
                            "      <th>porte_do_cliente</th>\n",
                            "      <th>ano</th>\n",
                            "      <th>valor_contratado_reais</th>\n",
                            "      <th>valor_desembolsado_reais</th>\n",
                            "      <th>valor_contratado_ajustado</th>\n",
                            "      <th>valor_desembolsado_ajustado</th>\n",
                            "      <th>media_juros</th>\n",
                            "      <th>media_prazo_carencia_meses</th>\n",
                            "      <th>media_prazo_amortizacao_meses</th>\n",
                            "      <th>num_empregados</th>\n",
                            "    </tr>\n",
                            "  </thead>\n",
                            "  <tbody>\n",
                            "    <tr>\n",
                            "      <th>879</th>\n",
                            "      <td>SP</td>\n",
                            "      <td>INDUSTRIA</td>\n",
                            "      <td>GRANDE</td>\n",
                            "      <td>2002</td>\n",
                            "      <td>7.031570e+08</td>\n",
                            "      <td>7.340150e+08</td>\n",
                            "      <td>1.281616e+09</td>\n",
                            "      <td>1.339494e+09</td>\n",
                            "      <td>3.28</td>\n",
                            "      <td>19.4</td>\n",
                            "      <td>55.9</td>\n",
                            "      <td>505442.0</td>\n",
                            "    </tr>\n",
                            "    <tr>\n",
                            "      <th>880</th>\n",
                            "      <td>SP</td>\n",
                            "      <td>INDUSTRIA</td>\n",
                            "      <td>GRANDE</td>\n",
                            "      <td>2003</td>\n",
                            "      <td>3.156121e+08</td>\n",
                            "      <td>3.141715e+08</td>\n",
                            "      <td>4.908004e+08</td>\n",
                            "      <td>4.886598e+08</td>\n",
                            "      <td>3.64</td>\n",
                            "      <td>16.1</td>\n",
                            "      <td>62.8</td>\n",
                            "      <td>525774.0</td>\n",
                            "    </tr>\n",
                            "    <tr>\n",
                            "      <th>881</th>\n",
                            "      <td>SP</td>\n",
                            "      <td>INDUSTRIA</td>\n",
                            "      <td>GRANDE</td>\n",
                            "      <td>2004</td>\n",
                            "      <td>2.766436e+08</td>\n",
                            "      <td>2.771103e+08</td>\n",
                            "      <td>3.891016e+08</td>\n",
                            "      <td>3.897936e+08</td>\n",
                            "      <td>4.38</td>\n",
                            "      <td>15.0</td>\n",
                            "      <td>57.5</td>\n",
                            "      <td>621570.0</td>\n",
                            "    </tr>\n",
                            "    <tr>\n",
                            "      <th>882</th>\n",
                            "      <td>SP</td>\n",
                            "      <td>INDUSTRIA</td>\n",
                            "      <td>GRANDE</td>\n",
                            "      <td>2005</td>\n",
                            "      <td>2.549802e+09</td>\n",
                            "      <td>2.557720e+09</td>\n",
                            "      <td>3.424499e+09</td>\n",
                            "      <td>3.435183e+09</td>\n",
                            "      <td>5.11</td>\n",
                            "      <td>21.7</td>\n",
                            "      <td>31.6</td>\n",
                            "      <td>635279.0</td>\n",
                            "    </tr>\n",
                            "    <tr>\n",
                            "      <th>883</th>\n",
                            "      <td>SP</td>\n",
                            "      <td>INDUSTRIA</td>\n",
                            "      <td>GRANDE</td>\n",
                            "      <td>2006</td>\n",
                            "      <td>2.656786e+09</td>\n",
                            "      <td>2.503691e+09</td>\n",
                            "      <td>3.482421e+09</td>\n",
                            "      <td>3.281751e+09</td>\n",
                            "      <td>2.63</td>\n",
                            "      <td>21.4</td>\n",
                            "      <td>61.5</td>\n",
                            "      <td>707430.0</td>\n",
                            "    </tr>\n",
                            "    <tr>\n",
                            "      <th>884</th>\n",
                            "      <td>SP</td>\n",
                            "      <td>INDUSTRIA</td>\n",
                            "      <td>GRANDE</td>\n",
                            "      <td>2007</td>\n",
                            "      <td>3.189347e+09</td>\n",
                            "      <td>3.130468e+09</td>\n",
                            "      <td>3.993045e+09</td>\n",
                            "      <td>3.920485e+09</td>\n",
                            "      <td>3.20</td>\n",
                            "      <td>19.1</td>\n",
                            "      <td>66.4</td>\n",
                            "      <td>807752.0</td>\n",
                            "    </tr>\n",
                            "    <tr>\n",
                            "      <th>885</th>\n",
                            "      <td>SP</td>\n",
                            "      <td>INDUSTRIA</td>\n",
                            "      <td>GRANDE</td>\n",
                            "      <td>2008</td>\n",
                            "      <td>4.442376e+09</td>\n",
                            "      <td>3.885050e+09</td>\n",
                            "      <td>5.050306e+09</td>\n",
                            "      <td>4.408068e+09</td>\n",
                            "      <td>2.83</td>\n",
                            "      <td>18.3</td>\n",
                            "      <td>73.6</td>\n",
                            "      <td>843542.0</td>\n",
                            "    </tr>\n",
                            "    <tr>\n",
                            "      <th>886</th>\n",
                            "      <td>SP</td>\n",
                            "      <td>INDUSTRIA</td>\n",
                            "      <td>GRANDE</td>\n",
                            "      <td>2009</td>\n",
                            "      <td>3.385919e+09</td>\n",
                            "      <td>3.318741e+09</td>\n",
                            "      <td>3.756893e+09</td>\n",
                            "      <td>3.682427e+09</td>\n",
                            "      <td>3.09</td>\n",
                            "      <td>15.3</td>\n",
                            "      <td>63.9</td>\n",
                            "      <td>826559.0</td>\n",
                            "    </tr>\n",
                            "    <tr>\n",
                            "      <th>887</th>\n",
                            "      <td>SP</td>\n",
                            "      <td>INDUSTRIA</td>\n",
                            "      <td>GRANDE</td>\n",
                            "      <td>2010</td>\n",
                            "      <td>2.555657e+09</td>\n",
                            "      <td>2.540039e+09</td>\n",
                            "      <td>2.724112e+09</td>\n",
                            "      <td>2.708024e+09</td>\n",
                            "      <td>3.13</td>\n",
                            "      <td>17.1</td>\n",
                            "      <td>54.7</td>\n",
                            "      <td>920209.0</td>\n",
                            "    </tr>\n",
                            "    <tr>\n",
                            "      <th>888</th>\n",
                            "      <td>SP</td>\n",
                            "      <td>INDUSTRIA</td>\n",
                            "      <td>GRANDE</td>\n",
                            "      <td>2011</td>\n",
                            "      <td>4.639901e+09</td>\n",
                            "      <td>4.488574e+09</td>\n",
                            "      <td>4.498715e+09</td>\n",
                            "      <td>4.350856e+09</td>\n",
                            "      <td>3.50</td>\n",
                            "      <td>20.6</td>\n",
                            "      <td>76.1</td>\n",
                            "      <td>951255.0</td>\n",
                            "    </tr>\n",
                            "    <tr>\n",
                            "      <th>889</th>\n",
                            "      <td>SP</td>\n",
                            "      <td>INDUSTRIA</td>\n",
                            "      <td>GRANDE</td>\n",
                            "      <td>2012</td>\n",
                            "      <td>2.022904e+09</td>\n",
                            "      <td>1.955121e+09</td>\n",
                            "      <td>1.840046e+09</td>\n",
                            "      <td>1.777063e+09</td>\n",
                            "      <td>2.71</td>\n",
                            "      <td>21.8</td>\n",
                            "      <td>68.2</td>\n",
                            "      <td>933411.0</td>\n",
                            "    </tr>\n",
                            "    <tr>\n",
                            "      <th>890</th>\n",
                            "      <td>SP</td>\n",
                            "      <td>INDUSTRIA</td>\n",
                            "      <td>GRANDE</td>\n",
                            "      <td>2013</td>\n",
                            "      <td>5.051360e+09</td>\n",
                            "      <td>4.816340e+09</td>\n",
                            "      <td>4.280838e+09</td>\n",
                            "      <td>4.081422e+09</td>\n",
                            "      <td>2.74</td>\n",
                            "      <td>20.0</td>\n",
                            "      <td>81.8</td>\n",
                            "      <td>941342.0</td>\n",
                            "    </tr>\n",
                            "    <tr>\n",
                            "      <th>891</th>\n",
                            "      <td>SP</td>\n",
                            "      <td>INDUSTRIA</td>\n",
                            "      <td>GRANDE</td>\n",
                            "      <td>2014</td>\n",
                            "      <td>2.863355e+09</td>\n",
                            "      <td>2.693572e+09</td>\n",
                            "      <td>2.354253e+09</td>\n",
                            "      <td>2.216543e+09</td>\n",
                            "      <td>3.13</td>\n",
                            "      <td>21.7</td>\n",
                            "      <td>57.9</td>\n",
                            "      <td>899721.0</td>\n",
                            "    </tr>\n",
                            "    <tr>\n",
                            "      <th>892</th>\n",
                            "      <td>SP</td>\n",
                            "      <td>INDUSTRIA</td>\n",
                            "      <td>GRANDE</td>\n",
                            "      <td>2015</td>\n",
                            "      <td>7.488728e+08</td>\n",
                            "      <td>6.276980e+08</td>\n",
                            "      <td>5.765207e+08</td>\n",
                            "      <td>4.834128e+08</td>\n",
                            "      <td>2.75</td>\n",
                            "      <td>22.4</td>\n",
                            "      <td>57.9</td>\n",
                            "      <td>809950.0</td>\n",
                            "    </tr>\n",
                            "    <tr>\n",
                            "      <th>893</th>\n",
                            "      <td>SP</td>\n",
                            "      <td>INDUSTRIA</td>\n",
                            "      <td>GRANDE</td>\n",
                            "      <td>2016</td>\n",
                            "      <td>6.603712e+08</td>\n",
                            "      <td>6.109444e+08</td>\n",
                            "      <td>4.609747e+08</td>\n",
                            "      <td>4.261925e+08</td>\n",
                            "      <td>2.41</td>\n",
                            "      <td>20.4</td>\n",
                            "      <td>59.0</td>\n",
                            "      <td>749834.0</td>\n",
                            "    </tr>\n",
                            "    <tr>\n",
                            "      <th>894</th>\n",
                            "      <td>SP</td>\n",
                            "      <td>INDUSTRIA</td>\n",
                            "      <td>GRANDE</td>\n",
                            "      <td>2017</td>\n",
                            "      <td>5.181273e+08</td>\n",
                            "      <td>3.385649e+08</td>\n",
                            "      <td>3.580149e+08</td>\n",
                            "      <td>2.341370e+08</td>\n",
                            "      <td>2.76</td>\n",
                            "      <td>20.5</td>\n",
                            "      <td>66.9</td>\n",
                            "      <td>737504.0</td>\n",
                            "    </tr>\n",
                            "    <tr>\n",
                            "      <th>895</th>\n",
                            "      <td>SP</td>\n",
                            "      <td>INDUSTRIA</td>\n",
                            "      <td>GRANDE</td>\n",
                            "      <td>2018</td>\n",
                            "      <td>2.865743e+09</td>\n",
                            "      <td>2.335989e+09</td>\n",
                            "      <td>1.859836e+09</td>\n",
                            "      <td>1.517529e+09</td>\n",
                            "      <td>3.00</td>\n",
                            "      <td>24.6</td>\n",
                            "      <td>91.4</td>\n",
                            "      <td>734995.0</td>\n",
                            "    </tr>\n",
                            "    <tr>\n",
                            "      <th>896</th>\n",
                            "      <td>SP</td>\n",
                            "      <td>INDUSTRIA</td>\n",
                            "      <td>GRANDE</td>\n",
                            "      <td>2019</td>\n",
                            "      <td>5.287984e+08</td>\n",
                            "      <td>3.062357e+08</td>\n",
                            "      <td>3.227653e+08</td>\n",
                            "      <td>1.875780e+08</td>\n",
                            "      <td>3.05</td>\n",
                            "      <td>27.7</td>\n",
                            "      <td>77.8</td>\n",
                            "      <td>741404.0</td>\n",
                            "    </tr>\n",
                            "    <tr>\n",
                            "      <th>897</th>\n",
                            "      <td>SP</td>\n",
                            "      <td>INDUSTRIA</td>\n",
                            "      <td>GRANDE</td>\n",
                            "      <td>2020</td>\n",
                            "      <td>9.028722e+08</td>\n",
                            "      <td>6.847019e+08</td>\n",
                            "      <td>5.277070e+08</td>\n",
                            "      <td>3.997641e+08</td>\n",
                            "      <td>2.38</td>\n",
                            "      <td>30.1</td>\n",
                            "      <td>75.8</td>\n",
                            "      <td>NaN</td>\n",
                            "    </tr>\n",
                            "  </tbody>\n",
                            "</table>\n",
                            "</div>"
                        ]
                    },
                    "metadata": {},
                    "execution_count": 44
                }
            ],
            "metadata": {}
        },
        {
            "cell_type": "code",
            "execution_count": 45,
            "source": [
                "## Checking 0's and negative values.\n",
                "df_caged.loc[df_caged['num_empregados'] <= 0]"
            ],
            "outputs": [
                {
                    "output_type": "execute_result",
                    "data": {
                        "text/plain": [
                            "     uf   setor_bndes porte_do_cliente   ano  valor_contratado_reais  \\\n",
                            "0    AC     INDUSTRIA           GRANDE  2002                605515.2   \n",
                            "1    AC     INDUSTRIA           GRANDE  2005              25059451.9   \n",
                            "2    AC     INDUSTRIA           GRANDE  2008              55073532.0   \n",
                            "5    AL  AGROPECUARIA           GRANDE  2014              12350000.0   \n",
                            "953  TO  AGROPECUARIA           GRANDE  2011              11494000.0   \n",
                            "\n",
                            "     valor_desembolsado_reais  valor_contratado_ajustado  \\\n",
                            "0                    612000.0                  1195596.0   \n",
                            "1                  25712810.3                 33504343.0   \n",
                            "2                  51807339.7                 64184654.0   \n",
                            "5                  12350000.0                  9962536.0   \n",
                            "953                11494000.0                 11156409.0   \n",
                            "\n",
                            "     valor_desembolsado_ajustado  media_juros  media_prazo_carencia_meses  \\\n",
                            "0                      1208401.0         4.00                        18.0   \n",
                            "1                     34377879.0         3.50                        18.0   \n",
                            "2                     60378117.0         2.00                        30.0   \n",
                            "5                      9962536.0         2.00                        36.0   \n",
                            "953                   11156409.0         2.45                        84.0   \n",
                            "\n",
                            "     media_prazo_amortizacao_meses  num_empregados  \n",
                            "0                             66.0             0.0  \n",
                            "1                            102.0             0.0  \n",
                            "2                             90.0             0.0  \n",
                            "5                             84.0             0.0  \n",
                            "953                           84.0             0.0  "
                        ],
                        "text/html": [
                            "<div>\n",
                            "<style scoped>\n",
                            "    .dataframe tbody tr th:only-of-type {\n",
                            "        vertical-align: middle;\n",
                            "    }\n",
                            "\n",
                            "    .dataframe tbody tr th {\n",
                            "        vertical-align: top;\n",
                            "    }\n",
                            "\n",
                            "    .dataframe thead th {\n",
                            "        text-align: right;\n",
                            "    }\n",
                            "</style>\n",
                            "<table border=\"1\" class=\"dataframe\">\n",
                            "  <thead>\n",
                            "    <tr style=\"text-align: right;\">\n",
                            "      <th></th>\n",
                            "      <th>uf</th>\n",
                            "      <th>setor_bndes</th>\n",
                            "      <th>porte_do_cliente</th>\n",
                            "      <th>ano</th>\n",
                            "      <th>valor_contratado_reais</th>\n",
                            "      <th>valor_desembolsado_reais</th>\n",
                            "      <th>valor_contratado_ajustado</th>\n",
                            "      <th>valor_desembolsado_ajustado</th>\n",
                            "      <th>media_juros</th>\n",
                            "      <th>media_prazo_carencia_meses</th>\n",
                            "      <th>media_prazo_amortizacao_meses</th>\n",
                            "      <th>num_empregados</th>\n",
                            "    </tr>\n",
                            "  </thead>\n",
                            "  <tbody>\n",
                            "    <tr>\n",
                            "      <th>0</th>\n",
                            "      <td>AC</td>\n",
                            "      <td>INDUSTRIA</td>\n",
                            "      <td>GRANDE</td>\n",
                            "      <td>2002</td>\n",
                            "      <td>605515.2</td>\n",
                            "      <td>612000.0</td>\n",
                            "      <td>1195596.0</td>\n",
                            "      <td>1208401.0</td>\n",
                            "      <td>4.00</td>\n",
                            "      <td>18.0</td>\n",
                            "      <td>66.0</td>\n",
                            "      <td>0.0</td>\n",
                            "    </tr>\n",
                            "    <tr>\n",
                            "      <th>1</th>\n",
                            "      <td>AC</td>\n",
                            "      <td>INDUSTRIA</td>\n",
                            "      <td>GRANDE</td>\n",
                            "      <td>2005</td>\n",
                            "      <td>25059451.9</td>\n",
                            "      <td>25712810.3</td>\n",
                            "      <td>33504343.0</td>\n",
                            "      <td>34377879.0</td>\n",
                            "      <td>3.50</td>\n",
                            "      <td>18.0</td>\n",
                            "      <td>102.0</td>\n",
                            "      <td>0.0</td>\n",
                            "    </tr>\n",
                            "    <tr>\n",
                            "      <th>2</th>\n",
                            "      <td>AC</td>\n",
                            "      <td>INDUSTRIA</td>\n",
                            "      <td>GRANDE</td>\n",
                            "      <td>2008</td>\n",
                            "      <td>55073532.0</td>\n",
                            "      <td>51807339.7</td>\n",
                            "      <td>64184654.0</td>\n",
                            "      <td>60378117.0</td>\n",
                            "      <td>2.00</td>\n",
                            "      <td>30.0</td>\n",
                            "      <td>90.0</td>\n",
                            "      <td>0.0</td>\n",
                            "    </tr>\n",
                            "    <tr>\n",
                            "      <th>5</th>\n",
                            "      <td>AL</td>\n",
                            "      <td>AGROPECUARIA</td>\n",
                            "      <td>GRANDE</td>\n",
                            "      <td>2014</td>\n",
                            "      <td>12350000.0</td>\n",
                            "      <td>12350000.0</td>\n",
                            "      <td>9962536.0</td>\n",
                            "      <td>9962536.0</td>\n",
                            "      <td>2.00</td>\n",
                            "      <td>36.0</td>\n",
                            "      <td>84.0</td>\n",
                            "      <td>0.0</td>\n",
                            "    </tr>\n",
                            "    <tr>\n",
                            "      <th>953</th>\n",
                            "      <td>TO</td>\n",
                            "      <td>AGROPECUARIA</td>\n",
                            "      <td>GRANDE</td>\n",
                            "      <td>2011</td>\n",
                            "      <td>11494000.0</td>\n",
                            "      <td>11494000.0</td>\n",
                            "      <td>11156409.0</td>\n",
                            "      <td>11156409.0</td>\n",
                            "      <td>2.45</td>\n",
                            "      <td>84.0</td>\n",
                            "      <td>84.0</td>\n",
                            "      <td>0.0</td>\n",
                            "    </tr>\n",
                            "  </tbody>\n",
                            "</table>\n",
                            "</div>"
                        ]
                    },
                    "metadata": {},
                    "execution_count": 45
                }
            ],
            "metadata": {}
        },
        {
            "cell_type": "code",
            "execution_count": 46,
            "source": [
                "## Checking 0's and negative values.\n",
                "df_caged.loc[df_caged['valor_contratado_ajustado'] <= 0]"
            ],
            "outputs": [
                {
                    "output_type": "execute_result",
                    "data": {
                        "text/plain": [
                            "Empty DataFrame\n",
                            "Columns: [uf, setor_bndes, porte_do_cliente, ano, valor_contratado_reais, valor_desembolsado_reais, valor_contratado_ajustado, valor_desembolsado_ajustado, media_juros, media_prazo_carencia_meses, media_prazo_amortizacao_meses, num_empregados]\n",
                            "Index: []"
                        ],
                        "text/html": [
                            "<div>\n",
                            "<style scoped>\n",
                            "    .dataframe tbody tr th:only-of-type {\n",
                            "        vertical-align: middle;\n",
                            "    }\n",
                            "\n",
                            "    .dataframe tbody tr th {\n",
                            "        vertical-align: top;\n",
                            "    }\n",
                            "\n",
                            "    .dataframe thead th {\n",
                            "        text-align: right;\n",
                            "    }\n",
                            "</style>\n",
                            "<table border=\"1\" class=\"dataframe\">\n",
                            "  <thead>\n",
                            "    <tr style=\"text-align: right;\">\n",
                            "      <th></th>\n",
                            "      <th>uf</th>\n",
                            "      <th>setor_bndes</th>\n",
                            "      <th>porte_do_cliente</th>\n",
                            "      <th>ano</th>\n",
                            "      <th>valor_contratado_reais</th>\n",
                            "      <th>valor_desembolsado_reais</th>\n",
                            "      <th>valor_contratado_ajustado</th>\n",
                            "      <th>valor_desembolsado_ajustado</th>\n",
                            "      <th>media_juros</th>\n",
                            "      <th>media_prazo_carencia_meses</th>\n",
                            "      <th>media_prazo_amortizacao_meses</th>\n",
                            "      <th>num_empregados</th>\n",
                            "    </tr>\n",
                            "  </thead>\n",
                            "  <tbody>\n",
                            "  </tbody>\n",
                            "</table>\n",
                            "</div>"
                        ]
                    },
                    "metadata": {},
                    "execution_count": 46
                }
            ],
            "metadata": {}
        },
        {
            "cell_type": "code",
            "execution_count": 47,
            "source": [
                "## Checking 0's and negative values.\n",
                "df_caged.loc[df_caged['valor_desembolsado_ajustado'] <= 0]\n"
            ],
            "outputs": [
                {
                    "output_type": "execute_result",
                    "data": {
                        "text/plain": [
                            "Empty DataFrame\n",
                            "Columns: [uf, setor_bndes, porte_do_cliente, ano, valor_contratado_reais, valor_desembolsado_reais, valor_contratado_ajustado, valor_desembolsado_ajustado, media_juros, media_prazo_carencia_meses, media_prazo_amortizacao_meses, num_empregados]\n",
                            "Index: []"
                        ],
                        "text/html": [
                            "<div>\n",
                            "<style scoped>\n",
                            "    .dataframe tbody tr th:only-of-type {\n",
                            "        vertical-align: middle;\n",
                            "    }\n",
                            "\n",
                            "    .dataframe tbody tr th {\n",
                            "        vertical-align: top;\n",
                            "    }\n",
                            "\n",
                            "    .dataframe thead th {\n",
                            "        text-align: right;\n",
                            "    }\n",
                            "</style>\n",
                            "<table border=\"1\" class=\"dataframe\">\n",
                            "  <thead>\n",
                            "    <tr style=\"text-align: right;\">\n",
                            "      <th></th>\n",
                            "      <th>uf</th>\n",
                            "      <th>setor_bndes</th>\n",
                            "      <th>porte_do_cliente</th>\n",
                            "      <th>ano</th>\n",
                            "      <th>valor_contratado_reais</th>\n",
                            "      <th>valor_desembolsado_reais</th>\n",
                            "      <th>valor_contratado_ajustado</th>\n",
                            "      <th>valor_desembolsado_ajustado</th>\n",
                            "      <th>media_juros</th>\n",
                            "      <th>media_prazo_carencia_meses</th>\n",
                            "      <th>media_prazo_amortizacao_meses</th>\n",
                            "      <th>num_empregados</th>\n",
                            "    </tr>\n",
                            "  </thead>\n",
                            "  <tbody>\n",
                            "  </tbody>\n",
                            "</table>\n",
                            "</div>"
                        ]
                    },
                    "metadata": {},
                    "execution_count": 47
                }
            ],
            "metadata": {}
        },
        {
            "cell_type": "code",
            "execution_count": 49,
            "source": [
                "## Setting 0 to na\n",
                "df_caged['num_empregados'].replace({'0': np.nan, 0: np.nan}, inplace=True)"
            ],
            "outputs": [],
            "metadata": {}
        },
        {
            "cell_type": "code",
            "execution_count": 50,
            "source": [
                "## Exporting integrated dataset\n",
                "df_caged.to_csv('bases-ajustadas/operacoes-uf-setor-ano-porte.csv',\n",
                "                    index=False, header=True)"
            ],
            "outputs": [],
            "metadata": {}
        },
        {
            "cell_type": "markdown",
            "source": [
                "## 4.2 - Agrupamento para os dados do PIB/SEEG/CAGED_por_estado - UF/SETOR/ANO"
            ],
            "metadata": {}
        },
        {
            "cell_type": "markdown",
            "source": [
                "- **É necessário recuperar o dataset após o passo 3.3 para rodar esta parte.**"
            ],
            "metadata": {}
        },
        {
            "cell_type": "markdown",
            "source": [
                "### 4.2.1 - Agrupamento para os dados de PIB"
            ],
            "metadata": {}
        },
        {
            "cell_type": "code",
            "execution_count": 51,
            "source": [
                "## Loading auxiliar datasets.\n",
                "pib_ind = pd.read_csv('bases-auxiliares/PIB-IND.csv')\n",
                "pib_agro = pd.read_csv('bases-auxiliares/PIB-agro.csv')"
            ],
            "outputs": [],
            "metadata": {}
        },
        {
            "cell_type": "code",
            "execution_count": 52,
            "source": [
                "## Setting dataset for PIB data.\n",
                "df_pib = pd.read_csv('bases-ajustadas/operacoes-ajustado.csv')"
            ],
            "outputs": [],
            "metadata": {}
        },
        {
            "cell_type": "code",
            "execution_count": 53,
            "source": [
                "## Drop columns with higher segmentation levels.\n",
                "drop_cols = ['cliente', 'cnpj', 'ano', 'fonte_de_recurso_desembolsos', 'numero_do_contrato', 'igpm',\n",
                "             'custo_financeiro', 'modalidade_de_apoio', 'produto', 'instrumento_financeiro',\n",
                "             'inovacao', 'area_operacional', 'subsetor_bndes', 'porte_do_cliente', 'natureza_do_cliente', 'tipo_de_garantia',\n",
                "             'situacao_do_contrato']\n",
                "df_pib.drop(drop_cols, axis=1, inplace=True)\n"
            ],
            "outputs": [],
            "metadata": {}
        },
        {
            "cell_type": "code",
            "execution_count": 54,
            "source": [
                "# Indexing a new column with year format.\n",
                "df_pib['ano'] = pd.to_datetime(df_pib['data_da_contratacao'])\n",
                "df_pib['ano'] = pd.DatetimeIndex(df_pib['ano']).year"
            ],
            "outputs": [],
            "metadata": {}
        },
        {
            "cell_type": "code",
            "execution_count": 55,
            "source": [
                "## Group dataset with mean values and by uf, setor_bndes, ano.\n",
                "df_pib = df_pib.groupby(['uf', 'setor_bndes', 'ano'], as_index=False).agg(\n",
                "    {'valor_contratado_reais': ['sum'], 'valor_desembolsado_reais': ['sum'],\n",
                "     'juros': ['mean'], 'prazo_carencia_meses': ['mean'], 'prazo_amortizacao_meses': ['mean'],\n",
                "     'valor_contratado_ajustado': ['sum'], 'valor_desembolsado_ajustado': ['sum']})\n"
            ],
            "outputs": [],
            "metadata": {}
        },
        {
            "cell_type": "code",
            "execution_count": 56,
            "source": [
                "## Melt multi index from pandas.\n",
                "df_pib.columns = list(map(''.join, df_pib.columns.values))"
            ],
            "outputs": [],
            "metadata": {}
        },
        {
            "cell_type": "code",
            "execution_count": 57,
            "source": [
                "## Rename columns.\n",
                "df_pib.columns = ['uf', 'setor_bndes', 'ano', 'valor_contratado_reais',\n",
                "                    'valor_desembolsado_reais', 'media_juros', 'media_prazo_carencia_meses',\n",
                "                    'media_prazo_amortizacao_meses', 'valor_contratado_ajustado', 'valor_desembolsado_ajustado']\n"
            ],
            "outputs": [],
            "metadata": {}
        },
        {
            "cell_type": "code",
            "execution_count": 58,
            "source": [
                "# Round numeric values.\n",
                "toRound = ['valor_contratado_reais', 'valor_desembolsado_reais',\n",
                "           'valor_contratado_ajustado', 'valor_desembolsado_ajustado',\n",
                "           'media_prazo_carencia_meses', 'media_prazo_amortizacao_meses']\n",
                "df_pib[toRound] = df_pib[toRound].round(1)\n",
                "df_pib['media_juros'] = df_pib['media_juros'].round(2)\n"
            ],
            "outputs": [],
            "metadata": {}
        },
        {
            "cell_type": "code",
            "execution_count": 59,
            "source": [
                "df_pib.head()"
            ],
            "outputs": [
                {
                    "output_type": "execute_result",
                    "data": {
                        "text/plain": [
                            "   uf     setor_bndes   ano  valor_contratado_reais  valor_desembolsado_reais  \\\n",
                            "0  AC       INDUSTRIA  2002                605515.2                  612000.0   \n",
                            "1  AC       INDUSTRIA  2005              25059451.9                25712810.3   \n",
                            "2  AC       INDUSTRIA  2008              55073532.0                51807339.7   \n",
                            "3  AC  INFRAESTRUTURA  2007              32048964.0                32110602.6   \n",
                            "4  AC  INFRAESTRUTURA  2008              60759000.0                60936725.7   \n",
                            "\n",
                            "   media_juros  media_prazo_carencia_meses  media_prazo_amortizacao_meses  \\\n",
                            "0          4.0                        18.0                           66.0   \n",
                            "1          3.5                        18.0                          102.0   \n",
                            "2          2.0                        30.0                           90.0   \n",
                            "3          2.0                        24.0                           96.0   \n",
                            "4          2.0                        30.0                          162.0   \n",
                            "\n",
                            "   valor_contratado_ajustado  valor_desembolsado_ajustado  \n",
                            "0                  1195596.0                    1208401.0  \n",
                            "1                 33504343.0                   34377879.0  \n",
                            "2                 64184654.0                   60378117.0  \n",
                            "3                 40890361.0                   40969004.0  \n",
                            "4                 70810700.0                   71017828.0  "
                        ],
                        "text/html": [
                            "<div>\n",
                            "<style scoped>\n",
                            "    .dataframe tbody tr th:only-of-type {\n",
                            "        vertical-align: middle;\n",
                            "    }\n",
                            "\n",
                            "    .dataframe tbody tr th {\n",
                            "        vertical-align: top;\n",
                            "    }\n",
                            "\n",
                            "    .dataframe thead th {\n",
                            "        text-align: right;\n",
                            "    }\n",
                            "</style>\n",
                            "<table border=\"1\" class=\"dataframe\">\n",
                            "  <thead>\n",
                            "    <tr style=\"text-align: right;\">\n",
                            "      <th></th>\n",
                            "      <th>uf</th>\n",
                            "      <th>setor_bndes</th>\n",
                            "      <th>ano</th>\n",
                            "      <th>valor_contratado_reais</th>\n",
                            "      <th>valor_desembolsado_reais</th>\n",
                            "      <th>media_juros</th>\n",
                            "      <th>media_prazo_carencia_meses</th>\n",
                            "      <th>media_prazo_amortizacao_meses</th>\n",
                            "      <th>valor_contratado_ajustado</th>\n",
                            "      <th>valor_desembolsado_ajustado</th>\n",
                            "    </tr>\n",
                            "  </thead>\n",
                            "  <tbody>\n",
                            "    <tr>\n",
                            "      <th>0</th>\n",
                            "      <td>AC</td>\n",
                            "      <td>INDUSTRIA</td>\n",
                            "      <td>2002</td>\n",
                            "      <td>605515.2</td>\n",
                            "      <td>612000.0</td>\n",
                            "      <td>4.0</td>\n",
                            "      <td>18.0</td>\n",
                            "      <td>66.0</td>\n",
                            "      <td>1195596.0</td>\n",
                            "      <td>1208401.0</td>\n",
                            "    </tr>\n",
                            "    <tr>\n",
                            "      <th>1</th>\n",
                            "      <td>AC</td>\n",
                            "      <td>INDUSTRIA</td>\n",
                            "      <td>2005</td>\n",
                            "      <td>25059451.9</td>\n",
                            "      <td>25712810.3</td>\n",
                            "      <td>3.5</td>\n",
                            "      <td>18.0</td>\n",
                            "      <td>102.0</td>\n",
                            "      <td>33504343.0</td>\n",
                            "      <td>34377879.0</td>\n",
                            "    </tr>\n",
                            "    <tr>\n",
                            "      <th>2</th>\n",
                            "      <td>AC</td>\n",
                            "      <td>INDUSTRIA</td>\n",
                            "      <td>2008</td>\n",
                            "      <td>55073532.0</td>\n",
                            "      <td>51807339.7</td>\n",
                            "      <td>2.0</td>\n",
                            "      <td>30.0</td>\n",
                            "      <td>90.0</td>\n",
                            "      <td>64184654.0</td>\n",
                            "      <td>60378117.0</td>\n",
                            "    </tr>\n",
                            "    <tr>\n",
                            "      <th>3</th>\n",
                            "      <td>AC</td>\n",
                            "      <td>INFRAESTRUTURA</td>\n",
                            "      <td>2007</td>\n",
                            "      <td>32048964.0</td>\n",
                            "      <td>32110602.6</td>\n",
                            "      <td>2.0</td>\n",
                            "      <td>24.0</td>\n",
                            "      <td>96.0</td>\n",
                            "      <td>40890361.0</td>\n",
                            "      <td>40969004.0</td>\n",
                            "    </tr>\n",
                            "    <tr>\n",
                            "      <th>4</th>\n",
                            "      <td>AC</td>\n",
                            "      <td>INFRAESTRUTURA</td>\n",
                            "      <td>2008</td>\n",
                            "      <td>60759000.0</td>\n",
                            "      <td>60936725.7</td>\n",
                            "      <td>2.0</td>\n",
                            "      <td>30.0</td>\n",
                            "      <td>162.0</td>\n",
                            "      <td>70810700.0</td>\n",
                            "      <td>71017828.0</td>\n",
                            "    </tr>\n",
                            "  </tbody>\n",
                            "</table>\n",
                            "</div>"
                        ]
                    },
                    "metadata": {},
                    "execution_count": 59
                }
            ],
            "metadata": {}
        },
        {
            "cell_type": "code",
            "execution_count": 60,
            "source": [
                "## Set columns to drop from PIB datasets\n",
                "col_drops = ['Código', 'Estado']\n",
                "\n",
                "## Change PIB datasets structure to match our project standards\n",
                "pib_agro = melt_pib(pib_agro, col_drops, 'AGROPECUARIA')\n",
                "pib_ind = melt_pib(pib_ind, col_drops, 'INDUSTRIA')"
            ],
            "outputs": [],
            "metadata": {}
        },
        {
            "cell_type": "code",
            "execution_count": 61,
            "source": [
                "## Append PIB datasets\n",
                "pib = pd.concat([pib_agro, pib_ind], axis=0, ignore_index=True)"
            ],
            "outputs": [],
            "metadata": {}
        },
        {
            "cell_type": "code",
            "execution_count": 62,
            "source": [
                "print(pib.shape)\n",
                "print(pib.head())\n",
                "print(pib['setor'].unique())"
            ],
            "outputs": [
                {
                    "output_type": "stream",
                    "name": "stdout",
                    "text": [
                        "(864, 4)\n",
                        "   uf   ano         setor           pib\n",
                        "0  AC  2002  AGROPECUARIA  5.401684e+05\n",
                        "1  AL  2002  AGROPECUARIA  4.700566e+06\n",
                        "2  AM  2002  AGROPECUARIA  2.354165e+06\n",
                        "3  AP  2002  AGROPECUARIA  7.825019e+04\n",
                        "4  BA  2002  AGROPECUARIA  1.256136e+07\n",
                        "['AGROPECUARIA' 'INDUSTRIA']\n"
                    ]
                }
            ],
            "metadata": {}
        },
        {
            "cell_type": "code",
            "execution_count": 63,
            "source": [
                "## Set format to numeric\n",
                "pib['ano'] = pd.to_numeric(pib['ano'])"
            ],
            "outputs": [],
            "metadata": {}
        },
        {
            "cell_type": "code",
            "execution_count": 64,
            "source": [
                "## Change scale to unit R$ and round\n",
                "pib['pib'] = round(pib['pib'] * 1000)\n",
                "pib"
            ],
            "outputs": [
                {
                    "output_type": "execute_result",
                    "data": {
                        "text/plain": [
                            "     uf   ano         setor           pib\n",
                            "0    AC  2002  AGROPECUARIA  5.401684e+08\n",
                            "1    AL  2002  AGROPECUARIA  4.700566e+09\n",
                            "2    AM  2002  AGROPECUARIA  2.354165e+09\n",
                            "3    AP  2002  AGROPECUARIA  7.825018e+07\n",
                            "4    BA  2002  AGROPECUARIA  1.256136e+10\n",
                            "..   ..   ...           ...           ...\n",
                            "859  RS  2017     INDUSTRIA  5.022485e+10\n",
                            "860  SC  2017     INDUSTRIA  3.868059e+10\n",
                            "861  SE  2017     INDUSTRIA  4.262866e+09\n",
                            "862  SP  2017     INDUSTRIA  2.318155e+11\n",
                            "863  TO  2017     INDUSTRIA  2.780148e+09\n",
                            "\n",
                            "[864 rows x 4 columns]"
                        ],
                        "text/html": [
                            "<div>\n",
                            "<style scoped>\n",
                            "    .dataframe tbody tr th:only-of-type {\n",
                            "        vertical-align: middle;\n",
                            "    }\n",
                            "\n",
                            "    .dataframe tbody tr th {\n",
                            "        vertical-align: top;\n",
                            "    }\n",
                            "\n",
                            "    .dataframe thead th {\n",
                            "        text-align: right;\n",
                            "    }\n",
                            "</style>\n",
                            "<table border=\"1\" class=\"dataframe\">\n",
                            "  <thead>\n",
                            "    <tr style=\"text-align: right;\">\n",
                            "      <th></th>\n",
                            "      <th>uf</th>\n",
                            "      <th>ano</th>\n",
                            "      <th>setor</th>\n",
                            "      <th>pib</th>\n",
                            "    </tr>\n",
                            "  </thead>\n",
                            "  <tbody>\n",
                            "    <tr>\n",
                            "      <th>0</th>\n",
                            "      <td>AC</td>\n",
                            "      <td>2002</td>\n",
                            "      <td>AGROPECUARIA</td>\n",
                            "      <td>5.401684e+08</td>\n",
                            "    </tr>\n",
                            "    <tr>\n",
                            "      <th>1</th>\n",
                            "      <td>AL</td>\n",
                            "      <td>2002</td>\n",
                            "      <td>AGROPECUARIA</td>\n",
                            "      <td>4.700566e+09</td>\n",
                            "    </tr>\n",
                            "    <tr>\n",
                            "      <th>2</th>\n",
                            "      <td>AM</td>\n",
                            "      <td>2002</td>\n",
                            "      <td>AGROPECUARIA</td>\n",
                            "      <td>2.354165e+09</td>\n",
                            "    </tr>\n",
                            "    <tr>\n",
                            "      <th>3</th>\n",
                            "      <td>AP</td>\n",
                            "      <td>2002</td>\n",
                            "      <td>AGROPECUARIA</td>\n",
                            "      <td>7.825018e+07</td>\n",
                            "    </tr>\n",
                            "    <tr>\n",
                            "      <th>4</th>\n",
                            "      <td>BA</td>\n",
                            "      <td>2002</td>\n",
                            "      <td>AGROPECUARIA</td>\n",
                            "      <td>1.256136e+10</td>\n",
                            "    </tr>\n",
                            "    <tr>\n",
                            "      <th>...</th>\n",
                            "      <td>...</td>\n",
                            "      <td>...</td>\n",
                            "      <td>...</td>\n",
                            "      <td>...</td>\n",
                            "    </tr>\n",
                            "    <tr>\n",
                            "      <th>859</th>\n",
                            "      <td>RS</td>\n",
                            "      <td>2017</td>\n",
                            "      <td>INDUSTRIA</td>\n",
                            "      <td>5.022485e+10</td>\n",
                            "    </tr>\n",
                            "    <tr>\n",
                            "      <th>860</th>\n",
                            "      <td>SC</td>\n",
                            "      <td>2017</td>\n",
                            "      <td>INDUSTRIA</td>\n",
                            "      <td>3.868059e+10</td>\n",
                            "    </tr>\n",
                            "    <tr>\n",
                            "      <th>861</th>\n",
                            "      <td>SE</td>\n",
                            "      <td>2017</td>\n",
                            "      <td>INDUSTRIA</td>\n",
                            "      <td>4.262866e+09</td>\n",
                            "    </tr>\n",
                            "    <tr>\n",
                            "      <th>862</th>\n",
                            "      <td>SP</td>\n",
                            "      <td>2017</td>\n",
                            "      <td>INDUSTRIA</td>\n",
                            "      <td>2.318155e+11</td>\n",
                            "    </tr>\n",
                            "    <tr>\n",
                            "      <th>863</th>\n",
                            "      <td>TO</td>\n",
                            "      <td>2017</td>\n",
                            "      <td>INDUSTRIA</td>\n",
                            "      <td>2.780148e+09</td>\n",
                            "    </tr>\n",
                            "  </tbody>\n",
                            "</table>\n",
                            "<p>864 rows × 4 columns</p>\n",
                            "</div>"
                        ]
                    },
                    "metadata": {},
                    "execution_count": 64
                }
            ],
            "metadata": {}
        },
        {
            "cell_type": "code",
            "execution_count": 67,
            "source": [
                "## Looking for 0's and negatives.\n",
                "pib.loc[pib['pib'] <= 0]"
            ],
            "outputs": [
                {
                    "output_type": "execute_result",
                    "data": {
                        "text/plain": [
                            "Empty DataFrame\n",
                            "Columns: [uf, ano, setor, pib]\n",
                            "Index: []"
                        ],
                        "text/html": [
                            "<div>\n",
                            "<style scoped>\n",
                            "    .dataframe tbody tr th:only-of-type {\n",
                            "        vertical-align: middle;\n",
                            "    }\n",
                            "\n",
                            "    .dataframe tbody tr th {\n",
                            "        vertical-align: top;\n",
                            "    }\n",
                            "\n",
                            "    .dataframe thead th {\n",
                            "        text-align: right;\n",
                            "    }\n",
                            "</style>\n",
                            "<table border=\"1\" class=\"dataframe\">\n",
                            "  <thead>\n",
                            "    <tr style=\"text-align: right;\">\n",
                            "      <th></th>\n",
                            "      <th>uf</th>\n",
                            "      <th>ano</th>\n",
                            "      <th>setor</th>\n",
                            "      <th>pib</th>\n",
                            "    </tr>\n",
                            "  </thead>\n",
                            "  <tbody>\n",
                            "  </tbody>\n",
                            "</table>\n",
                            "</div>"
                        ]
                    },
                    "metadata": {},
                    "execution_count": 67
                }
            ],
            "metadata": {}
        },
        {
            "cell_type": "code",
            "execution_count": 19,
            "source": [
                "## Export integrated pib dataset.\n",
                "pib.to_csv('bases-auxiliares/pib-integrado.csv', index=False, header=True)"
            ],
            "outputs": [],
            "metadata": {}
        },
        {
            "cell_type": "code",
            "execution_count": 69,
            "source": [
                "## Append PIB information, segmented by sector/uf/ano.\n",
                "df_pib = map_values_general(df_pib, pib, 'setor_bndes', 'pib')"
            ],
            "outputs": [],
            "metadata": {}
        },
        {
            "cell_type": "code",
            "execution_count": 71,
            "source": [
                "## Check for 0's and NA.\n",
                "df_pib.loc[df_pib['valor_contratado_ajustado'] <= 0]"
            ],
            "outputs": [
                {
                    "output_type": "execute_result",
                    "data": {
                        "text/plain": [
                            "Empty DataFrame\n",
                            "Columns: [uf, setor_bndes, ano, valor_contratado_reais, valor_desembolsado_reais, media_juros, media_prazo_carencia_meses, media_prazo_amortizacao_meses, valor_contratado_ajustado, valor_desembolsado_ajustado, pib]\n",
                            "Index: []"
                        ],
                        "text/html": [
                            "<div>\n",
                            "<style scoped>\n",
                            "    .dataframe tbody tr th:only-of-type {\n",
                            "        vertical-align: middle;\n",
                            "    }\n",
                            "\n",
                            "    .dataframe tbody tr th {\n",
                            "        vertical-align: top;\n",
                            "    }\n",
                            "\n",
                            "    .dataframe thead th {\n",
                            "        text-align: right;\n",
                            "    }\n",
                            "</style>\n",
                            "<table border=\"1\" class=\"dataframe\">\n",
                            "  <thead>\n",
                            "    <tr style=\"text-align: right;\">\n",
                            "      <th></th>\n",
                            "      <th>uf</th>\n",
                            "      <th>setor_bndes</th>\n",
                            "      <th>ano</th>\n",
                            "      <th>valor_contratado_reais</th>\n",
                            "      <th>valor_desembolsado_reais</th>\n",
                            "      <th>media_juros</th>\n",
                            "      <th>media_prazo_carencia_meses</th>\n",
                            "      <th>media_prazo_amortizacao_meses</th>\n",
                            "      <th>valor_contratado_ajustado</th>\n",
                            "      <th>valor_desembolsado_ajustado</th>\n",
                            "      <th>pib</th>\n",
                            "    </tr>\n",
                            "  </thead>\n",
                            "  <tbody>\n",
                            "  </tbody>\n",
                            "</table>\n",
                            "</div>"
                        ]
                    },
                    "metadata": {},
                    "execution_count": 71
                }
            ],
            "metadata": {}
        },
        {
            "cell_type": "code",
            "execution_count": 72,
            "source": [
                "## Check for 0's and NA.\n",
                "df_pib.loc[df_pib['valor_desembolsado_ajustado'] <= 0]"
            ],
            "outputs": [
                {
                    "output_type": "execute_result",
                    "data": {
                        "text/plain": [
                            "Empty DataFrame\n",
                            "Columns: [uf, setor_bndes, ano, valor_contratado_reais, valor_desembolsado_reais, media_juros, media_prazo_carencia_meses, media_prazo_amortizacao_meses, valor_contratado_ajustado, valor_desembolsado_ajustado, pib]\n",
                            "Index: []"
                        ],
                        "text/html": [
                            "<div>\n",
                            "<style scoped>\n",
                            "    .dataframe tbody tr th:only-of-type {\n",
                            "        vertical-align: middle;\n",
                            "    }\n",
                            "\n",
                            "    .dataframe tbody tr th {\n",
                            "        vertical-align: top;\n",
                            "    }\n",
                            "\n",
                            "    .dataframe thead th {\n",
                            "        text-align: right;\n",
                            "    }\n",
                            "</style>\n",
                            "<table border=\"1\" class=\"dataframe\">\n",
                            "  <thead>\n",
                            "    <tr style=\"text-align: right;\">\n",
                            "      <th></th>\n",
                            "      <th>uf</th>\n",
                            "      <th>setor_bndes</th>\n",
                            "      <th>ano</th>\n",
                            "      <th>valor_contratado_reais</th>\n",
                            "      <th>valor_desembolsado_reais</th>\n",
                            "      <th>media_juros</th>\n",
                            "      <th>media_prazo_carencia_meses</th>\n",
                            "      <th>media_prazo_amortizacao_meses</th>\n",
                            "      <th>valor_contratado_ajustado</th>\n",
                            "      <th>valor_desembolsado_ajustado</th>\n",
                            "      <th>pib</th>\n",
                            "    </tr>\n",
                            "  </thead>\n",
                            "  <tbody>\n",
                            "  </tbody>\n",
                            "</table>\n",
                            "</div>"
                        ]
                    },
                    "metadata": {},
                    "execution_count": 72
                }
            ],
            "metadata": {}
        },
        {
            "cell_type": "code",
            "execution_count": 75,
            "source": [
                "df = df_pib"
            ],
            "outputs": [],
            "metadata": {}
        },
        {
            "cell_type": "markdown",
            "source": [
                "### 4.2.2 - Agrupamento para os dados do SEEG"
            ],
            "metadata": {}
        },
        {
            "cell_type": "code",
            "execution_count": 73,
            "source": [
                "## Loading auxiliar datasets.\n",
                "seeg = pd.read_csv('bases-auxiliares/SEEG-emissao-ajustado.csv')"
            ],
            "outputs": [],
            "metadata": {}
        },
        {
            "cell_type": "code",
            "execution_count": 76,
            "source": [
                "## Append SEEG data.\n",
                "df = map_values_general(df, seeg, 'setor_bndes', 'emissao_co2')"
            ],
            "outputs": [],
            "metadata": {}
        },
        {
            "cell_type": "code",
            "execution_count": 77,
            "source": [
                "## Checking NA.\n",
                "df['emissao_co2'].isna().sum()"
            ],
            "outputs": [
                {
                    "output_type": "execute_result",
                    "data": {
                        "text/plain": [
                            "415"
                        ]
                    },
                    "metadata": {},
                    "execution_count": 77
                }
            ],
            "metadata": {}
        },
        {
            "cell_type": "code",
            "execution_count": 78,
            "source": [
                "## Checking random observation.\n",
                "search_info(seeg, 'setor', 'AGROPECUARIA', 'MG', 2012)"
            ],
            "outputs": [
                {
                    "output_type": "execute_result",
                    "data": {
                        "text/plain": [
                            "            setor  uf   ano  emissao_co2\n",
                            "715  AGROPECUARIA  MG  2012   91583113.4"
                        ],
                        "text/html": [
                            "<div>\n",
                            "<style scoped>\n",
                            "    .dataframe tbody tr th:only-of-type {\n",
                            "        vertical-align: middle;\n",
                            "    }\n",
                            "\n",
                            "    .dataframe tbody tr th {\n",
                            "        vertical-align: top;\n",
                            "    }\n",
                            "\n",
                            "    .dataframe thead th {\n",
                            "        text-align: right;\n",
                            "    }\n",
                            "</style>\n",
                            "<table border=\"1\" class=\"dataframe\">\n",
                            "  <thead>\n",
                            "    <tr style=\"text-align: right;\">\n",
                            "      <th></th>\n",
                            "      <th>setor</th>\n",
                            "      <th>uf</th>\n",
                            "      <th>ano</th>\n",
                            "      <th>emissao_co2</th>\n",
                            "    </tr>\n",
                            "  </thead>\n",
                            "  <tbody>\n",
                            "    <tr>\n",
                            "      <th>715</th>\n",
                            "      <td>AGROPECUARIA</td>\n",
                            "      <td>MG</td>\n",
                            "      <td>2012</td>\n",
                            "      <td>91583113.4</td>\n",
                            "    </tr>\n",
                            "  </tbody>\n",
                            "</table>\n",
                            "</div>"
                        ]
                    },
                    "metadata": {},
                    "execution_count": 78
                }
            ],
            "metadata": {}
        },
        {
            "cell_type": "code",
            "execution_count": 79,
            "source": [
                "search_info(df, 'setor_bndes', 'AGROPECUARIA', 'MG', 2012)"
            ],
            "outputs": [
                {
                    "output_type": "execute_result",
                    "data": {
                        "text/plain": [
                            "     uf   setor_bndes   ano  valor_contratado_reais  valor_desembolsado_reais  \\\n",
                            "262  MG  AGROPECUARIA  2012              25056000.0                25056000.0   \n",
                            "\n",
                            "     media_juros  media_prazo_carencia_meses  media_prazo_amortizacao_meses  \\\n",
                            "262          3.0                        18.0                           54.0   \n",
                            "\n",
                            "     valor_contratado_ajustado  valor_desembolsado_ajustado           pib  \\\n",
                            "262                 22262535.0                   22262535.0  2.185845e+10   \n",
                            "\n",
                            "     emissao_co2  \n",
                            "262   91583113.4  "
                        ],
                        "text/html": [
                            "<div>\n",
                            "<style scoped>\n",
                            "    .dataframe tbody tr th:only-of-type {\n",
                            "        vertical-align: middle;\n",
                            "    }\n",
                            "\n",
                            "    .dataframe tbody tr th {\n",
                            "        vertical-align: top;\n",
                            "    }\n",
                            "\n",
                            "    .dataframe thead th {\n",
                            "        text-align: right;\n",
                            "    }\n",
                            "</style>\n",
                            "<table border=\"1\" class=\"dataframe\">\n",
                            "  <thead>\n",
                            "    <tr style=\"text-align: right;\">\n",
                            "      <th></th>\n",
                            "      <th>uf</th>\n",
                            "      <th>setor_bndes</th>\n",
                            "      <th>ano</th>\n",
                            "      <th>valor_contratado_reais</th>\n",
                            "      <th>valor_desembolsado_reais</th>\n",
                            "      <th>media_juros</th>\n",
                            "      <th>media_prazo_carencia_meses</th>\n",
                            "      <th>media_prazo_amortizacao_meses</th>\n",
                            "      <th>valor_contratado_ajustado</th>\n",
                            "      <th>valor_desembolsado_ajustado</th>\n",
                            "      <th>pib</th>\n",
                            "      <th>emissao_co2</th>\n",
                            "    </tr>\n",
                            "  </thead>\n",
                            "  <tbody>\n",
                            "    <tr>\n",
                            "      <th>262</th>\n",
                            "      <td>MG</td>\n",
                            "      <td>AGROPECUARIA</td>\n",
                            "      <td>2012</td>\n",
                            "      <td>25056000.0</td>\n",
                            "      <td>25056000.0</td>\n",
                            "      <td>3.0</td>\n",
                            "      <td>18.0</td>\n",
                            "      <td>54.0</td>\n",
                            "      <td>22262535.0</td>\n",
                            "      <td>22262535.0</td>\n",
                            "      <td>2.185845e+10</td>\n",
                            "      <td>91583113.4</td>\n",
                            "    </tr>\n",
                            "  </tbody>\n",
                            "</table>\n",
                            "</div>"
                        ]
                    },
                    "metadata": {},
                    "execution_count": 79
                }
            ],
            "metadata": {}
        },
        {
            "cell_type": "code",
            "execution_count": 80,
            "source": [
                "## Cheking for 0's and negatives\n",
                "df.loc[df['emissao_co2'] <= 0]"
            ],
            "outputs": [
                {
                    "output_type": "execute_result",
                    "data": {
                        "text/plain": [
                            "    uf setor_bndes   ano  valor_contratado_reais  valor_desembolsado_reais  \\\n",
                            "0   AC   INDUSTRIA  2002                605515.2                  612000.0   \n",
                            "1   AC   INDUSTRIA  2005              25059451.9                25712810.3   \n",
                            "2   AC   INDUSTRIA  2008              55073532.0                51807339.7   \n",
                            "37  AP   INDUSTRIA  2007             431535057.7               425270038.7   \n",
                            "\n",
                            "    media_juros  media_prazo_carencia_meses  media_prazo_amortizacao_meses  \\\n",
                            "0          4.00                        18.0                           66.0   \n",
                            "1          3.50                        18.0                          102.0   \n",
                            "2          2.00                        30.0                           90.0   \n",
                            "37         4.23                        30.0                           66.0   \n",
                            "\n",
                            "    valor_contratado_ajustado  valor_desembolsado_ajustado          pib  \\\n",
                            "0                   1195596.0                    1208401.0  674487984.0   \n",
                            "1                  33504343.0                   34377879.0  598244130.0   \n",
                            "2                  64184654.0                   60378117.0  681922808.0   \n",
                            "37                536801874.0                  529008593.0  624305588.0   \n",
                            "\n",
                            "    emissao_co2  \n",
                            "0           0.0  \n",
                            "1           0.0  \n",
                            "2           0.0  \n",
                            "37          0.0  "
                        ],
                        "text/html": [
                            "<div>\n",
                            "<style scoped>\n",
                            "    .dataframe tbody tr th:only-of-type {\n",
                            "        vertical-align: middle;\n",
                            "    }\n",
                            "\n",
                            "    .dataframe tbody tr th {\n",
                            "        vertical-align: top;\n",
                            "    }\n",
                            "\n",
                            "    .dataframe thead th {\n",
                            "        text-align: right;\n",
                            "    }\n",
                            "</style>\n",
                            "<table border=\"1\" class=\"dataframe\">\n",
                            "  <thead>\n",
                            "    <tr style=\"text-align: right;\">\n",
                            "      <th></th>\n",
                            "      <th>uf</th>\n",
                            "      <th>setor_bndes</th>\n",
                            "      <th>ano</th>\n",
                            "      <th>valor_contratado_reais</th>\n",
                            "      <th>valor_desembolsado_reais</th>\n",
                            "      <th>media_juros</th>\n",
                            "      <th>media_prazo_carencia_meses</th>\n",
                            "      <th>media_prazo_amortizacao_meses</th>\n",
                            "      <th>valor_contratado_ajustado</th>\n",
                            "      <th>valor_desembolsado_ajustado</th>\n",
                            "      <th>pib</th>\n",
                            "      <th>emissao_co2</th>\n",
                            "    </tr>\n",
                            "  </thead>\n",
                            "  <tbody>\n",
                            "    <tr>\n",
                            "      <th>0</th>\n",
                            "      <td>AC</td>\n",
                            "      <td>INDUSTRIA</td>\n",
                            "      <td>2002</td>\n",
                            "      <td>605515.2</td>\n",
                            "      <td>612000.0</td>\n",
                            "      <td>4.00</td>\n",
                            "      <td>18.0</td>\n",
                            "      <td>66.0</td>\n",
                            "      <td>1195596.0</td>\n",
                            "      <td>1208401.0</td>\n",
                            "      <td>674487984.0</td>\n",
                            "      <td>0.0</td>\n",
                            "    </tr>\n",
                            "    <tr>\n",
                            "      <th>1</th>\n",
                            "      <td>AC</td>\n",
                            "      <td>INDUSTRIA</td>\n",
                            "      <td>2005</td>\n",
                            "      <td>25059451.9</td>\n",
                            "      <td>25712810.3</td>\n",
                            "      <td>3.50</td>\n",
                            "      <td>18.0</td>\n",
                            "      <td>102.0</td>\n",
                            "      <td>33504343.0</td>\n",
                            "      <td>34377879.0</td>\n",
                            "      <td>598244130.0</td>\n",
                            "      <td>0.0</td>\n",
                            "    </tr>\n",
                            "    <tr>\n",
                            "      <th>2</th>\n",
                            "      <td>AC</td>\n",
                            "      <td>INDUSTRIA</td>\n",
                            "      <td>2008</td>\n",
                            "      <td>55073532.0</td>\n",
                            "      <td>51807339.7</td>\n",
                            "      <td>2.00</td>\n",
                            "      <td>30.0</td>\n",
                            "      <td>90.0</td>\n",
                            "      <td>64184654.0</td>\n",
                            "      <td>60378117.0</td>\n",
                            "      <td>681922808.0</td>\n",
                            "      <td>0.0</td>\n",
                            "    </tr>\n",
                            "    <tr>\n",
                            "      <th>37</th>\n",
                            "      <td>AP</td>\n",
                            "      <td>INDUSTRIA</td>\n",
                            "      <td>2007</td>\n",
                            "      <td>431535057.7</td>\n",
                            "      <td>425270038.7</td>\n",
                            "      <td>4.23</td>\n",
                            "      <td>30.0</td>\n",
                            "      <td>66.0</td>\n",
                            "      <td>536801874.0</td>\n",
                            "      <td>529008593.0</td>\n",
                            "      <td>624305588.0</td>\n",
                            "      <td>0.0</td>\n",
                            "    </tr>\n",
                            "  </tbody>\n",
                            "</table>\n",
                            "</div>"
                        ]
                    },
                    "metadata": {},
                    "execution_count": 80
                }
            ],
            "metadata": {}
        },
        {
            "cell_type": "code",
            "execution_count": 81,
            "source": [
                "# Check for 0's and negatives.\n",
                "df.loc[df['valor_contratado_ajustado'] <= 0]"
            ],
            "outputs": [
                {
                    "output_type": "execute_result",
                    "data": {
                        "text/plain": [
                            "Empty DataFrame\n",
                            "Columns: [uf, setor_bndes, ano, valor_contratado_reais, valor_desembolsado_reais, media_juros, media_prazo_carencia_meses, media_prazo_amortizacao_meses, valor_contratado_ajustado, valor_desembolsado_ajustado, pib, emissao_co2]\n",
                            "Index: []"
                        ],
                        "text/html": [
                            "<div>\n",
                            "<style scoped>\n",
                            "    .dataframe tbody tr th:only-of-type {\n",
                            "        vertical-align: middle;\n",
                            "    }\n",
                            "\n",
                            "    .dataframe tbody tr th {\n",
                            "        vertical-align: top;\n",
                            "    }\n",
                            "\n",
                            "    .dataframe thead th {\n",
                            "        text-align: right;\n",
                            "    }\n",
                            "</style>\n",
                            "<table border=\"1\" class=\"dataframe\">\n",
                            "  <thead>\n",
                            "    <tr style=\"text-align: right;\">\n",
                            "      <th></th>\n",
                            "      <th>uf</th>\n",
                            "      <th>setor_bndes</th>\n",
                            "      <th>ano</th>\n",
                            "      <th>valor_contratado_reais</th>\n",
                            "      <th>valor_desembolsado_reais</th>\n",
                            "      <th>media_juros</th>\n",
                            "      <th>media_prazo_carencia_meses</th>\n",
                            "      <th>media_prazo_amortizacao_meses</th>\n",
                            "      <th>valor_contratado_ajustado</th>\n",
                            "      <th>valor_desembolsado_ajustado</th>\n",
                            "      <th>pib</th>\n",
                            "      <th>emissao_co2</th>\n",
                            "    </tr>\n",
                            "  </thead>\n",
                            "  <tbody>\n",
                            "  </tbody>\n",
                            "</table>\n",
                            "</div>"
                        ]
                    },
                    "metadata": {},
                    "execution_count": 81
                }
            ],
            "metadata": {}
        },
        {
            "cell_type": "code",
            "execution_count": 82,
            "source": [
                "# Check for 0's and Negatives.\n",
                "df.loc[df['valor_desembolsado_ajustado'] <= 0]\n"
            ],
            "outputs": [
                {
                    "output_type": "execute_result",
                    "data": {
                        "text/plain": [
                            "Empty DataFrame\n",
                            "Columns: [uf, setor_bndes, ano, valor_contratado_reais, valor_desembolsado_reais, media_juros, media_prazo_carencia_meses, media_prazo_amortizacao_meses, valor_contratado_ajustado, valor_desembolsado_ajustado, pib, emissao_co2]\n",
                            "Index: []"
                        ],
                        "text/html": [
                            "<div>\n",
                            "<style scoped>\n",
                            "    .dataframe tbody tr th:only-of-type {\n",
                            "        vertical-align: middle;\n",
                            "    }\n",
                            "\n",
                            "    .dataframe tbody tr th {\n",
                            "        vertical-align: top;\n",
                            "    }\n",
                            "\n",
                            "    .dataframe thead th {\n",
                            "        text-align: right;\n",
                            "    }\n",
                            "</style>\n",
                            "<table border=\"1\" class=\"dataframe\">\n",
                            "  <thead>\n",
                            "    <tr style=\"text-align: right;\">\n",
                            "      <th></th>\n",
                            "      <th>uf</th>\n",
                            "      <th>setor_bndes</th>\n",
                            "      <th>ano</th>\n",
                            "      <th>valor_contratado_reais</th>\n",
                            "      <th>valor_desembolsado_reais</th>\n",
                            "      <th>media_juros</th>\n",
                            "      <th>media_prazo_carencia_meses</th>\n",
                            "      <th>media_prazo_amortizacao_meses</th>\n",
                            "      <th>valor_contratado_ajustado</th>\n",
                            "      <th>valor_desembolsado_ajustado</th>\n",
                            "      <th>pib</th>\n",
                            "      <th>emissao_co2</th>\n",
                            "    </tr>\n",
                            "  </thead>\n",
                            "  <tbody>\n",
                            "  </tbody>\n",
                            "</table>\n",
                            "</div>"
                        ]
                    },
                    "metadata": {},
                    "execution_count": 82
                }
            ],
            "metadata": {}
        },
        {
            "cell_type": "code",
            "execution_count": 83,
            "source": [
                "## Replacing 0 to NA.\n",
                "df['emissao_co2'].replace({'0':np.nan, 0:np.nan}, inplace=True)"
            ],
            "outputs": [],
            "metadata": {}
        },
        {
            "cell_type": "markdown",
            "source": [
                "### 4.2.3 - Agrupamento para os dados do caged agregados por estado"
            ],
            "metadata": {}
        },
        {
            "cell_type": "code",
            "execution_count": 84,
            "source": [
                "## Loading auxiliar datasets.\n",
                "caged = pd.read_csv('bases-auxiliares/CAGED-ajustado.csv')"
            ],
            "outputs": [],
            "metadata": {}
        },
        {
            "cell_type": "code",
            "execution_count": 85,
            "source": [
                "## Drop columns with higher segmentation levels.\n",
                "caged = caged.drop('porte_do_cliente', axis = 1)"
            ],
            "outputs": [],
            "metadata": {}
        },
        {
            "cell_type": "code",
            "execution_count": 86,
            "source": [
                "## Group by ano, uf, setor.\n",
                "caged = caged.groupby(['ano', 'uf', 'setor'], as_index=False).agg({'num_empregados': ['sum']})"
            ],
            "outputs": [],
            "metadata": {}
        },
        {
            "cell_type": "code",
            "execution_count": 87,
            "source": [
                "## Melt multi index from pandas.\n",
                "caged.columns = list(map(''.join, caged.columns.values))\n",
                "caged"
            ],
            "outputs": [
                {
                    "output_type": "execute_result",
                    "data": {
                        "text/plain": [
                            "       ano  uf             setor  num_empregadossum\n",
                            "0     2002  AC      AGROPECUARIA               1665\n",
                            "1     2002  AC  CONSTRUCAO CIVIL               2882\n",
                            "2     2002  AC         INDUSTRIA               4177\n",
                            "3     2002  AL      AGROPECUARIA              16960\n",
                            "4     2002  AL  CONSTRUCAO CIVIL               8840\n",
                            "...    ...  ..               ...                ...\n",
                            "1453  2019  SP  CONSTRUCAO CIVIL             542457\n",
                            "1454  2019  SP         INDUSTRIA            2485984\n",
                            "1455  2019  TO      AGROPECUARIA              22232\n",
                            "1456  2019  TO  CONSTRUCAO CIVIL               7673\n",
                            "1457  2019  TO         INDUSTRIA              20273\n",
                            "\n",
                            "[1458 rows x 4 columns]"
                        ],
                        "text/html": [
                            "<div>\n",
                            "<style scoped>\n",
                            "    .dataframe tbody tr th:only-of-type {\n",
                            "        vertical-align: middle;\n",
                            "    }\n",
                            "\n",
                            "    .dataframe tbody tr th {\n",
                            "        vertical-align: top;\n",
                            "    }\n",
                            "\n",
                            "    .dataframe thead th {\n",
                            "        text-align: right;\n",
                            "    }\n",
                            "</style>\n",
                            "<table border=\"1\" class=\"dataframe\">\n",
                            "  <thead>\n",
                            "    <tr style=\"text-align: right;\">\n",
                            "      <th></th>\n",
                            "      <th>ano</th>\n",
                            "      <th>uf</th>\n",
                            "      <th>setor</th>\n",
                            "      <th>num_empregadossum</th>\n",
                            "    </tr>\n",
                            "  </thead>\n",
                            "  <tbody>\n",
                            "    <tr>\n",
                            "      <th>0</th>\n",
                            "      <td>2002</td>\n",
                            "      <td>AC</td>\n",
                            "      <td>AGROPECUARIA</td>\n",
                            "      <td>1665</td>\n",
                            "    </tr>\n",
                            "    <tr>\n",
                            "      <th>1</th>\n",
                            "      <td>2002</td>\n",
                            "      <td>AC</td>\n",
                            "      <td>CONSTRUCAO CIVIL</td>\n",
                            "      <td>2882</td>\n",
                            "    </tr>\n",
                            "    <tr>\n",
                            "      <th>2</th>\n",
                            "      <td>2002</td>\n",
                            "      <td>AC</td>\n",
                            "      <td>INDUSTRIA</td>\n",
                            "      <td>4177</td>\n",
                            "    </tr>\n",
                            "    <tr>\n",
                            "      <th>3</th>\n",
                            "      <td>2002</td>\n",
                            "      <td>AL</td>\n",
                            "      <td>AGROPECUARIA</td>\n",
                            "      <td>16960</td>\n",
                            "    </tr>\n",
                            "    <tr>\n",
                            "      <th>4</th>\n",
                            "      <td>2002</td>\n",
                            "      <td>AL</td>\n",
                            "      <td>CONSTRUCAO CIVIL</td>\n",
                            "      <td>8840</td>\n",
                            "    </tr>\n",
                            "    <tr>\n",
                            "      <th>...</th>\n",
                            "      <td>...</td>\n",
                            "      <td>...</td>\n",
                            "      <td>...</td>\n",
                            "      <td>...</td>\n",
                            "    </tr>\n",
                            "    <tr>\n",
                            "      <th>1453</th>\n",
                            "      <td>2019</td>\n",
                            "      <td>SP</td>\n",
                            "      <td>CONSTRUCAO CIVIL</td>\n",
                            "      <td>542457</td>\n",
                            "    </tr>\n",
                            "    <tr>\n",
                            "      <th>1454</th>\n",
                            "      <td>2019</td>\n",
                            "      <td>SP</td>\n",
                            "      <td>INDUSTRIA</td>\n",
                            "      <td>2485984</td>\n",
                            "    </tr>\n",
                            "    <tr>\n",
                            "      <th>1455</th>\n",
                            "      <td>2019</td>\n",
                            "      <td>TO</td>\n",
                            "      <td>AGROPECUARIA</td>\n",
                            "      <td>22232</td>\n",
                            "    </tr>\n",
                            "    <tr>\n",
                            "      <th>1456</th>\n",
                            "      <td>2019</td>\n",
                            "      <td>TO</td>\n",
                            "      <td>CONSTRUCAO CIVIL</td>\n",
                            "      <td>7673</td>\n",
                            "    </tr>\n",
                            "    <tr>\n",
                            "      <th>1457</th>\n",
                            "      <td>2019</td>\n",
                            "      <td>TO</td>\n",
                            "      <td>INDUSTRIA</td>\n",
                            "      <td>20273</td>\n",
                            "    </tr>\n",
                            "  </tbody>\n",
                            "</table>\n",
                            "<p>1458 rows × 4 columns</p>\n",
                            "</div>"
                        ]
                    },
                    "metadata": {},
                    "execution_count": 87
                }
            ],
            "metadata": {}
        },
        {
            "cell_type": "code",
            "execution_count": 88,
            "source": [
                "## Rename column.\n",
                "caged.columns = ['ano', 'uf', 'setor', 'num_empregados']"
            ],
            "outputs": [],
            "metadata": {}
        },
        {
            "cell_type": "code",
            "execution_count": 89,
            "source": [
                "## Append to our dataset.\n",
                "# Append PIB information, segmented by sector/uf/ano.\n",
                "df = map_values_general(df, caged, 'setor_bndes', 'num_empregados')"
            ],
            "outputs": [],
            "metadata": {}
        },
        {
            "cell_type": "code",
            "execution_count": 90,
            "source": [
                "## Checking NA\n",
                "df['num_empregados'].isna().sum()"
            ],
            "outputs": [
                {
                    "output_type": "execute_result",
                    "data": {
                        "text/plain": [
                            "407"
                        ]
                    },
                    "metadata": {},
                    "execution_count": 90
                }
            ],
            "metadata": {}
        },
        {
            "cell_type": "code",
            "execution_count": 91,
            "source": [
                "## Checking random observation\n",
                "search_info(caged, 'setor', 'INDUSTRIA', 'PR', 2014)\n"
            ],
            "outputs": [
                {
                    "output_type": "execute_result",
                    "data": {
                        "text/plain": [
                            "       ano  uf      setor  num_empregados\n",
                            "1025  2014  PR  INDUSTRIA          736369"
                        ],
                        "text/html": [
                            "<div>\n",
                            "<style scoped>\n",
                            "    .dataframe tbody tr th:only-of-type {\n",
                            "        vertical-align: middle;\n",
                            "    }\n",
                            "\n",
                            "    .dataframe tbody tr th {\n",
                            "        vertical-align: top;\n",
                            "    }\n",
                            "\n",
                            "    .dataframe thead th {\n",
                            "        text-align: right;\n",
                            "    }\n",
                            "</style>\n",
                            "<table border=\"1\" class=\"dataframe\">\n",
                            "  <thead>\n",
                            "    <tr style=\"text-align: right;\">\n",
                            "      <th></th>\n",
                            "      <th>ano</th>\n",
                            "      <th>uf</th>\n",
                            "      <th>setor</th>\n",
                            "      <th>num_empregados</th>\n",
                            "    </tr>\n",
                            "  </thead>\n",
                            "  <tbody>\n",
                            "    <tr>\n",
                            "      <th>1025</th>\n",
                            "      <td>2014</td>\n",
                            "      <td>PR</td>\n",
                            "      <td>INDUSTRIA</td>\n",
                            "      <td>736369</td>\n",
                            "    </tr>\n",
                            "  </tbody>\n",
                            "</table>\n",
                            "</div>"
                        ]
                    },
                    "metadata": {},
                    "execution_count": 91
                }
            ],
            "metadata": {}
        },
        {
            "cell_type": "code",
            "execution_count": 92,
            "source": [
                "search_info(df, 'setor_bndes', 'INDUSTRIA', 'PR', 2014)"
            ],
            "outputs": [
                {
                    "output_type": "execute_result",
                    "data": {
                        "text/plain": [
                            "     uf setor_bndes   ano  valor_contratado_reais  valor_desembolsado_reais  \\\n",
                            "493  PR   INDUSTRIA  2014            4.320116e+09              4.353542e+09   \n",
                            "\n",
                            "     media_juros  media_prazo_carencia_meses  media_prazo_amortizacao_meses  \\\n",
                            "493         3.58                        25.3                           79.4   \n",
                            "\n",
                            "     valor_contratado_ajustado  valor_desembolsado_ajustado           pib  \\\n",
                            "493               3.499717e+09                 3.526877e+09  5.588553e+10   \n",
                            "\n",
                            "     emissao_co2  num_empregados  \n",
                            "493    3297438.8        736369.0  "
                        ],
                        "text/html": [
                            "<div>\n",
                            "<style scoped>\n",
                            "    .dataframe tbody tr th:only-of-type {\n",
                            "        vertical-align: middle;\n",
                            "    }\n",
                            "\n",
                            "    .dataframe tbody tr th {\n",
                            "        vertical-align: top;\n",
                            "    }\n",
                            "\n",
                            "    .dataframe thead th {\n",
                            "        text-align: right;\n",
                            "    }\n",
                            "</style>\n",
                            "<table border=\"1\" class=\"dataframe\">\n",
                            "  <thead>\n",
                            "    <tr style=\"text-align: right;\">\n",
                            "      <th></th>\n",
                            "      <th>uf</th>\n",
                            "      <th>setor_bndes</th>\n",
                            "      <th>ano</th>\n",
                            "      <th>valor_contratado_reais</th>\n",
                            "      <th>valor_desembolsado_reais</th>\n",
                            "      <th>media_juros</th>\n",
                            "      <th>media_prazo_carencia_meses</th>\n",
                            "      <th>media_prazo_amortizacao_meses</th>\n",
                            "      <th>valor_contratado_ajustado</th>\n",
                            "      <th>valor_desembolsado_ajustado</th>\n",
                            "      <th>pib</th>\n",
                            "      <th>emissao_co2</th>\n",
                            "      <th>num_empregados</th>\n",
                            "    </tr>\n",
                            "  </thead>\n",
                            "  <tbody>\n",
                            "    <tr>\n",
                            "      <th>493</th>\n",
                            "      <td>PR</td>\n",
                            "      <td>INDUSTRIA</td>\n",
                            "      <td>2014</td>\n",
                            "      <td>4.320116e+09</td>\n",
                            "      <td>4.353542e+09</td>\n",
                            "      <td>3.58</td>\n",
                            "      <td>25.3</td>\n",
                            "      <td>79.4</td>\n",
                            "      <td>3.499717e+09</td>\n",
                            "      <td>3.526877e+09</td>\n",
                            "      <td>5.588553e+10</td>\n",
                            "      <td>3297438.8</td>\n",
                            "      <td>736369.0</td>\n",
                            "    </tr>\n",
                            "  </tbody>\n",
                            "</table>\n",
                            "</div>"
                        ]
                    },
                    "metadata": {},
                    "execution_count": 92
                }
            ],
            "metadata": {}
        },
        {
            "cell_type": "code",
            "execution_count": 93,
            "source": [
                "## Cheking for 0's and negatives\n",
                "df.loc[df['emissao_co2'] <= 0]"
            ],
            "outputs": [
                {
                    "output_type": "execute_result",
                    "data": {
                        "text/plain": [
                            "Empty DataFrame\n",
                            "Columns: [uf, setor_bndes, ano, valor_contratado_reais, valor_desembolsado_reais, media_juros, media_prazo_carencia_meses, media_prazo_amortizacao_meses, valor_contratado_ajustado, valor_desembolsado_ajustado, pib, emissao_co2, num_empregados]\n",
                            "Index: []"
                        ],
                        "text/html": [
                            "<div>\n",
                            "<style scoped>\n",
                            "    .dataframe tbody tr th:only-of-type {\n",
                            "        vertical-align: middle;\n",
                            "    }\n",
                            "\n",
                            "    .dataframe tbody tr th {\n",
                            "        vertical-align: top;\n",
                            "    }\n",
                            "\n",
                            "    .dataframe thead th {\n",
                            "        text-align: right;\n",
                            "    }\n",
                            "</style>\n",
                            "<table border=\"1\" class=\"dataframe\">\n",
                            "  <thead>\n",
                            "    <tr style=\"text-align: right;\">\n",
                            "      <th></th>\n",
                            "      <th>uf</th>\n",
                            "      <th>setor_bndes</th>\n",
                            "      <th>ano</th>\n",
                            "      <th>valor_contratado_reais</th>\n",
                            "      <th>valor_desembolsado_reais</th>\n",
                            "      <th>media_juros</th>\n",
                            "      <th>media_prazo_carencia_meses</th>\n",
                            "      <th>media_prazo_amortizacao_meses</th>\n",
                            "      <th>valor_contratado_ajustado</th>\n",
                            "      <th>valor_desembolsado_ajustado</th>\n",
                            "      <th>pib</th>\n",
                            "      <th>emissao_co2</th>\n",
                            "      <th>num_empregados</th>\n",
                            "    </tr>\n",
                            "  </thead>\n",
                            "  <tbody>\n",
                            "  </tbody>\n",
                            "</table>\n",
                            "</div>"
                        ]
                    },
                    "metadata": {},
                    "execution_count": 93
                }
            ],
            "metadata": {}
        },
        {
            "cell_type": "code",
            "execution_count": 94,
            "source": [
                "# Cheking for 0's and negatives\n",
                "df.loc[df['pib'] <= 0]"
            ],
            "outputs": [
                {
                    "output_type": "execute_result",
                    "data": {
                        "text/plain": [
                            "Empty DataFrame\n",
                            "Columns: [uf, setor_bndes, ano, valor_contratado_reais, valor_desembolsado_reais, media_juros, media_prazo_carencia_meses, media_prazo_amortizacao_meses, valor_contratado_ajustado, valor_desembolsado_ajustado, pib, emissao_co2, num_empregados]\n",
                            "Index: []"
                        ],
                        "text/html": [
                            "<div>\n",
                            "<style scoped>\n",
                            "    .dataframe tbody tr th:only-of-type {\n",
                            "        vertical-align: middle;\n",
                            "    }\n",
                            "\n",
                            "    .dataframe tbody tr th {\n",
                            "        vertical-align: top;\n",
                            "    }\n",
                            "\n",
                            "    .dataframe thead th {\n",
                            "        text-align: right;\n",
                            "    }\n",
                            "</style>\n",
                            "<table border=\"1\" class=\"dataframe\">\n",
                            "  <thead>\n",
                            "    <tr style=\"text-align: right;\">\n",
                            "      <th></th>\n",
                            "      <th>uf</th>\n",
                            "      <th>setor_bndes</th>\n",
                            "      <th>ano</th>\n",
                            "      <th>valor_contratado_reais</th>\n",
                            "      <th>valor_desembolsado_reais</th>\n",
                            "      <th>media_juros</th>\n",
                            "      <th>media_prazo_carencia_meses</th>\n",
                            "      <th>media_prazo_amortizacao_meses</th>\n",
                            "      <th>valor_contratado_ajustado</th>\n",
                            "      <th>valor_desembolsado_ajustado</th>\n",
                            "      <th>pib</th>\n",
                            "      <th>emissao_co2</th>\n",
                            "      <th>num_empregados</th>\n",
                            "    </tr>\n",
                            "  </thead>\n",
                            "  <tbody>\n",
                            "  </tbody>\n",
                            "</table>\n",
                            "</div>"
                        ]
                    },
                    "metadata": {},
                    "execution_count": 94
                }
            ],
            "metadata": {}
        },
        {
            "cell_type": "code",
            "execution_count": 95,
            "source": [
                "## Cheking for 0's and negatives.\n",
                "df.loc[df['num_empregados'] <= 0]"
            ],
            "outputs": [
                {
                    "output_type": "execute_result",
                    "data": {
                        "text/plain": [
                            "Empty DataFrame\n",
                            "Columns: [uf, setor_bndes, ano, valor_contratado_reais, valor_desembolsado_reais, media_juros, media_prazo_carencia_meses, media_prazo_amortizacao_meses, valor_contratado_ajustado, valor_desembolsado_ajustado, pib, emissao_co2, num_empregados]\n",
                            "Index: []"
                        ],
                        "text/html": [
                            "<div>\n",
                            "<style scoped>\n",
                            "    .dataframe tbody tr th:only-of-type {\n",
                            "        vertical-align: middle;\n",
                            "    }\n",
                            "\n",
                            "    .dataframe tbody tr th {\n",
                            "        vertical-align: top;\n",
                            "    }\n",
                            "\n",
                            "    .dataframe thead th {\n",
                            "        text-align: right;\n",
                            "    }\n",
                            "</style>\n",
                            "<table border=\"1\" class=\"dataframe\">\n",
                            "  <thead>\n",
                            "    <tr style=\"text-align: right;\">\n",
                            "      <th></th>\n",
                            "      <th>uf</th>\n",
                            "      <th>setor_bndes</th>\n",
                            "      <th>ano</th>\n",
                            "      <th>valor_contratado_reais</th>\n",
                            "      <th>valor_desembolsado_reais</th>\n",
                            "      <th>media_juros</th>\n",
                            "      <th>media_prazo_carencia_meses</th>\n",
                            "      <th>media_prazo_amortizacao_meses</th>\n",
                            "      <th>valor_contratado_ajustado</th>\n",
                            "      <th>valor_desembolsado_ajustado</th>\n",
                            "      <th>pib</th>\n",
                            "      <th>emissao_co2</th>\n",
                            "      <th>num_empregados</th>\n",
                            "    </tr>\n",
                            "  </thead>\n",
                            "  <tbody>\n",
                            "  </tbody>\n",
                            "</table>\n",
                            "</div>"
                        ]
                    },
                    "metadata": {},
                    "execution_count": 95
                }
            ],
            "metadata": {}
        },
        {
            "cell_type": "code",
            "execution_count": 96,
            "source": [
                "# Check for 0's and NA.\n",
                "df.loc[df['valor_contratado_ajustado'] <= 0]"
            ],
            "outputs": [
                {
                    "output_type": "execute_result",
                    "data": {
                        "text/plain": [
                            "Empty DataFrame\n",
                            "Columns: [uf, setor_bndes, ano, valor_contratado_reais, valor_desembolsado_reais, media_juros, media_prazo_carencia_meses, media_prazo_amortizacao_meses, valor_contratado_ajustado, valor_desembolsado_ajustado, pib, emissao_co2, num_empregados]\n",
                            "Index: []"
                        ],
                        "text/html": [
                            "<div>\n",
                            "<style scoped>\n",
                            "    .dataframe tbody tr th:only-of-type {\n",
                            "        vertical-align: middle;\n",
                            "    }\n",
                            "\n",
                            "    .dataframe tbody tr th {\n",
                            "        vertical-align: top;\n",
                            "    }\n",
                            "\n",
                            "    .dataframe thead th {\n",
                            "        text-align: right;\n",
                            "    }\n",
                            "</style>\n",
                            "<table border=\"1\" class=\"dataframe\">\n",
                            "  <thead>\n",
                            "    <tr style=\"text-align: right;\">\n",
                            "      <th></th>\n",
                            "      <th>uf</th>\n",
                            "      <th>setor_bndes</th>\n",
                            "      <th>ano</th>\n",
                            "      <th>valor_contratado_reais</th>\n",
                            "      <th>valor_desembolsado_reais</th>\n",
                            "      <th>media_juros</th>\n",
                            "      <th>media_prazo_carencia_meses</th>\n",
                            "      <th>media_prazo_amortizacao_meses</th>\n",
                            "      <th>valor_contratado_ajustado</th>\n",
                            "      <th>valor_desembolsado_ajustado</th>\n",
                            "      <th>pib</th>\n",
                            "      <th>emissao_co2</th>\n",
                            "      <th>num_empregados</th>\n",
                            "    </tr>\n",
                            "  </thead>\n",
                            "  <tbody>\n",
                            "  </tbody>\n",
                            "</table>\n",
                            "</div>"
                        ]
                    },
                    "metadata": {},
                    "execution_count": 96
                }
            ],
            "metadata": {}
        },
        {
            "cell_type": "code",
            "execution_count": 97,
            "source": [
                "# Check for 0's and NA.\n",
                "df.loc[df['valor_desembolsado_ajustado'] <= 0]\n"
            ],
            "outputs": [
                {
                    "output_type": "execute_result",
                    "data": {
                        "text/plain": [
                            "Empty DataFrame\n",
                            "Columns: [uf, setor_bndes, ano, valor_contratado_reais, valor_desembolsado_reais, media_juros, media_prazo_carencia_meses, media_prazo_amortizacao_meses, valor_contratado_ajustado, valor_desembolsado_ajustado, pib, emissao_co2, num_empregados]\n",
                            "Index: []"
                        ],
                        "text/html": [
                            "<div>\n",
                            "<style scoped>\n",
                            "    .dataframe tbody tr th:only-of-type {\n",
                            "        vertical-align: middle;\n",
                            "    }\n",
                            "\n",
                            "    .dataframe tbody tr th {\n",
                            "        vertical-align: top;\n",
                            "    }\n",
                            "\n",
                            "    .dataframe thead th {\n",
                            "        text-align: right;\n",
                            "    }\n",
                            "</style>\n",
                            "<table border=\"1\" class=\"dataframe\">\n",
                            "  <thead>\n",
                            "    <tr style=\"text-align: right;\">\n",
                            "      <th></th>\n",
                            "      <th>uf</th>\n",
                            "      <th>setor_bndes</th>\n",
                            "      <th>ano</th>\n",
                            "      <th>valor_contratado_reais</th>\n",
                            "      <th>valor_desembolsado_reais</th>\n",
                            "      <th>media_juros</th>\n",
                            "      <th>media_prazo_carencia_meses</th>\n",
                            "      <th>media_prazo_amortizacao_meses</th>\n",
                            "      <th>valor_contratado_ajustado</th>\n",
                            "      <th>valor_desembolsado_ajustado</th>\n",
                            "      <th>pib</th>\n",
                            "      <th>emissao_co2</th>\n",
                            "      <th>num_empregados</th>\n",
                            "    </tr>\n",
                            "  </thead>\n",
                            "  <tbody>\n",
                            "  </tbody>\n",
                            "</table>\n",
                            "</div>"
                        ]
                    },
                    "metadata": {},
                    "execution_count": 97
                }
            ],
            "metadata": {}
        },
        {
            "cell_type": "code",
            "execution_count": 98,
            "source": [
                "## Exporting integrated dataset.\n",
                "df.to_csv('bases-ajustadas/operacoes-uf-setor-ano.csv',\n",
                "                index=False, header=True)"
            ],
            "outputs": [],
            "metadata": {}
        },
        {
            "cell_type": "markdown",
            "source": [
                "## 4.3 - Agrupamento para os dados de IDH - UF/ANO"
            ],
            "metadata": {}
        },
        {
            "cell_type": "code",
            "execution_count": 99,
            "source": [
                "## Loading auxiliar datasets.\n",
                "idhm = pd.read_csv('bases-auxiliares/idhm.csv')"
            ],
            "outputs": [],
            "metadata": {}
        },
        {
            "cell_type": "code",
            "execution_count": 100,
            "source": [
                "## Set format to numeric.\n",
                "idhm['ano'] = pd.to_numeric(idhm['ano'])"
            ],
            "outputs": [],
            "metadata": {}
        },
        {
            "cell_type": "code",
            "execution_count": 101,
            "source": [
                "## Grouping df to setor-ano.\n",
                "df = df.groupby(['uf', 'ano'], as_index=False).agg(\n",
                "    {'valor_contratado_reais': ['sum'], 'valor_desembolsado_reais': ['sum'], 'media_juros': ['mean'],\n",
                "    'media_prazo_carencia_meses': ['mean'], 'media_prazo_amortizacao_meses': ['mean'],\n",
                "    'valor_contratado_ajustado': ['sum'], 'valor_desembolsado_ajustado': ['sum'],\n",
                "    'pib': ['sum'], 'emissao_co2': ['sum'], 'num_empregados': ['sum']})"
            ],
            "outputs": [],
            "metadata": {}
        },
        {
            "cell_type": "code",
            "execution_count": 102,
            "source": [
                "## Melt multi index from pandas.\n",
                "df.columns = list(map(''.join, df.columns.values))"
            ],
            "outputs": [],
            "metadata": {}
        },
        {
            "cell_type": "code",
            "execution_count": 103,
            "source": [
                "## Rename columns.\n",
                "df.columns = ['uf', 'ano', 'valor_contratado_reais',\n",
                "                  'valor_desembolsado_reais', 'media_juros', 'media_prazo_carencia_meses',\n",
                "                  'media_prazo_amortizacao_meses', 'valor_contratado_ajustado', 'valor_desembolsado_ajustado',\n",
                "                  'pib', 'emissao_co2', 'num_empregados']"
            ],
            "outputs": [],
            "metadata": {}
        },
        {
            "cell_type": "code",
            "execution_count": 104,
            "source": [
                "# Round numeric values.\n",
                "toRound = ['valor_contratado_reais', 'valor_desembolsado_reais',\n",
                "           'valor_contratado_ajustado', 'valor_desembolsado_ajustado',\n",
                "           'media_prazo_carencia_meses', 'media_prazo_amortizacao_meses', 'pib',\n",
                "           'emissao_co2']\n",
                "df[toRound] = df[toRound].round(1)\n",
                "df['media_juros'] = df['media_juros'].round(2)"
            ],
            "outputs": [],
            "metadata": {}
        },
        {
            "cell_type": "code",
            "execution_count": 105,
            "source": [
                "## Append IDH information, segmented by uf/ano.\n",
                "for i in range(len(idhm)):\n",
                "    index = np.where(df['ano'].eq(idhm.loc[i, 'ano']) & df['uf'].eq(\n",
                "        idhm.loc[i, 'uf']))\n",
                "\n",
                "    df.loc[index[0], 'idhm'] = idhm.loc[i, 'idhm']"
            ],
            "outputs": [],
            "metadata": {}
        },
        {
            "cell_type": "code",
            "execution_count": 106,
            "source": [
                "## Replacing 0's\n",
                "df['pib'].replace({'0': np.nan, 0: np.nan}, inplace=True)\n",
                "df['emissao_co2'].replace({'0': np.nan, 0: np.nan}, inplace=True)\n",
                "df['num_empregados'].replace({'0': np.nan, 0: np.nan}, inplace=True)\n"
            ],
            "outputs": [],
            "metadata": {}
        },
        {
            "cell_type": "code",
            "execution_count": 107,
            "source": [
                "# Cheking for 0's\n",
                "df['idhm']= df['idhm'].astype(float)\n",
                "df.loc[df['idhm'] == 0]"
            ],
            "outputs": [
                {
                    "output_type": "execute_result",
                    "data": {
                        "text/plain": [
                            "Empty DataFrame\n",
                            "Columns: [uf, ano, valor_contratado_reais, valor_desembolsado_reais, media_juros, media_prazo_carencia_meses, media_prazo_amortizacao_meses, valor_contratado_ajustado, valor_desembolsado_ajustado, pib, emissao_co2, num_empregados, idhm]\n",
                            "Index: []"
                        ],
                        "text/html": [
                            "<div>\n",
                            "<style scoped>\n",
                            "    .dataframe tbody tr th:only-of-type {\n",
                            "        vertical-align: middle;\n",
                            "    }\n",
                            "\n",
                            "    .dataframe tbody tr th {\n",
                            "        vertical-align: top;\n",
                            "    }\n",
                            "\n",
                            "    .dataframe thead th {\n",
                            "        text-align: right;\n",
                            "    }\n",
                            "</style>\n",
                            "<table border=\"1\" class=\"dataframe\">\n",
                            "  <thead>\n",
                            "    <tr style=\"text-align: right;\">\n",
                            "      <th></th>\n",
                            "      <th>uf</th>\n",
                            "      <th>ano</th>\n",
                            "      <th>valor_contratado_reais</th>\n",
                            "      <th>valor_desembolsado_reais</th>\n",
                            "      <th>media_juros</th>\n",
                            "      <th>media_prazo_carencia_meses</th>\n",
                            "      <th>media_prazo_amortizacao_meses</th>\n",
                            "      <th>valor_contratado_ajustado</th>\n",
                            "      <th>valor_desembolsado_ajustado</th>\n",
                            "      <th>pib</th>\n",
                            "      <th>emissao_co2</th>\n",
                            "      <th>num_empregados</th>\n",
                            "      <th>idhm</th>\n",
                            "    </tr>\n",
                            "  </thead>\n",
                            "  <tbody>\n",
                            "  </tbody>\n",
                            "</table>\n",
                            "</div>"
                        ]
                    },
                    "metadata": {},
                    "execution_count": 107
                }
            ],
            "metadata": {}
        },
        {
            "cell_type": "code",
            "execution_count": 108,
            "source": [
                "# veryfing random observation.\n",
                "idhm.loc[26:26, :]"
            ],
            "outputs": [
                {
                    "output_type": "execute_result",
                    "data": {
                        "text/plain": [
                            "     idhm   ano  uf\n",
                            "26  0.631  2010  AL"
                        ],
                        "text/html": [
                            "<div>\n",
                            "<style scoped>\n",
                            "    .dataframe tbody tr th:only-of-type {\n",
                            "        vertical-align: middle;\n",
                            "    }\n",
                            "\n",
                            "    .dataframe tbody tr th {\n",
                            "        vertical-align: top;\n",
                            "    }\n",
                            "\n",
                            "    .dataframe thead th {\n",
                            "        text-align: right;\n",
                            "    }\n",
                            "</style>\n",
                            "<table border=\"1\" class=\"dataframe\">\n",
                            "  <thead>\n",
                            "    <tr style=\"text-align: right;\">\n",
                            "      <th></th>\n",
                            "      <th>idhm</th>\n",
                            "      <th>ano</th>\n",
                            "      <th>uf</th>\n",
                            "    </tr>\n",
                            "  </thead>\n",
                            "  <tbody>\n",
                            "    <tr>\n",
                            "      <th>26</th>\n",
                            "      <td>0.631</td>\n",
                            "      <td>2010</td>\n",
                            "      <td>AL</td>\n",
                            "    </tr>\n",
                            "  </tbody>\n",
                            "</table>\n",
                            "</div>"
                        ]
                    },
                    "metadata": {},
                    "execution_count": 108
                }
            ],
            "metadata": {}
        },
        {
            "cell_type": "code",
            "execution_count": 109,
            "source": [
                "df.loc[df['uf'] == 'AL']"
            ],
            "outputs": [
                {
                    "output_type": "execute_result",
                    "data": {
                        "text/plain": [
                            "    uf   ano  valor_contratado_reais  valor_desembolsado_reais  media_juros  \\\n",
                            "4   AL  2002              51475000.0                52744954.6         2.90   \n",
                            "5   AL  2003              91383653.3                98025890.9         1.00   \n",
                            "6   AL  2005              12216000.0                11922045.2         2.75   \n",
                            "7   AL  2010             527074755.5               518202362.0         2.76   \n",
                            "8   AL  2011              85272847.0                85609704.5         2.43   \n",
                            "9   AL  2013             310544000.0               310503000.0         2.58   \n",
                            "10  AL  2014              45582000.0                40354096.8         2.96   \n",
                            "11  AL  2015              25678000.0                24444242.6         4.44   \n",
                            "12  AL  2019             284845600.0               200000000.0         2.21   \n",
                            "\n",
                            "    media_prazo_carencia_meses  media_prazo_amortizacao_meses  \\\n",
                            "4                         30.0                          120.0   \n",
                            "5                         10.0                           24.0   \n",
                            "6                          9.0                           72.0   \n",
                            "7                         15.6                           68.2   \n",
                            "8                         21.0                           78.0   \n",
                            "9                         16.5                           78.5   \n",
                            "10                        26.2                           87.8   \n",
                            "11                        12.0                           72.0   \n",
                            "12                        18.0                          220.0   \n",
                            "\n",
                            "    valor_contratado_ajustado  valor_desembolsado_ajustado           pib  \\\n",
                            "4                 106844365.0                  109480353.0           NaN   \n",
                            "5                 141298258.0                  151568548.0           NaN   \n",
                            "6                  16484794.0                   16088120.0           NaN   \n",
                            "7                 527149922.0                  518274785.0  4.708285e+09   \n",
                            "8                  82618512.0                   82942843.0  6.010282e+09   \n",
                            "9                 271373073.0                  271337245.0  4.713670e+09   \n",
                            "10                 36770231.0                   32552969.0  7.430471e+09   \n",
                            "11                 18739068.0                   17838707.0  4.409744e+09   \n",
                            "12                168968820.0                  118638883.0           NaN   \n",
                            "\n",
                            "    emissao_co2  num_empregados   idhm  \n",
                            "4           NaN             NaN    NaN  \n",
                            "5           NaN             NaN    NaN  \n",
                            "6           NaN             NaN    NaN  \n",
                            "7      242707.0        110487.0  0.631  \n",
                            "8      254230.2        112755.0    NaN  \n",
                            "9      294581.9         98978.0    NaN  \n",
                            "10    4396421.2        100107.0    NaN  \n",
                            "11     210353.4         86048.0    NaN  \n",
                            "12          NaN             NaN    NaN  "
                        ],
                        "text/html": [
                            "<div>\n",
                            "<style scoped>\n",
                            "    .dataframe tbody tr th:only-of-type {\n",
                            "        vertical-align: middle;\n",
                            "    }\n",
                            "\n",
                            "    .dataframe tbody tr th {\n",
                            "        vertical-align: top;\n",
                            "    }\n",
                            "\n",
                            "    .dataframe thead th {\n",
                            "        text-align: right;\n",
                            "    }\n",
                            "</style>\n",
                            "<table border=\"1\" class=\"dataframe\">\n",
                            "  <thead>\n",
                            "    <tr style=\"text-align: right;\">\n",
                            "      <th></th>\n",
                            "      <th>uf</th>\n",
                            "      <th>ano</th>\n",
                            "      <th>valor_contratado_reais</th>\n",
                            "      <th>valor_desembolsado_reais</th>\n",
                            "      <th>media_juros</th>\n",
                            "      <th>media_prazo_carencia_meses</th>\n",
                            "      <th>media_prazo_amortizacao_meses</th>\n",
                            "      <th>valor_contratado_ajustado</th>\n",
                            "      <th>valor_desembolsado_ajustado</th>\n",
                            "      <th>pib</th>\n",
                            "      <th>emissao_co2</th>\n",
                            "      <th>num_empregados</th>\n",
                            "      <th>idhm</th>\n",
                            "    </tr>\n",
                            "  </thead>\n",
                            "  <tbody>\n",
                            "    <tr>\n",
                            "      <th>4</th>\n",
                            "      <td>AL</td>\n",
                            "      <td>2002</td>\n",
                            "      <td>51475000.0</td>\n",
                            "      <td>52744954.6</td>\n",
                            "      <td>2.90</td>\n",
                            "      <td>30.0</td>\n",
                            "      <td>120.0</td>\n",
                            "      <td>106844365.0</td>\n",
                            "      <td>109480353.0</td>\n",
                            "      <td>NaN</td>\n",
                            "      <td>NaN</td>\n",
                            "      <td>NaN</td>\n",
                            "      <td>NaN</td>\n",
                            "    </tr>\n",
                            "    <tr>\n",
                            "      <th>5</th>\n",
                            "      <td>AL</td>\n",
                            "      <td>2003</td>\n",
                            "      <td>91383653.3</td>\n",
                            "      <td>98025890.9</td>\n",
                            "      <td>1.00</td>\n",
                            "      <td>10.0</td>\n",
                            "      <td>24.0</td>\n",
                            "      <td>141298258.0</td>\n",
                            "      <td>151568548.0</td>\n",
                            "      <td>NaN</td>\n",
                            "      <td>NaN</td>\n",
                            "      <td>NaN</td>\n",
                            "      <td>NaN</td>\n",
                            "    </tr>\n",
                            "    <tr>\n",
                            "      <th>6</th>\n",
                            "      <td>AL</td>\n",
                            "      <td>2005</td>\n",
                            "      <td>12216000.0</td>\n",
                            "      <td>11922045.2</td>\n",
                            "      <td>2.75</td>\n",
                            "      <td>9.0</td>\n",
                            "      <td>72.0</td>\n",
                            "      <td>16484794.0</td>\n",
                            "      <td>16088120.0</td>\n",
                            "      <td>NaN</td>\n",
                            "      <td>NaN</td>\n",
                            "      <td>NaN</td>\n",
                            "      <td>NaN</td>\n",
                            "    </tr>\n",
                            "    <tr>\n",
                            "      <th>7</th>\n",
                            "      <td>AL</td>\n",
                            "      <td>2010</td>\n",
                            "      <td>527074755.5</td>\n",
                            "      <td>518202362.0</td>\n",
                            "      <td>2.76</td>\n",
                            "      <td>15.6</td>\n",
                            "      <td>68.2</td>\n",
                            "      <td>527149922.0</td>\n",
                            "      <td>518274785.0</td>\n",
                            "      <td>4.708285e+09</td>\n",
                            "      <td>242707.0</td>\n",
                            "      <td>110487.0</td>\n",
                            "      <td>0.631</td>\n",
                            "    </tr>\n",
                            "    <tr>\n",
                            "      <th>8</th>\n",
                            "      <td>AL</td>\n",
                            "      <td>2011</td>\n",
                            "      <td>85272847.0</td>\n",
                            "      <td>85609704.5</td>\n",
                            "      <td>2.43</td>\n",
                            "      <td>21.0</td>\n",
                            "      <td>78.0</td>\n",
                            "      <td>82618512.0</td>\n",
                            "      <td>82942843.0</td>\n",
                            "      <td>6.010282e+09</td>\n",
                            "      <td>254230.2</td>\n",
                            "      <td>112755.0</td>\n",
                            "      <td>NaN</td>\n",
                            "    </tr>\n",
                            "    <tr>\n",
                            "      <th>9</th>\n",
                            "      <td>AL</td>\n",
                            "      <td>2013</td>\n",
                            "      <td>310544000.0</td>\n",
                            "      <td>310503000.0</td>\n",
                            "      <td>2.58</td>\n",
                            "      <td>16.5</td>\n",
                            "      <td>78.5</td>\n",
                            "      <td>271373073.0</td>\n",
                            "      <td>271337245.0</td>\n",
                            "      <td>4.713670e+09</td>\n",
                            "      <td>294581.9</td>\n",
                            "      <td>98978.0</td>\n",
                            "      <td>NaN</td>\n",
                            "    </tr>\n",
                            "    <tr>\n",
                            "      <th>10</th>\n",
                            "      <td>AL</td>\n",
                            "      <td>2014</td>\n",
                            "      <td>45582000.0</td>\n",
                            "      <td>40354096.8</td>\n",
                            "      <td>2.96</td>\n",
                            "      <td>26.2</td>\n",
                            "      <td>87.8</td>\n",
                            "      <td>36770231.0</td>\n",
                            "      <td>32552969.0</td>\n",
                            "      <td>7.430471e+09</td>\n",
                            "      <td>4396421.2</td>\n",
                            "      <td>100107.0</td>\n",
                            "      <td>NaN</td>\n",
                            "    </tr>\n",
                            "    <tr>\n",
                            "      <th>11</th>\n",
                            "      <td>AL</td>\n",
                            "      <td>2015</td>\n",
                            "      <td>25678000.0</td>\n",
                            "      <td>24444242.6</td>\n",
                            "      <td>4.44</td>\n",
                            "      <td>12.0</td>\n",
                            "      <td>72.0</td>\n",
                            "      <td>18739068.0</td>\n",
                            "      <td>17838707.0</td>\n",
                            "      <td>4.409744e+09</td>\n",
                            "      <td>210353.4</td>\n",
                            "      <td>86048.0</td>\n",
                            "      <td>NaN</td>\n",
                            "    </tr>\n",
                            "    <tr>\n",
                            "      <th>12</th>\n",
                            "      <td>AL</td>\n",
                            "      <td>2019</td>\n",
                            "      <td>284845600.0</td>\n",
                            "      <td>200000000.0</td>\n",
                            "      <td>2.21</td>\n",
                            "      <td>18.0</td>\n",
                            "      <td>220.0</td>\n",
                            "      <td>168968820.0</td>\n",
                            "      <td>118638883.0</td>\n",
                            "      <td>NaN</td>\n",
                            "      <td>NaN</td>\n",
                            "      <td>NaN</td>\n",
                            "      <td>NaN</td>\n",
                            "    </tr>\n",
                            "  </tbody>\n",
                            "</table>\n",
                            "</div>"
                        ]
                    },
                    "metadata": {},
                    "execution_count": 109
                }
            ],
            "metadata": {}
        },
        {
            "cell_type": "code",
            "execution_count": 110,
            "source": [
                "## Final overview.\n",
                "df"
            ],
            "outputs": [
                {
                    "output_type": "execute_result",
                    "data": {
                        "text/plain": [
                            "     uf   ano  valor_contratado_reais  valor_desembolsado_reais  media_juros  \\\n",
                            "0    AC  2002                605515.2                  612000.0         4.00   \n",
                            "1    AC  2005              25059451.9                25712810.3         3.50   \n",
                            "2    AC  2007              32048964.0                32110602.6         2.00   \n",
                            "3    AC  2008             115832532.0               112744065.4         2.00   \n",
                            "4    AL  2002              51475000.0                52744954.6         2.90   \n",
                            "..   ..   ...                     ...                       ...          ...   \n",
                            "383  TO  2010             693353000.0               692261399.9         1.23   \n",
                            "384  TO  2011             267241475.0               269067038.5         2.25   \n",
                            "385  TO  2013              45000000.0                46017626.0         4.88   \n",
                            "386  TO  2014              18976000.0                16049428.2         1.76   \n",
                            "387  TO  2015             181132413.3               175096103.3         4.08   \n",
                            "\n",
                            "     media_prazo_carencia_meses  media_prazo_amortizacao_meses  \\\n",
                            "0                          18.0                           66.0   \n",
                            "1                          18.0                          102.0   \n",
                            "2                          24.0                           96.0   \n",
                            "3                          30.0                          126.0   \n",
                            "4                          30.0                          120.0   \n",
                            "..                          ...                            ...   \n",
                            "383                        18.0                          173.2   \n",
                            "384                        44.8                           92.4   \n",
                            "385                        30.8                           56.2   \n",
                            "386                         4.0                           72.0   \n",
                            "387                        14.0                           56.0   \n",
                            "\n",
                            "     valor_contratado_ajustado  valor_desembolsado_ajustado           pib  \\\n",
                            "0                    1195596.0                    1208401.0  6.744880e+08   \n",
                            "1                   33504343.0                   34377879.0  5.982441e+08   \n",
                            "2                   40890361.0                   40969004.0           NaN   \n",
                            "3                  134995354.0                  131395945.0  6.819228e+08   \n",
                            "4                  106844365.0                  109480353.0           NaN   \n",
                            "..                         ...                          ...           ...   \n",
                            "383                698151521.0                  697052366.0           NaN   \n",
                            "384                256349910.0                  258092226.0  4.893865e+09   \n",
                            "385                 39325614.0                   40214920.0  2.860466e+09   \n",
                            "386                 15628697.0                   13218362.0           NaN   \n",
                            "387                132185235.0                  127780109.0           NaN   \n",
                            "\n",
                            "     emissao_co2  num_empregados   idhm  \n",
                            "0            NaN          4177.0    NaN  \n",
                            "1            NaN          5122.0    NaN  \n",
                            "2            NaN             NaN    NaN  \n",
                            "3            NaN          6731.0    NaN  \n",
                            "4            NaN             NaN    NaN  \n",
                            "..           ...             ...    ...  \n",
                            "383          NaN             NaN  0.699  \n",
                            "384   36154786.9         35292.0    NaN  \n",
                            "385     183798.7         21368.0    NaN  \n",
                            "386          NaN             NaN    NaN  \n",
                            "387          NaN             NaN    NaN  \n",
                            "\n",
                            "[388 rows x 13 columns]"
                        ],
                        "text/html": [
                            "<div>\n",
                            "<style scoped>\n",
                            "    .dataframe tbody tr th:only-of-type {\n",
                            "        vertical-align: middle;\n",
                            "    }\n",
                            "\n",
                            "    .dataframe tbody tr th {\n",
                            "        vertical-align: top;\n",
                            "    }\n",
                            "\n",
                            "    .dataframe thead th {\n",
                            "        text-align: right;\n",
                            "    }\n",
                            "</style>\n",
                            "<table border=\"1\" class=\"dataframe\">\n",
                            "  <thead>\n",
                            "    <tr style=\"text-align: right;\">\n",
                            "      <th></th>\n",
                            "      <th>uf</th>\n",
                            "      <th>ano</th>\n",
                            "      <th>valor_contratado_reais</th>\n",
                            "      <th>valor_desembolsado_reais</th>\n",
                            "      <th>media_juros</th>\n",
                            "      <th>media_prazo_carencia_meses</th>\n",
                            "      <th>media_prazo_amortizacao_meses</th>\n",
                            "      <th>valor_contratado_ajustado</th>\n",
                            "      <th>valor_desembolsado_ajustado</th>\n",
                            "      <th>pib</th>\n",
                            "      <th>emissao_co2</th>\n",
                            "      <th>num_empregados</th>\n",
                            "      <th>idhm</th>\n",
                            "    </tr>\n",
                            "  </thead>\n",
                            "  <tbody>\n",
                            "    <tr>\n",
                            "      <th>0</th>\n",
                            "      <td>AC</td>\n",
                            "      <td>2002</td>\n",
                            "      <td>605515.2</td>\n",
                            "      <td>612000.0</td>\n",
                            "      <td>4.00</td>\n",
                            "      <td>18.0</td>\n",
                            "      <td>66.0</td>\n",
                            "      <td>1195596.0</td>\n",
                            "      <td>1208401.0</td>\n",
                            "      <td>6.744880e+08</td>\n",
                            "      <td>NaN</td>\n",
                            "      <td>4177.0</td>\n",
                            "      <td>NaN</td>\n",
                            "    </tr>\n",
                            "    <tr>\n",
                            "      <th>1</th>\n",
                            "      <td>AC</td>\n",
                            "      <td>2005</td>\n",
                            "      <td>25059451.9</td>\n",
                            "      <td>25712810.3</td>\n",
                            "      <td>3.50</td>\n",
                            "      <td>18.0</td>\n",
                            "      <td>102.0</td>\n",
                            "      <td>33504343.0</td>\n",
                            "      <td>34377879.0</td>\n",
                            "      <td>5.982441e+08</td>\n",
                            "      <td>NaN</td>\n",
                            "      <td>5122.0</td>\n",
                            "      <td>NaN</td>\n",
                            "    </tr>\n",
                            "    <tr>\n",
                            "      <th>2</th>\n",
                            "      <td>AC</td>\n",
                            "      <td>2007</td>\n",
                            "      <td>32048964.0</td>\n",
                            "      <td>32110602.6</td>\n",
                            "      <td>2.00</td>\n",
                            "      <td>24.0</td>\n",
                            "      <td>96.0</td>\n",
                            "      <td>40890361.0</td>\n",
                            "      <td>40969004.0</td>\n",
                            "      <td>NaN</td>\n",
                            "      <td>NaN</td>\n",
                            "      <td>NaN</td>\n",
                            "      <td>NaN</td>\n",
                            "    </tr>\n",
                            "    <tr>\n",
                            "      <th>3</th>\n",
                            "      <td>AC</td>\n",
                            "      <td>2008</td>\n",
                            "      <td>115832532.0</td>\n",
                            "      <td>112744065.4</td>\n",
                            "      <td>2.00</td>\n",
                            "      <td>30.0</td>\n",
                            "      <td>126.0</td>\n",
                            "      <td>134995354.0</td>\n",
                            "      <td>131395945.0</td>\n",
                            "      <td>6.819228e+08</td>\n",
                            "      <td>NaN</td>\n",
                            "      <td>6731.0</td>\n",
                            "      <td>NaN</td>\n",
                            "    </tr>\n",
                            "    <tr>\n",
                            "      <th>4</th>\n",
                            "      <td>AL</td>\n",
                            "      <td>2002</td>\n",
                            "      <td>51475000.0</td>\n",
                            "      <td>52744954.6</td>\n",
                            "      <td>2.90</td>\n",
                            "      <td>30.0</td>\n",
                            "      <td>120.0</td>\n",
                            "      <td>106844365.0</td>\n",
                            "      <td>109480353.0</td>\n",
                            "      <td>NaN</td>\n",
                            "      <td>NaN</td>\n",
                            "      <td>NaN</td>\n",
                            "      <td>NaN</td>\n",
                            "    </tr>\n",
                            "    <tr>\n",
                            "      <th>...</th>\n",
                            "      <td>...</td>\n",
                            "      <td>...</td>\n",
                            "      <td>...</td>\n",
                            "      <td>...</td>\n",
                            "      <td>...</td>\n",
                            "      <td>...</td>\n",
                            "      <td>...</td>\n",
                            "      <td>...</td>\n",
                            "      <td>...</td>\n",
                            "      <td>...</td>\n",
                            "      <td>...</td>\n",
                            "      <td>...</td>\n",
                            "      <td>...</td>\n",
                            "    </tr>\n",
                            "    <tr>\n",
                            "      <th>383</th>\n",
                            "      <td>TO</td>\n",
                            "      <td>2010</td>\n",
                            "      <td>693353000.0</td>\n",
                            "      <td>692261399.9</td>\n",
                            "      <td>1.23</td>\n",
                            "      <td>18.0</td>\n",
                            "      <td>173.2</td>\n",
                            "      <td>698151521.0</td>\n",
                            "      <td>697052366.0</td>\n",
                            "      <td>NaN</td>\n",
                            "      <td>NaN</td>\n",
                            "      <td>NaN</td>\n",
                            "      <td>0.699</td>\n",
                            "    </tr>\n",
                            "    <tr>\n",
                            "      <th>384</th>\n",
                            "      <td>TO</td>\n",
                            "      <td>2011</td>\n",
                            "      <td>267241475.0</td>\n",
                            "      <td>269067038.5</td>\n",
                            "      <td>2.25</td>\n",
                            "      <td>44.8</td>\n",
                            "      <td>92.4</td>\n",
                            "      <td>256349910.0</td>\n",
                            "      <td>258092226.0</td>\n",
                            "      <td>4.893865e+09</td>\n",
                            "      <td>36154786.9</td>\n",
                            "      <td>35292.0</td>\n",
                            "      <td>NaN</td>\n",
                            "    </tr>\n",
                            "    <tr>\n",
                            "      <th>385</th>\n",
                            "      <td>TO</td>\n",
                            "      <td>2013</td>\n",
                            "      <td>45000000.0</td>\n",
                            "      <td>46017626.0</td>\n",
                            "      <td>4.88</td>\n",
                            "      <td>30.8</td>\n",
                            "      <td>56.2</td>\n",
                            "      <td>39325614.0</td>\n",
                            "      <td>40214920.0</td>\n",
                            "      <td>2.860466e+09</td>\n",
                            "      <td>183798.7</td>\n",
                            "      <td>21368.0</td>\n",
                            "      <td>NaN</td>\n",
                            "    </tr>\n",
                            "    <tr>\n",
                            "      <th>386</th>\n",
                            "      <td>TO</td>\n",
                            "      <td>2014</td>\n",
                            "      <td>18976000.0</td>\n",
                            "      <td>16049428.2</td>\n",
                            "      <td>1.76</td>\n",
                            "      <td>4.0</td>\n",
                            "      <td>72.0</td>\n",
                            "      <td>15628697.0</td>\n",
                            "      <td>13218362.0</td>\n",
                            "      <td>NaN</td>\n",
                            "      <td>NaN</td>\n",
                            "      <td>NaN</td>\n",
                            "      <td>NaN</td>\n",
                            "    </tr>\n",
                            "    <tr>\n",
                            "      <th>387</th>\n",
                            "      <td>TO</td>\n",
                            "      <td>2015</td>\n",
                            "      <td>181132413.3</td>\n",
                            "      <td>175096103.3</td>\n",
                            "      <td>4.08</td>\n",
                            "      <td>14.0</td>\n",
                            "      <td>56.0</td>\n",
                            "      <td>132185235.0</td>\n",
                            "      <td>127780109.0</td>\n",
                            "      <td>NaN</td>\n",
                            "      <td>NaN</td>\n",
                            "      <td>NaN</td>\n",
                            "      <td>NaN</td>\n",
                            "    </tr>\n",
                            "  </tbody>\n",
                            "</table>\n",
                            "<p>388 rows × 13 columns</p>\n",
                            "</div>"
                        ]
                    },
                    "metadata": {},
                    "execution_count": 110
                }
            ],
            "metadata": {}
        },
        {
            "cell_type": "code",
            "execution_count": 111,
            "source": [
                "## Exporting integrated dataset\n",
                "df.to_csv('bases-ajustadas/operacoes-uf-ano.csv',\n",
                "          index=False, header=True)"
            ],
            "outputs": [],
            "metadata": {}
        },
        {
            "cell_type": "markdown",
            "source": [
                "# 5 - Agregando bases externas sem agrupamento"
            ],
            "metadata": {}
        },
        {
            "cell_type": "markdown",
            "source": [
                "Nesta etapa é feito um dataset integrado com todas as informações.\n",
                "É importante notar o nível de agregação de cada variável externa na hora de fazer as análises usando este dataset:\n",
                "\n",
                "- num_empregados = uf/setor/ano/porte_do_cliente\n",
                "- emissao_co2 = uf/setor/ano\n",
                "- pib = uf/setor/ano\n",
                "- idhm = uf/setor\n",
                "\n",
                "**Importante: Recuperar dataset até o final da operação 3.3 para prosseguir**"
            ],
            "metadata": {}
        },
        {
            "cell_type": "code",
            "execution_count": 41,
            "source": [
                "## Setting dataset.\n",
                "df = pd.read_csv('bases-ajustadas/operacoes-ajustado.csv')"
            ],
            "outputs": [],
            "metadata": {}
        },
        {
            "cell_type": "code",
            "execution_count": 40,
            "source": [
                "## Loading auxiliar datasets.\n",
                "caged = pd.read_csv('bases-auxiliares/CAGED-ajustado.csv')\n",
                "pib = pd.read_csv('bases-auxiliares/pib-integrado.csv')\n",
                "seeg = pd.read_csv('bases-auxiliares/SEEG-emissao-ajustado.csv')\n",
                "idhm = pd.read_csv('bases-auxiliares/idhm.csv')"
            ],
            "outputs": [],
            "metadata": {}
        },
        {
            "cell_type": "code",
            "execution_count": 42,
            "source": [
                "## Change column name 'ano' to 'mes'.\n",
                "df.rename(columns={'ano': 'mes'}, inplace=True)"
            ],
            "outputs": [],
            "metadata": {}
        },
        {
            "cell_type": "code",
            "execution_count": 43,
            "source": [
                "# Indexing a new column with year format.\n",
                "df['ano'] = pd.to_datetime(df['data_da_contratacao'])\n",
                "df['ano'] = pd.DatetimeIndex(df['ano']).year"
            ],
            "outputs": [],
            "metadata": {}
        },
        {
            "cell_type": "markdown",
            "source": [
                "## 5.1 - CAGED"
            ],
            "metadata": {}
        },
        {
            "cell_type": "code",
            "execution_count": 116,
            "source": [
                "## Append number of employees from CAGED dataset, segmented by company_size/sector/uf/ano.\n",
                "df = map_values_caged(df, caged, 'setor_bndes', 'num_empregados')"
            ],
            "outputs": [],
            "metadata": {}
        },
        {
            "cell_type": "code",
            "execution_count": 45,
            "source": [
                "df.loc[0]"
            ],
            "outputs": [
                {
                    "output_type": "execute_result",
                    "data": {
                        "text/plain": [
                            "cliente                         ELETROPAULO METROPOLITANA ELETRICIDADE DE SAO ...\n",
                            "cnpj                                                           61.695.227/0001-93\n",
                            "uf                                                                             SP\n",
                            "numero_do_contrato                                                        2204531\n",
                            "data_da_contratacao                                           2002-02-04T00:00:00\n",
                            "valor_contratado_reais                                                182029685.4\n",
                            "valor_desembolsado_reais                                              182029685.4\n",
                            "fonte_de_recurso_desembolsos                            RECURSOS LIVRES - TESOURO\n",
                            "custo_financeiro                                                        TAXA FIXA\n",
                            "juros                                                                         1.0\n",
                            "prazo_carencia_meses                                                           63\n",
                            "prazo_amortizacao_meses                                                         8\n",
                            "modalidade_de_apoio                                                  REEMBOLSÁVEL\n",
                            "produto                                                               BNDES FINEM\n",
                            "instrumento_financeiro                                                     OUTROS\n",
                            "inovacao                                                                      NÃO\n",
                            "area_operacional                                                  AREA DE ENERGIA\n",
                            "setor_bndes                                                        INFRAESTRUTURA\n",
                            "subsetor_bndes                                                   ENERGIA ELETRICA\n",
                            "porte_do_cliente                                                           GRANDE\n",
                            "natureza_do_cliente                                          PRIVADA             \n",
                            "tipo_de_garantia                                                             REAL\n",
                            "situacao_do_contrato                                                    LIQUIDADO\n",
                            "mes                                                                       2002-02\n",
                            "igpm                                                                      217.074\n",
                            "valor_contratado_ajustado                                             377604639.0\n",
                            "valor_desembolsado_ajustado                                           377604639.0\n",
                            "ano                                                                          2002\n",
                            "Name: 0, dtype: object"
                        ]
                    },
                    "metadata": {},
                    "execution_count": 45
                }
            ],
            "metadata": {}
        },
        {
            "cell_type": "code",
            "execution_count": 46,
            "source": [
                "caged"
            ],
            "outputs": [
                {
                    "output_type": "execute_result",
                    "data": {
                        "text/plain": [
                            "       ano  uf         setor porte_do_cliente  num_empregados\n",
                            "0     2019  RO     INDUSTRIA            MICRO            9493\n",
                            "1     2019  AC     INDUSTRIA            MICRO            2372\n",
                            "2     2019  AM     INDUSTRIA            MICRO            8308\n",
                            "3     2019  RR     INDUSTRIA            MICRO            1415\n",
                            "4     2019  PA     INDUSTRIA            MICRO           16603\n",
                            "...    ...  ..           ...              ...             ...\n",
                            "5827  2002  RS  AGROPECUARIA           GRANDE            2016\n",
                            "5828  2002  MS  AGROPECUARIA           GRANDE               0\n",
                            "5829  2002  MT  AGROPECUARIA           GRANDE            1583\n",
                            "5830  2002  GO  AGROPECUARIA           GRANDE             664\n",
                            "5831  2002  DF  AGROPECUARIA           GRANDE             608\n",
                            "\n",
                            "[5832 rows x 5 columns]"
                        ],
                        "text/html": [
                            "<div>\n",
                            "<style scoped>\n",
                            "    .dataframe tbody tr th:only-of-type {\n",
                            "        vertical-align: middle;\n",
                            "    }\n",
                            "\n",
                            "    .dataframe tbody tr th {\n",
                            "        vertical-align: top;\n",
                            "    }\n",
                            "\n",
                            "    .dataframe thead th {\n",
                            "        text-align: right;\n",
                            "    }\n",
                            "</style>\n",
                            "<table border=\"1\" class=\"dataframe\">\n",
                            "  <thead>\n",
                            "    <tr style=\"text-align: right;\">\n",
                            "      <th></th>\n",
                            "      <th>ano</th>\n",
                            "      <th>uf</th>\n",
                            "      <th>setor</th>\n",
                            "      <th>porte_do_cliente</th>\n",
                            "      <th>num_empregados</th>\n",
                            "    </tr>\n",
                            "  </thead>\n",
                            "  <tbody>\n",
                            "    <tr>\n",
                            "      <th>0</th>\n",
                            "      <td>2019</td>\n",
                            "      <td>RO</td>\n",
                            "      <td>INDUSTRIA</td>\n",
                            "      <td>MICRO</td>\n",
                            "      <td>9493</td>\n",
                            "    </tr>\n",
                            "    <tr>\n",
                            "      <th>1</th>\n",
                            "      <td>2019</td>\n",
                            "      <td>AC</td>\n",
                            "      <td>INDUSTRIA</td>\n",
                            "      <td>MICRO</td>\n",
                            "      <td>2372</td>\n",
                            "    </tr>\n",
                            "    <tr>\n",
                            "      <th>2</th>\n",
                            "      <td>2019</td>\n",
                            "      <td>AM</td>\n",
                            "      <td>INDUSTRIA</td>\n",
                            "      <td>MICRO</td>\n",
                            "      <td>8308</td>\n",
                            "    </tr>\n",
                            "    <tr>\n",
                            "      <th>3</th>\n",
                            "      <td>2019</td>\n",
                            "      <td>RR</td>\n",
                            "      <td>INDUSTRIA</td>\n",
                            "      <td>MICRO</td>\n",
                            "      <td>1415</td>\n",
                            "    </tr>\n",
                            "    <tr>\n",
                            "      <th>4</th>\n",
                            "      <td>2019</td>\n",
                            "      <td>PA</td>\n",
                            "      <td>INDUSTRIA</td>\n",
                            "      <td>MICRO</td>\n",
                            "      <td>16603</td>\n",
                            "    </tr>\n",
                            "    <tr>\n",
                            "      <th>...</th>\n",
                            "      <td>...</td>\n",
                            "      <td>...</td>\n",
                            "      <td>...</td>\n",
                            "      <td>...</td>\n",
                            "      <td>...</td>\n",
                            "    </tr>\n",
                            "    <tr>\n",
                            "      <th>5827</th>\n",
                            "      <td>2002</td>\n",
                            "      <td>RS</td>\n",
                            "      <td>AGROPECUARIA</td>\n",
                            "      <td>GRANDE</td>\n",
                            "      <td>2016</td>\n",
                            "    </tr>\n",
                            "    <tr>\n",
                            "      <th>5828</th>\n",
                            "      <td>2002</td>\n",
                            "      <td>MS</td>\n",
                            "      <td>AGROPECUARIA</td>\n",
                            "      <td>GRANDE</td>\n",
                            "      <td>0</td>\n",
                            "    </tr>\n",
                            "    <tr>\n",
                            "      <th>5829</th>\n",
                            "      <td>2002</td>\n",
                            "      <td>MT</td>\n",
                            "      <td>AGROPECUARIA</td>\n",
                            "      <td>GRANDE</td>\n",
                            "      <td>1583</td>\n",
                            "    </tr>\n",
                            "    <tr>\n",
                            "      <th>5830</th>\n",
                            "      <td>2002</td>\n",
                            "      <td>GO</td>\n",
                            "      <td>AGROPECUARIA</td>\n",
                            "      <td>GRANDE</td>\n",
                            "      <td>664</td>\n",
                            "    </tr>\n",
                            "    <tr>\n",
                            "      <th>5831</th>\n",
                            "      <td>2002</td>\n",
                            "      <td>DF</td>\n",
                            "      <td>AGROPECUARIA</td>\n",
                            "      <td>GRANDE</td>\n",
                            "      <td>608</td>\n",
                            "    </tr>\n",
                            "  </tbody>\n",
                            "</table>\n",
                            "<p>5832 rows × 5 columns</p>\n",
                            "</div>"
                        ]
                    },
                    "metadata": {},
                    "execution_count": 46
                }
            ],
            "metadata": {}
        },
        {
            "cell_type": "code",
            "execution_count": 39,
            "source": [
                "df_fin[(df_fin['uf'] == 'SP') & (df_fin['setor_bndes'] == 'INDUSTRIA')\n",
                "       & (df_fin['ano'] == '2019') & (df_fin['porte_do_cliente'] == 'GRANDE')]\n"
            ],
            "outputs": [
                {
                    "output_type": "execute_result",
                    "data": {
                        "text/plain": [
                            "                                                 cliente                cnpj  \\\n",
                            "13777  LOG & PRINT GRAFICA DADOS VARIAVEIS E LOGISTIC...  66.079.609/0001-06   \n",
                            "\n",
                            "       uf  numero_do_contrato  data_da_contratacao  valor_contratado_reais  \\\n",
                            "13777  SP            18206331  2019-01-08T00:00:00              60000000.0   \n",
                            "\n",
                            "       valor_desembolsado_reais fonte_de_recurso_desembolsos custo_financeiro  \\\n",
                            "13777                60000000.0   RECURSOS LIVRES - PRÓPRIOS            SELIC   \n",
                            "\n",
                            "       juros  ...              area_operacional  setor_bndes subsetor_bndes  \\\n",
                            "13777    3.9  ...  AREA DE INDUSTRIA E SERVICOS    INDUSTRIA         OUTRAS   \n",
                            "\n",
                            "      porte_do_cliente   natureza_do_cliente tipo_de_garantia  \\\n",
                            "13777           GRANDE  PRIVADA                          REAL   \n",
                            "\n",
                            "      situacao_do_contrato      ano     igpm valor_contratado_ajustado  \n",
                            "13777                ATIVO  2019-01  707.488                38188718.0  \n",
                            "\n",
                            "[1 rows x 26 columns]"
                        ],
                        "text/html": [
                            "<div>\n",
                            "<style scoped>\n",
                            "    .dataframe tbody tr th:only-of-type {\n",
                            "        vertical-align: middle;\n",
                            "    }\n",
                            "\n",
                            "    .dataframe tbody tr th {\n",
                            "        vertical-align: top;\n",
                            "    }\n",
                            "\n",
                            "    .dataframe thead th {\n",
                            "        text-align: right;\n",
                            "    }\n",
                            "</style>\n",
                            "<table border=\"1\" class=\"dataframe\">\n",
                            "  <thead>\n",
                            "    <tr style=\"text-align: right;\">\n",
                            "      <th></th>\n",
                            "      <th>cliente</th>\n",
                            "      <th>cnpj</th>\n",
                            "      <th>uf</th>\n",
                            "      <th>numero_do_contrato</th>\n",
                            "      <th>data_da_contratacao</th>\n",
                            "      <th>valor_contratado_reais</th>\n",
                            "      <th>valor_desembolsado_reais</th>\n",
                            "      <th>fonte_de_recurso_desembolsos</th>\n",
                            "      <th>custo_financeiro</th>\n",
                            "      <th>juros</th>\n",
                            "      <th>...</th>\n",
                            "      <th>area_operacional</th>\n",
                            "      <th>setor_bndes</th>\n",
                            "      <th>subsetor_bndes</th>\n",
                            "      <th>porte_do_cliente</th>\n",
                            "      <th>natureza_do_cliente</th>\n",
                            "      <th>tipo_de_garantia</th>\n",
                            "      <th>situacao_do_contrato</th>\n",
                            "      <th>ano</th>\n",
                            "      <th>igpm</th>\n",
                            "      <th>valor_contratado_ajustado</th>\n",
                            "    </tr>\n",
                            "  </thead>\n",
                            "  <tbody>\n",
                            "    <tr>\n",
                            "      <th>13777</th>\n",
                            "      <td>LOG &amp; PRINT GRAFICA DADOS VARIAVEIS E LOGISTIC...</td>\n",
                            "      <td>66.079.609/0001-06</td>\n",
                            "      <td>SP</td>\n",
                            "      <td>18206331</td>\n",
                            "      <td>2019-01-08T00:00:00</td>\n",
                            "      <td>60000000.0</td>\n",
                            "      <td>60000000.0</td>\n",
                            "      <td>RECURSOS LIVRES - PRÓPRIOS</td>\n",
                            "      <td>SELIC</td>\n",
                            "      <td>3.9</td>\n",
                            "      <td>...</td>\n",
                            "      <td>AREA DE INDUSTRIA E SERVICOS</td>\n",
                            "      <td>INDUSTRIA</td>\n",
                            "      <td>OUTRAS</td>\n",
                            "      <td>GRANDE</td>\n",
                            "      <td>PRIVADA</td>\n",
                            "      <td>REAL</td>\n",
                            "      <td>ATIVO</td>\n",
                            "      <td>2019-01</td>\n",
                            "      <td>707.488</td>\n",
                            "      <td>38188718.0</td>\n",
                            "    </tr>\n",
                            "  </tbody>\n",
                            "</table>\n",
                            "<p>1 rows × 26 columns</p>\n",
                            "</div>"
                        ]
                    },
                    "metadata": {},
                    "execution_count": 39
                }
            ],
            "metadata": {}
        },
        {
            "cell_type": "code",
            "execution_count": 37,
            "source": [
                "df_fin.loc[0]"
            ],
            "outputs": [
                {
                    "output_type": "execute_result",
                    "data": {
                        "text/plain": [
                            "cliente                         ELETROPAULO METROPOLITANA ELETRICIDADE DE SAO ...\n",
                            "cnpj                                                           61.695.227/0001-93\n",
                            "uf                                                                             SP\n",
                            "numero_do_contrato                                                        2204531\n",
                            "data_da_contratacao                                           2002-02-04T00:00:00\n",
                            "valor_contratado_reais                                                182029685.4\n",
                            "valor_desembolsado_reais                                              182029685.4\n",
                            "fonte_de_recurso_desembolsos                            RECURSOS LIVRES - TESOURO\n",
                            "custo_financeiro                                                        TAXA FIXA\n",
                            "juros                                                                         1.0\n",
                            "prazo_carencia_meses                                                           63\n",
                            "prazo_amortizacao_meses                                                         8\n",
                            "modalidade_de_apoio                                                  REEMBOLSÁVEL\n",
                            "produto                                                               BNDES FINEM\n",
                            "instrumento_financeiro                                                     OUTROS\n",
                            "inovacao                                                                      NÃO\n",
                            "area_operacional                                                  AREA DE ENERGIA\n",
                            "setor_bndes                                                        INFRAESTRUTURA\n",
                            "subsetor_bndes                                                   ENERGIA ELETRICA\n",
                            "porte_do_cliente                                                           GRANDE\n",
                            "natureza_do_cliente                                          PRIVADA             \n",
                            "tipo_de_garantia                                                             REAL\n",
                            "situacao_do_contrato                                                    LIQUIDADO\n",
                            "ano                                                                       2002-02\n",
                            "igpm                                                                      217.074\n",
                            "valor_contratado_ajustado                                             377604639.0\n",
                            "Name: 0, dtype: object"
                        ]
                    },
                    "metadata": {},
                    "execution_count": 37
                }
            ],
            "metadata": {}
        },
        {
            "cell_type": "code",
            "execution_count": 119,
            "source": [
                "search_info(df, 'setor_bndes', 'INDUSTRIA', 'SP', 2019).iloc[0,:]"
            ],
            "outputs": [
                {
                    "output_type": "execute_result",
                    "data": {
                        "text/plain": [
                            "cliente                         LOG & PRINT GRAFICA DADOS VARIAVEIS E LOGISTIC...\n",
                            "cnpj                                                           66.079.609/0001-06\n",
                            "uf                                                                             SP\n",
                            "numero_do_contrato                                                       18206331\n",
                            "data_da_contratacao                                           2019-01-08T00:00:00\n",
                            "valor_contratado_reais                                                 60000000.0\n",
                            "valor_desembolsado_reais                                               60000000.0\n",
                            "fonte_de_recurso_desembolsos                           RECURSOS LIVRES - PRÓPRIOS\n",
                            "custo_financeiro                                                            SELIC\n",
                            "juros                                                                         3.9\n",
                            "prazo_carencia_meses                                                           24\n",
                            "prazo_amortizacao_meses                                                        36\n",
                            "modalidade_de_apoio                                                  REEMBOLSÁVEL\n",
                            "produto                                                               BNDES FINEM\n",
                            "instrumento_financeiro                                                 BNDES GIRO\n",
                            "inovacao                                                                      NÃO\n",
                            "area_operacional                                     AREA DE INDUSTRIA E SERVICOS\n",
                            "setor_bndes                                                             INDUSTRIA\n",
                            "subsetor_bndes                                                             OUTRAS\n",
                            "porte_do_cliente                                                           GRANDE\n",
                            "natureza_do_cliente                                          PRIVADA             \n",
                            "tipo_de_garantia                                                             REAL\n",
                            "situacao_do_contrato                                                        ATIVO\n",
                            "mes                                                                       2019-01\n",
                            "igpm                                                                      707.488\n",
                            "valor_contratado_ajustado                                              38188718.0\n",
                            "valor_desembolsado_ajustado                                            38188718.0\n",
                            "ano                                                                          2019\n",
                            "num_empregados                                                           741404.0\n",
                            "Name: 13306, dtype: object"
                        ]
                    },
                    "metadata": {},
                    "execution_count": 119
                }
            ],
            "metadata": {}
        },
        {
            "cell_type": "markdown",
            "source": [
                "## 5.2 - SEEG"
            ],
            "metadata": {}
        },
        {
            "cell_type": "code",
            "execution_count": 120,
            "source": [
                "## Append SEEG Emissions, segmented by sector/uf/ano.\n",
                "df = map_values_general(df, seeg, 'setor_bndes', 'emissao_co2')"
            ],
            "outputs": [],
            "metadata": {}
        },
        {
            "cell_type": "code",
            "execution_count": 121,
            "source": [
                "## Veryfing NA\n",
                "df['emissao_co2'].isna().sum()"
            ],
            "outputs": [
                {
                    "output_type": "execute_result",
                    "data": {
                        "text/plain": [
                            "8113"
                        ]
                    },
                    "metadata": {},
                    "execution_count": 121
                }
            ],
            "metadata": {}
        },
        {
            "cell_type": "code",
            "execution_count": 122,
            "source": [
                "# veryfing random observation.\n",
                "search_info(seeg, 'setor', 'AGROPECUARIA', 'MG', 2015)\n"
            ],
            "outputs": [
                {
                    "output_type": "execute_result",
                    "data": {
                        "text/plain": [
                            "            setor  uf   ano  emissao_co2\n",
                            "718  AGROPECUARIA  MG  2015   87914822.8"
                        ],
                        "text/html": [
                            "<div>\n",
                            "<style scoped>\n",
                            "    .dataframe tbody tr th:only-of-type {\n",
                            "        vertical-align: middle;\n",
                            "    }\n",
                            "\n",
                            "    .dataframe tbody tr th {\n",
                            "        vertical-align: top;\n",
                            "    }\n",
                            "\n",
                            "    .dataframe thead th {\n",
                            "        text-align: right;\n",
                            "    }\n",
                            "</style>\n",
                            "<table border=\"1\" class=\"dataframe\">\n",
                            "  <thead>\n",
                            "    <tr style=\"text-align: right;\">\n",
                            "      <th></th>\n",
                            "      <th>setor</th>\n",
                            "      <th>uf</th>\n",
                            "      <th>ano</th>\n",
                            "      <th>emissao_co2</th>\n",
                            "    </tr>\n",
                            "  </thead>\n",
                            "  <tbody>\n",
                            "    <tr>\n",
                            "      <th>718</th>\n",
                            "      <td>AGROPECUARIA</td>\n",
                            "      <td>MG</td>\n",
                            "      <td>2015</td>\n",
                            "      <td>87914822.8</td>\n",
                            "    </tr>\n",
                            "  </tbody>\n",
                            "</table>\n",
                            "</div>"
                        ]
                    },
                    "metadata": {},
                    "execution_count": 122
                }
            ],
            "metadata": {}
        },
        {
            "cell_type": "code",
            "execution_count": 123,
            "source": [
                "search_info(df, 'setor_bndes', 'AGROPECUARIA', 'MG', 2015).iloc[0, :]\n"
            ],
            "outputs": [
                {
                    "output_type": "execute_result",
                    "data": {
                        "text/plain": [
                            "cliente                         PLANTAR EMPREENDIMENTOS E PRODUTOS FLORESTAIS ...\n",
                            "cnpj                                                           21.752.910/0001-09\n",
                            "uf                                                                             MG\n",
                            "numero_do_contrato                                                       14213031\n",
                            "data_da_contratacao                                           2015-03-10T00:00:00\n",
                            "valor_contratado_reais                                                 12608000.0\n",
                            "valor_desembolsado_reais                                               7721266.91\n",
                            "fonte_de_recurso_desembolsos                                RECURSOS LIVRES - FAT\n",
                            "custo_financeiro                                                             TJLP\n",
                            "juros                                                                        2.75\n",
                            "prazo_carencia_meses                                                           84\n",
                            "prazo_amortizacao_meses                                                        24\n",
                            "modalidade_de_apoio                                                  REEMBOLSÁVEL\n",
                            "produto                                                               BNDES FINEM\n",
                            "instrumento_financeiro                                            BNDES FLORESTAL\n",
                            "inovacao                                                                      NÃO\n",
                            "area_operacional                                     AREA DE INDUSTRIA E SERVICOS\n",
                            "setor_bndes                                                          AGROPECUARIA\n",
                            "subsetor_bndes                                                       AGROPECUARIA\n",
                            "porte_do_cliente                                                           GRANDE\n",
                            "natureza_do_cliente                                          PRIVADA             \n",
                            "tipo_de_garantia                                                   REAL / PESSOAL\n",
                            "situacao_do_contrato                                                        ATIVO\n",
                            "mes                                                                       2015-03\n",
                            "igpm                                                                      569.536\n",
                            "valor_contratado_ajustado                                               9968457.0\n",
                            "valor_desembolsado_ajustado                                             6104784.0\n",
                            "ano                                                                          2015\n",
                            "num_empregados                                                            20219.0\n",
                            "emissao_co2                                                            87914822.8\n",
                            "Name: 11176, dtype: object"
                        ]
                    },
                    "metadata": {},
                    "execution_count": 123
                }
            ],
            "metadata": {}
        },
        {
            "cell_type": "markdown",
            "source": [
                "## 5.3 - PIB"
            ],
            "metadata": {}
        },
        {
            "cell_type": "code",
            "execution_count": 124,
            "source": [
                "# Append PIB values, segmented by sector/uf/ano.\n",
                "df = map_values_general(df, pib, 'setor_bndes', 'pib')"
            ],
            "outputs": [],
            "metadata": {}
        },
        {
            "cell_type": "code",
            "execution_count": 125,
            "source": [
                "## Veryfing NA\n",
                "df['pib'].isna().sum()\n"
            ],
            "outputs": [
                {
                    "output_type": "execute_result",
                    "data": {
                        "text/plain": [
                            "8271"
                        ]
                    },
                    "metadata": {},
                    "execution_count": 125
                }
            ],
            "metadata": {}
        },
        {
            "cell_type": "code",
            "execution_count": 126,
            "source": [
                "# veryfing random observation.\n",
                "search_info(pib, 'setor', 'AGROPECUARIA', 'DF', 2010)"
            ],
            "outputs": [
                {
                    "output_type": "execute_result",
                    "data": {
                        "text/plain": [
                            "     uf   ano         setor          pib\n",
                            "222  DF  2010  AGROPECUARIA  327804575.0"
                        ],
                        "text/html": [
                            "<div>\n",
                            "<style scoped>\n",
                            "    .dataframe tbody tr th:only-of-type {\n",
                            "        vertical-align: middle;\n",
                            "    }\n",
                            "\n",
                            "    .dataframe tbody tr th {\n",
                            "        vertical-align: top;\n",
                            "    }\n",
                            "\n",
                            "    .dataframe thead th {\n",
                            "        text-align: right;\n",
                            "    }\n",
                            "</style>\n",
                            "<table border=\"1\" class=\"dataframe\">\n",
                            "  <thead>\n",
                            "    <tr style=\"text-align: right;\">\n",
                            "      <th></th>\n",
                            "      <th>uf</th>\n",
                            "      <th>ano</th>\n",
                            "      <th>setor</th>\n",
                            "      <th>pib</th>\n",
                            "    </tr>\n",
                            "  </thead>\n",
                            "  <tbody>\n",
                            "    <tr>\n",
                            "      <th>222</th>\n",
                            "      <td>DF</td>\n",
                            "      <td>2010</td>\n",
                            "      <td>AGROPECUARIA</td>\n",
                            "      <td>327804575.0</td>\n",
                            "    </tr>\n",
                            "  </tbody>\n",
                            "</table>\n",
                            "</div>"
                        ]
                    },
                    "metadata": {},
                    "execution_count": 126
                }
            ],
            "metadata": {}
        },
        {
            "cell_type": "code",
            "execution_count": 127,
            "source": [
                "search_info(df, 'setor_bndes', 'AGROPECUARIA', 'DF', 2010).iloc[0, :]"
            ],
            "outputs": [
                {
                    "output_type": "execute_result",
                    "data": {
                        "text/plain": [
                            "cliente                                                  ASA\n",
                            "cnpj                                      72.600.190/0001-99\n",
                            "uf                                                        DF\n",
                            "numero_do_contrato                                  10201201\n",
                            "data_da_contratacao                      2010-03-25T00:00:00\n",
                            "valor_contratado_reais                            30000000.0\n",
                            "valor_desembolsado_reais                          30000000.0\n",
                            "fonte_de_recurso_desembolsos      RECURSOS LIVRES - PRÓPRIOS\n",
                            "custo_financeiro                                       TJ462\n",
                            "juros                                                   5.54\n",
                            "prazo_carencia_meses                                      12\n",
                            "prazo_amortizacao_meses                                   24\n",
                            "modalidade_de_apoio                             REEMBOLSÁVEL\n",
                            "produto                                          BNDES FINEM\n",
                            "instrumento_financeiro                             PEC BNDES\n",
                            "inovacao                                                 NÃO\n",
                            "area_operacional                AREA DE INDUSTRIA E SERVICOS\n",
                            "setor_bndes                                     AGROPECUARIA\n",
                            "subsetor_bndes                                  AGROPECUARIA\n",
                            "porte_do_cliente                                      GRANDE\n",
                            "natureza_do_cliente                     PRIVADA             \n",
                            "tipo_de_garantia                              REAL / PESSOAL\n",
                            "situacao_do_contrato                               LIQUIDADO\n",
                            "mes                                                  2010-03\n",
                            "igpm                                                 415.734\n",
                            "valor_contratado_ajustado                         32494407.0\n",
                            "valor_desembolsado_ajustado                       32494407.0\n",
                            "ano                                                     2010\n",
                            "num_empregados                                         645.0\n",
                            "emissao_co2                                         583148.4\n",
                            "pib                                              327804575.0\n",
                            "Name: 5664, dtype: object"
                        ]
                    },
                    "metadata": {},
                    "execution_count": 127
                }
            ],
            "metadata": {}
        },
        {
            "cell_type": "markdown",
            "source": [
                "## 5.4 - IDHM"
            ],
            "metadata": {}
        },
        {
            "cell_type": "code",
            "execution_count": 128,
            "source": [
                "## Append IDH information, segmented by uf/ano.\n",
                "for i in range(len(idhm)):\n",
                "    index = np.where(df['ano'].eq(idhm.loc[i, 'ano']) & df['uf'].eq(\n",
                "        idhm.loc[i, 'uf']))\n",
                "\n",
                "    df.loc[index[0], 'idhm'] = idhm.loc[i, 'idhm']"
            ],
            "outputs": [],
            "metadata": {}
        },
        {
            "cell_type": "code",
            "execution_count": 129,
            "source": [
                "## Veryfing NA.\n",
                "df['idhm'].isna().sum()"
            ],
            "outputs": [
                {
                    "output_type": "execute_result",
                    "data": {
                        "text/plain": [
                            "11846"
                        ]
                    },
                    "metadata": {},
                    "execution_count": 129
                }
            ],
            "metadata": {}
        },
        {
            "cell_type": "code",
            "execution_count": 130,
            "source": [
                "## veryfing random observation.\n",
                "idhm.loc[17:17,:]"
            ],
            "outputs": [
                {
                    "output_type": "execute_result",
                    "data": {
                        "text/plain": [
                            "     idhm   ano  uf\n",
                            "17  0.674  2010  AM"
                        ],
                        "text/html": [
                            "<div>\n",
                            "<style scoped>\n",
                            "    .dataframe tbody tr th:only-of-type {\n",
                            "        vertical-align: middle;\n",
                            "    }\n",
                            "\n",
                            "    .dataframe tbody tr th {\n",
                            "        vertical-align: top;\n",
                            "    }\n",
                            "\n",
                            "    .dataframe thead th {\n",
                            "        text-align: right;\n",
                            "    }\n",
                            "</style>\n",
                            "<table border=\"1\" class=\"dataframe\">\n",
                            "  <thead>\n",
                            "    <tr style=\"text-align: right;\">\n",
                            "      <th></th>\n",
                            "      <th>idhm</th>\n",
                            "      <th>ano</th>\n",
                            "      <th>uf</th>\n",
                            "    </tr>\n",
                            "  </thead>\n",
                            "  <tbody>\n",
                            "    <tr>\n",
                            "      <th>17</th>\n",
                            "      <td>0.674</td>\n",
                            "      <td>2010</td>\n",
                            "      <td>AM</td>\n",
                            "    </tr>\n",
                            "  </tbody>\n",
                            "</table>\n",
                            "</div>"
                        ]
                    },
                    "metadata": {},
                    "execution_count": 130
                }
            ],
            "metadata": {}
        },
        {
            "cell_type": "code",
            "execution_count": 131,
            "source": [
                "search_info(df, 'setor_bndes', 'INDUSTRIA', 'AM', 2010)"
            ],
            "outputs": [
                {
                    "output_type": "execute_result",
                    "data": {
                        "text/plain": [
                            "                  cliente                cnpj  uf  numero_do_contrato  \\\n",
                            "5690  VIDEOLAR-INNOVA S/A  04.229.761/0001-70  AM            10200971   \n",
                            "5691  VIDEOLAR-INNOVA S/A  04.229.761/0001-70  AM            10200971   \n",
                            "5692  VIDEOLAR-INNOVA S/A  04.229.761/0001-70  AM            10200971   \n",
                            "5695  VIDEOLAR-INNOVA S/A  04.229.761/0001-70  AM            10200971   \n",
                            "\n",
                            "      data_da_contratacao  valor_contratado_reais  valor_desembolsado_reais  \\\n",
                            "5690  2010-04-12T00:00:00              40200000.0               40199999.99   \n",
                            "5691  2010-04-12T00:00:00              40200000.0               40199999.99   \n",
                            "5692  2010-04-12T00:00:00                500000.0                 500000.00   \n",
                            "5695  2010-04-12T00:00:00               3200000.0                3200000.00   \n",
                            "\n",
                            "                           fonte_de_recurso_desembolsos custo_financeiro  \\\n",
                            "5690  RECURSOS LIVRES - FAT / RECURSOS LIVRES - TESOURO             TJLP   \n",
                            "5691  RECURSOS LIVRES - FAT / RECURSOS LIVRES - TESOURO            TJ462   \n",
                            "5692  RECURSOS LIVRES - FAT / RECURSOS LIVRES - TESOURO             TJLP   \n",
                            "5695  RECURSOS LIVRES - FAT / RECURSOS LIVRES - TESOURO        TAXA FIXA   \n",
                            "\n",
                            "      juros  ...  situacao_do_contrato      mes     igpm  \\\n",
                            "5690   2.12  ...             LIQUIDADO  2010-04  418.917   \n",
                            "5691   2.12  ...             LIQUIDADO  2010-04  418.917   \n",
                            "5692   0.00  ...             LIQUIDADO  2010-04  418.917   \n",
                            "5695   4.50  ...             LIQUIDADO  2010-04  418.917   \n",
                            "\n",
                            "     valor_contratado_ajustado valor_desembolsado_ajustado   ano  \\\n",
                            "5690                43211663.0                  43211663.0  2010   \n",
                            "5691                43211663.0                  43211663.0  2010   \n",
                            "5692                  537458.0                    537458.0  2010   \n",
                            "5695                 3439734.0                   3439734.0  2010   \n",
                            "\n",
                            "     num_empregados emissao_co2           pib   idhm  \n",
                            "5690        61226.0    261072.1  2.149580e+10  0.674  \n",
                            "5691        61226.0    261072.1  2.149580e+10  0.674  \n",
                            "5692        61226.0    261072.1  2.149580e+10  0.674  \n",
                            "5695        61226.0    261072.1  2.149580e+10  0.674  \n",
                            "\n",
                            "[4 rows x 32 columns]"
                        ],
                        "text/html": [
                            "<div>\n",
                            "<style scoped>\n",
                            "    .dataframe tbody tr th:only-of-type {\n",
                            "        vertical-align: middle;\n",
                            "    }\n",
                            "\n",
                            "    .dataframe tbody tr th {\n",
                            "        vertical-align: top;\n",
                            "    }\n",
                            "\n",
                            "    .dataframe thead th {\n",
                            "        text-align: right;\n",
                            "    }\n",
                            "</style>\n",
                            "<table border=\"1\" class=\"dataframe\">\n",
                            "  <thead>\n",
                            "    <tr style=\"text-align: right;\">\n",
                            "      <th></th>\n",
                            "      <th>cliente</th>\n",
                            "      <th>cnpj</th>\n",
                            "      <th>uf</th>\n",
                            "      <th>numero_do_contrato</th>\n",
                            "      <th>data_da_contratacao</th>\n",
                            "      <th>valor_contratado_reais</th>\n",
                            "      <th>valor_desembolsado_reais</th>\n",
                            "      <th>fonte_de_recurso_desembolsos</th>\n",
                            "      <th>custo_financeiro</th>\n",
                            "      <th>juros</th>\n",
                            "      <th>...</th>\n",
                            "      <th>situacao_do_contrato</th>\n",
                            "      <th>mes</th>\n",
                            "      <th>igpm</th>\n",
                            "      <th>valor_contratado_ajustado</th>\n",
                            "      <th>valor_desembolsado_ajustado</th>\n",
                            "      <th>ano</th>\n",
                            "      <th>num_empregados</th>\n",
                            "      <th>emissao_co2</th>\n",
                            "      <th>pib</th>\n",
                            "      <th>idhm</th>\n",
                            "    </tr>\n",
                            "  </thead>\n",
                            "  <tbody>\n",
                            "    <tr>\n",
                            "      <th>5690</th>\n",
                            "      <td>VIDEOLAR-INNOVA S/A</td>\n",
                            "      <td>04.229.761/0001-70</td>\n",
                            "      <td>AM</td>\n",
                            "      <td>10200971</td>\n",
                            "      <td>2010-04-12T00:00:00</td>\n",
                            "      <td>40200000.0</td>\n",
                            "      <td>40199999.99</td>\n",
                            "      <td>RECURSOS LIVRES - FAT / RECURSOS LIVRES - TESOURO</td>\n",
                            "      <td>TJLP</td>\n",
                            "      <td>2.12</td>\n",
                            "      <td>...</td>\n",
                            "      <td>LIQUIDADO</td>\n",
                            "      <td>2010-04</td>\n",
                            "      <td>418.917</td>\n",
                            "      <td>43211663.0</td>\n",
                            "      <td>43211663.0</td>\n",
                            "      <td>2010</td>\n",
                            "      <td>61226.0</td>\n",
                            "      <td>261072.1</td>\n",
                            "      <td>2.149580e+10</td>\n",
                            "      <td>0.674</td>\n",
                            "    </tr>\n",
                            "    <tr>\n",
                            "      <th>5691</th>\n",
                            "      <td>VIDEOLAR-INNOVA S/A</td>\n",
                            "      <td>04.229.761/0001-70</td>\n",
                            "      <td>AM</td>\n",
                            "      <td>10200971</td>\n",
                            "      <td>2010-04-12T00:00:00</td>\n",
                            "      <td>40200000.0</td>\n",
                            "      <td>40199999.99</td>\n",
                            "      <td>RECURSOS LIVRES - FAT / RECURSOS LIVRES - TESOURO</td>\n",
                            "      <td>TJ462</td>\n",
                            "      <td>2.12</td>\n",
                            "      <td>...</td>\n",
                            "      <td>LIQUIDADO</td>\n",
                            "      <td>2010-04</td>\n",
                            "      <td>418.917</td>\n",
                            "      <td>43211663.0</td>\n",
                            "      <td>43211663.0</td>\n",
                            "      <td>2010</td>\n",
                            "      <td>61226.0</td>\n",
                            "      <td>261072.1</td>\n",
                            "      <td>2.149580e+10</td>\n",
                            "      <td>0.674</td>\n",
                            "    </tr>\n",
                            "    <tr>\n",
                            "      <th>5692</th>\n",
                            "      <td>VIDEOLAR-INNOVA S/A</td>\n",
                            "      <td>04.229.761/0001-70</td>\n",
                            "      <td>AM</td>\n",
                            "      <td>10200971</td>\n",
                            "      <td>2010-04-12T00:00:00</td>\n",
                            "      <td>500000.0</td>\n",
                            "      <td>500000.00</td>\n",
                            "      <td>RECURSOS LIVRES - FAT / RECURSOS LIVRES - TESOURO</td>\n",
                            "      <td>TJLP</td>\n",
                            "      <td>0.00</td>\n",
                            "      <td>...</td>\n",
                            "      <td>LIQUIDADO</td>\n",
                            "      <td>2010-04</td>\n",
                            "      <td>418.917</td>\n",
                            "      <td>537458.0</td>\n",
                            "      <td>537458.0</td>\n",
                            "      <td>2010</td>\n",
                            "      <td>61226.0</td>\n",
                            "      <td>261072.1</td>\n",
                            "      <td>2.149580e+10</td>\n",
                            "      <td>0.674</td>\n",
                            "    </tr>\n",
                            "    <tr>\n",
                            "      <th>5695</th>\n",
                            "      <td>VIDEOLAR-INNOVA S/A</td>\n",
                            "      <td>04.229.761/0001-70</td>\n",
                            "      <td>AM</td>\n",
                            "      <td>10200971</td>\n",
                            "      <td>2010-04-12T00:00:00</td>\n",
                            "      <td>3200000.0</td>\n",
                            "      <td>3200000.00</td>\n",
                            "      <td>RECURSOS LIVRES - FAT / RECURSOS LIVRES - TESOURO</td>\n",
                            "      <td>TAXA FIXA</td>\n",
                            "      <td>4.50</td>\n",
                            "      <td>...</td>\n",
                            "      <td>LIQUIDADO</td>\n",
                            "      <td>2010-04</td>\n",
                            "      <td>418.917</td>\n",
                            "      <td>3439734.0</td>\n",
                            "      <td>3439734.0</td>\n",
                            "      <td>2010</td>\n",
                            "      <td>61226.0</td>\n",
                            "      <td>261072.1</td>\n",
                            "      <td>2.149580e+10</td>\n",
                            "      <td>0.674</td>\n",
                            "    </tr>\n",
                            "  </tbody>\n",
                            "</table>\n",
                            "<p>4 rows × 32 columns</p>\n",
                            "</div>"
                        ]
                    },
                    "metadata": {},
                    "execution_count": 131
                }
            ],
            "metadata": {}
        },
        {
            "cell_type": "markdown",
            "source": [
                "## 5.5 - Número de processos por empresa"
            ],
            "metadata": {}
        },
        {
            "cell_type": "code",
            "execution_count": 132,
            "source": [
                "fields = ['cnpj', 'processos']\n",
                "processos = pd.read_csv('bases-auxiliares/bndes_processos.csv', sep=';', usecols=fields)"
            ],
            "outputs": [],
            "metadata": {}
        },
        {
            "cell_type": "code",
            "execution_count": 133,
            "source": [
                "processos"
            ],
            "outputs": [
                {
                    "output_type": "execute_result",
                    "data": {
                        "text/plain": [
                            "                     cnpj  processos\n",
                            "0      61.695.227/0001-93   105734.0\n",
                            "1      04.229.761/0001-70      548.0\n",
                            "2      04.229.761/0001-70      548.0\n",
                            "3      04.229.761/0001-70      548.0\n",
                            "4      12.282.034/0001-03     2726.0\n",
                            "...                   ...        ...\n",
                            "14950  07.442.711/0001-65        NaN\n",
                            "14951  04.565.361/0001-36      225.0\n",
                            "14952  04.565.361/0001-36      225.0\n",
                            "14953  04.565.361/0001-36      225.0\n",
                            "14954  36.146.575/0001-64        NaN\n",
                            "\n",
                            "[14955 rows x 2 columns]"
                        ],
                        "text/html": [
                            "<div>\n",
                            "<style scoped>\n",
                            "    .dataframe tbody tr th:only-of-type {\n",
                            "        vertical-align: middle;\n",
                            "    }\n",
                            "\n",
                            "    .dataframe tbody tr th {\n",
                            "        vertical-align: top;\n",
                            "    }\n",
                            "\n",
                            "    .dataframe thead th {\n",
                            "        text-align: right;\n",
                            "    }\n",
                            "</style>\n",
                            "<table border=\"1\" class=\"dataframe\">\n",
                            "  <thead>\n",
                            "    <tr style=\"text-align: right;\">\n",
                            "      <th></th>\n",
                            "      <th>cnpj</th>\n",
                            "      <th>processos</th>\n",
                            "    </tr>\n",
                            "  </thead>\n",
                            "  <tbody>\n",
                            "    <tr>\n",
                            "      <th>0</th>\n",
                            "      <td>61.695.227/0001-93</td>\n",
                            "      <td>105734.0</td>\n",
                            "    </tr>\n",
                            "    <tr>\n",
                            "      <th>1</th>\n",
                            "      <td>04.229.761/0001-70</td>\n",
                            "      <td>548.0</td>\n",
                            "    </tr>\n",
                            "    <tr>\n",
                            "      <th>2</th>\n",
                            "      <td>04.229.761/0001-70</td>\n",
                            "      <td>548.0</td>\n",
                            "    </tr>\n",
                            "    <tr>\n",
                            "      <th>3</th>\n",
                            "      <td>04.229.761/0001-70</td>\n",
                            "      <td>548.0</td>\n",
                            "    </tr>\n",
                            "    <tr>\n",
                            "      <th>4</th>\n",
                            "      <td>12.282.034/0001-03</td>\n",
                            "      <td>2726.0</td>\n",
                            "    </tr>\n",
                            "    <tr>\n",
                            "      <th>...</th>\n",
                            "      <td>...</td>\n",
                            "      <td>...</td>\n",
                            "    </tr>\n",
                            "    <tr>\n",
                            "      <th>14950</th>\n",
                            "      <td>07.442.711/0001-65</td>\n",
                            "      <td>NaN</td>\n",
                            "    </tr>\n",
                            "    <tr>\n",
                            "      <th>14951</th>\n",
                            "      <td>04.565.361/0001-36</td>\n",
                            "      <td>225.0</td>\n",
                            "    </tr>\n",
                            "    <tr>\n",
                            "      <th>14952</th>\n",
                            "      <td>04.565.361/0001-36</td>\n",
                            "      <td>225.0</td>\n",
                            "    </tr>\n",
                            "    <tr>\n",
                            "      <th>14953</th>\n",
                            "      <td>04.565.361/0001-36</td>\n",
                            "      <td>225.0</td>\n",
                            "    </tr>\n",
                            "    <tr>\n",
                            "      <th>14954</th>\n",
                            "      <td>36.146.575/0001-64</td>\n",
                            "      <td>NaN</td>\n",
                            "    </tr>\n",
                            "  </tbody>\n",
                            "</table>\n",
                            "<p>14955 rows × 2 columns</p>\n",
                            "</div>"
                        ]
                    },
                    "metadata": {},
                    "execution_count": 133
                }
            ],
            "metadata": {}
        },
        {
            "cell_type": "code",
            "execution_count": 134,
            "source": [
                "## Transform processos to a dict with CNPJ\n",
                "proc_dict = dict(zip(processos['cnpj'], processos['processos']))"
            ],
            "outputs": [],
            "metadata": {}
        },
        {
            "cell_type": "code",
            "execution_count": 136,
            "source": [
                "## append processos information to our main dataset\n",
                "df['processos'] = df['cnpj'].map(proc_dict)"
            ],
            "outputs": [],
            "metadata": {}
        },
        {
            "cell_type": "code",
            "execution_count": 141,
            "source": [
                "## Replacing 0's\n",
                "df['pib'].replace({'0': np.nan, 0: np.nan}, inplace=True)\n",
                "df['emissao_co2'].replace({'0': np.nan, 0: np.nan}, inplace=True)\n",
                "df['num_empregados'].replace({'0': np.nan, 0: np.nan}, inplace=True)\n",
                "df['idhm'].replace({'0': np.nan, 0: np.nan}, inplace=True)"
            ],
            "outputs": [],
            "metadata": {}
        },
        {
            "cell_type": "code",
            "execution_count": 145,
            "source": [
                "## Replacing NA to 0 for processos\n",
                "df['processos'] = df['processos'].replace(np.nan, 0)"
            ],
            "outputs": [],
            "metadata": {}
        },
        {
            "cell_type": "code",
            "execution_count": 146,
            "source": [
                "## Confirm replace.\n",
                "df['processos'].isna().sum()"
            ],
            "outputs": [
                {
                    "output_type": "execute_result",
                    "data": {
                        "text/plain": [
                            "0"
                        ]
                    },
                    "metadata": {},
                    "execution_count": 146
                }
            ],
            "metadata": {}
        },
        {
            "cell_type": "code",
            "execution_count": 149,
            "source": [
                "# Check for 0's and NA.\n",
                "df.loc[df['valor_contratado_ajustado'] <= 0]"
            ],
            "outputs": [
                {
                    "output_type": "execute_result",
                    "data": {
                        "text/plain": [
                            "Empty DataFrame\n",
                            "Columns: [cliente, cnpj, uf, numero_do_contrato, data_da_contratacao, valor_contratado_reais, valor_desembolsado_reais, fonte_de_recurso_desembolsos, custo_financeiro, juros, prazo_carencia_meses, prazo_amortizacao_meses, modalidade_de_apoio, produto, instrumento_financeiro, inovacao, area_operacional, setor_bndes, subsetor_bndes, porte_do_cliente, natureza_do_cliente, tipo_de_garantia, situacao_do_contrato, mes, igpm, valor_contratado_ajustado, valor_desembolsado_ajustado, ano, num_empregados, emissao_co2, pib, idhm, processos]\n",
                            "Index: []\n",
                            "\n",
                            "[0 rows x 33 columns]"
                        ],
                        "text/html": [
                            "<div>\n",
                            "<style scoped>\n",
                            "    .dataframe tbody tr th:only-of-type {\n",
                            "        vertical-align: middle;\n",
                            "    }\n",
                            "\n",
                            "    .dataframe tbody tr th {\n",
                            "        vertical-align: top;\n",
                            "    }\n",
                            "\n",
                            "    .dataframe thead th {\n",
                            "        text-align: right;\n",
                            "    }\n",
                            "</style>\n",
                            "<table border=\"1\" class=\"dataframe\">\n",
                            "  <thead>\n",
                            "    <tr style=\"text-align: right;\">\n",
                            "      <th></th>\n",
                            "      <th>cliente</th>\n",
                            "      <th>cnpj</th>\n",
                            "      <th>uf</th>\n",
                            "      <th>numero_do_contrato</th>\n",
                            "      <th>data_da_contratacao</th>\n",
                            "      <th>valor_contratado_reais</th>\n",
                            "      <th>valor_desembolsado_reais</th>\n",
                            "      <th>fonte_de_recurso_desembolsos</th>\n",
                            "      <th>custo_financeiro</th>\n",
                            "      <th>juros</th>\n",
                            "      <th>...</th>\n",
                            "      <th>mes</th>\n",
                            "      <th>igpm</th>\n",
                            "      <th>valor_contratado_ajustado</th>\n",
                            "      <th>valor_desembolsado_ajustado</th>\n",
                            "      <th>ano</th>\n",
                            "      <th>num_empregados</th>\n",
                            "      <th>emissao_co2</th>\n",
                            "      <th>pib</th>\n",
                            "      <th>idhm</th>\n",
                            "      <th>processos</th>\n",
                            "    </tr>\n",
                            "  </thead>\n",
                            "  <tbody>\n",
                            "  </tbody>\n",
                            "</table>\n",
                            "<p>0 rows × 33 columns</p>\n",
                            "</div>"
                        ]
                    },
                    "metadata": {},
                    "execution_count": 149
                }
            ],
            "metadata": {}
        },
        {
            "cell_type": "code",
            "execution_count": 152,
            "source": [
                "# Check for 0's and NA.\n",
                "df.loc[df['valor_desembolsado_ajustado'] <= 0]\n"
            ],
            "outputs": [
                {
                    "output_type": "execute_result",
                    "data": {
                        "text/plain": [
                            "Empty DataFrame\n",
                            "Columns: [cliente, cnpj, uf, numero_do_contrato, data_da_contratacao, valor_contratado_reais, valor_desembolsado_reais, fonte_de_recurso_desembolsos, custo_financeiro, juros, prazo_carencia_meses, prazo_amortizacao_meses, modalidade_de_apoio, produto, instrumento_financeiro, inovacao, area_operacional, setor_bndes, subsetor_bndes, porte_do_cliente, natureza_do_cliente, tipo_de_garantia, situacao_do_contrato, mes, igpm, valor_contratado_ajustado, valor_desembolsado_ajustado, ano, num_empregados, emissao_co2, pib, idhm, processos]\n",
                            "Index: []\n",
                            "\n",
                            "[0 rows x 33 columns]"
                        ],
                        "text/html": [
                            "<div>\n",
                            "<style scoped>\n",
                            "    .dataframe tbody tr th:only-of-type {\n",
                            "        vertical-align: middle;\n",
                            "    }\n",
                            "\n",
                            "    .dataframe tbody tr th {\n",
                            "        vertical-align: top;\n",
                            "    }\n",
                            "\n",
                            "    .dataframe thead th {\n",
                            "        text-align: right;\n",
                            "    }\n",
                            "</style>\n",
                            "<table border=\"1\" class=\"dataframe\">\n",
                            "  <thead>\n",
                            "    <tr style=\"text-align: right;\">\n",
                            "      <th></th>\n",
                            "      <th>cliente</th>\n",
                            "      <th>cnpj</th>\n",
                            "      <th>uf</th>\n",
                            "      <th>numero_do_contrato</th>\n",
                            "      <th>data_da_contratacao</th>\n",
                            "      <th>valor_contratado_reais</th>\n",
                            "      <th>valor_desembolsado_reais</th>\n",
                            "      <th>fonte_de_recurso_desembolsos</th>\n",
                            "      <th>custo_financeiro</th>\n",
                            "      <th>juros</th>\n",
                            "      <th>...</th>\n",
                            "      <th>mes</th>\n",
                            "      <th>igpm</th>\n",
                            "      <th>valor_contratado_ajustado</th>\n",
                            "      <th>valor_desembolsado_ajustado</th>\n",
                            "      <th>ano</th>\n",
                            "      <th>num_empregados</th>\n",
                            "      <th>emissao_co2</th>\n",
                            "      <th>pib</th>\n",
                            "      <th>idhm</th>\n",
                            "      <th>processos</th>\n",
                            "    </tr>\n",
                            "  </thead>\n",
                            "  <tbody>\n",
                            "  </tbody>\n",
                            "</table>\n",
                            "<p>0 rows × 33 columns</p>\n",
                            "</div>"
                        ]
                    },
                    "metadata": {},
                    "execution_count": 152
                }
            ],
            "metadata": {}
        },
        {
            "cell_type": "code",
            "execution_count": 153,
            "source": [
                "# Exporting integrated dataset\n",
                "df.to_csv('bases-ajustadas/operacoes-integrado.csv',\n",
                "          index=False, header=True)"
            ],
            "outputs": [],
            "metadata": {}
        }
    ],
    "metadata": {
        "orig_nbformat": 4,
        "language_info": {
            "name": "python",
            "version": "3.9.6",
            "mimetype": "text/x-python",
            "codemirror_mode": {
                "name": "ipython",
                "version": 3
            },
            "pygments_lexer": "ipython3",
            "nbconvert_exporter": "python",
            "file_extension": ".py"
        },
        "kernelspec": {
            "name": "python3",
            "display_name": "Python 3.9.6 64-bit ('dados-abertos': venv)"
        },
        "interpreter": {
            "hash": "1d941c93d37f459bccd78a691d83d4424a13868c9a91f8dd5dc1bbe19462440e"
        }
    },
    "nbformat": 4,
    "nbformat_minor": 2
}