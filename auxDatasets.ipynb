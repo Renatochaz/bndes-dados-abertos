{
    "cells": [
        {
            "cell_type": "markdown",
            "source": [
                "# 1. Descrição do problema de negócio\n",
                ".."
            ],
            "metadata": {}
        },
        {
            "cell_type": "markdown",
            "source": [
                "# 2. Carregando dados"
            ],
            "metadata": {}
        },
        {
            "cell_type": "markdown",
            "source": [
                "## 2.1 Importando dependências\n",
                "\n",
                "Importando as bibliotecas necessárias para as etapas inicias de carregamento de dados, exploração e transformação."
            ],
            "metadata": {}
        },
        {
            "cell_type": "code",
            "execution_count": 1,
            "source": [
                "## Load dependencies.\n",
                "import pandas as pd\n",
                "import json\n",
                "import requests\n",
                "import numpy as np\n",
                "from global_functions import strip_upper\n",
                "from global_functions import map_values_caged\n",
                "from global_functions import map_values_general\n",
                "from global_functions import quote\n",
                "from global_functions import melt_pib\n",
                "from global_functions import search_info"
            ],
            "outputs": [],
            "metadata": {}
        },
        {
            "cell_type": "markdown",
            "source": [
                "## 2.1 Carregando dados através da API CKAN."
            ],
            "metadata": {}
        },
        {
            "cell_type": "markdown",
            "source": [
                "A base de dados carregada aqui é referente as operações de financiamento não automáticas dos dados abertos do BNDES."
            ],
            "metadata": {}
        },
        {
            "cell_type": "code",
            "execution_count": 2,
            "source": [
                "## Define resource identifier and server to create our URL string for an API request.\n",
                "res_id = '332d446e-d340-46ef-af64-ee6f36e7bd50' ## Operações de financiamento não automáticas.\n",
                "server = 'https://dadosabertos.bndes.gov.br'\n",
                "\n",
                "## Define query limit.\n",
                "limit = 20000\n",
                "\n",
                "## Define filters.\n",
                "filters = quote({'setor_bndes': ['INFRAESTRUTURA', 'INDUSTRIA', 'AGROPECUÁRIA']})\n",
                "                 \n",
                "## Define fields to query.\n",
                "fields = 'cliente,cnpj,uf,data_da_contratacao,valor_contratado_reais, \\\n",
                "            valor_desembolsado_reais,fonte_de_recurso_desembolsos,custo_financeiro, \\\n",
                "            juros,prazo_carencia_meses,prazo_amortizacao_meses,modalidade_de_apoio,produto, \\\n",
                "            instrumento_financeiro,inovacao,area_operacional,setor_bndes,subsetor_bndes, \\\n",
                "            porte_do_cliente,natureza_do_cliente,tipo_de_garantia,situacao_do_contrato'\n",
                "\n",
                "## Create query url.\n",
                "query = (f\"{server}/api/3/action/datastore_search?resource_id={res_id}\"\n",
                "           f\"&filters={filters}&fields={fields}&limit={limit}\")\n",
                "\n",
                "print('Url para consulta:', query)\n"
            ],
            "outputs": [
                {
                    "output_type": "stream",
                    "name": "stdout",
                    "text": [
                        "Url para consulta: https://dadosabertos.bndes.gov.br/api/3/action/datastore_search?resource_id=332d446e-d340-46ef-af64-ee6f36e7bd50&filters=%7B%22setor_bndes%22%3A%20%5B%22INFRAESTRUTURA%22%2C%20%22INDUSTRIA%22%2C%20%22AGROPECU%5Cu00c1RIA%22%5D%7D&fields=cliente,cnpj,uf,data_da_contratacao,valor_contratado_reais,             valor_desembolsado_reais,fonte_de_recurso_desembolsos,custo_financeiro,             juros,prazo_carencia_meses,prazo_amortizacao_meses,modalidade_de_apoio,produto,             instrumento_financeiro,inovacao,area_operacional,setor_bndes,subsetor_bndes,             porte_do_cliente,natureza_do_cliente,tipo_de_garantia,situacao_do_contrato&limit=20000\n"
                    ]
                }
            ],
            "metadata": {}
        },
        {
            "cell_type": "code",
            "execution_count": 3,
            "source": [
                "### NOT USED ###\n",
                "## Get number of observations of the dataset.\n",
                "##try:\n",
                "  ##  data = requests.get(query)\n",
                "    #if data.json()['success'] == True:\n",
                "     #   limit = data.json()['result']['total']\n",
                "\n",
                "    #else:\n",
                "     #   print(data.json()['error'])\n",
                "#except:\n",
                " #   data.raise_for_status()\n",
                "# big_query = (f\"{query}&limit={limit}\")\n"
            ],
            "outputs": [],
            "metadata": {}
        },
        {
            "cell_type": "code",
            "execution_count": 4,
            "source": [
                "## Request dataset.\n",
                "try:\n",
                "    data = requests.get(query)\n",
                "    if data.json()['success'] == True:\n",
                "        df_fin = pd.DataFrame(data.json()['result']['records'])\n",
                "\n",
                "    else:\n",
                "        print(data.json()['error'])\n",
                "except:\n",
                "    data.raise_for_status()\n"
            ],
            "outputs": [],
            "metadata": {}
        },
        {
            "cell_type": "markdown",
            "source": [
                "# 3. Data wrangling - Transformando e mapeando os dados para análise.\n"
            ],
            "metadata": {}
        },
        {
            "cell_type": "markdown",
            "source": [
                "## 3.1 Explorando o dataset 'Operações não automáticas'"
            ],
            "metadata": {}
        },
        {
            "cell_type": "code",
            "execution_count": 5,
            "source": [
                "## Overview of the dataset.\n",
                "df_fin.head()"
            ],
            "outputs": [
                {
                    "output_type": "execute_result",
                    "data": {
                        "text/plain": [
                            "                                             cliente                cnpj  uf  \\\n",
                            "0  ELETROPAULO METROPOLITANA ELETRICIDADE DE SAO ...  61.695.227/0001-93  SP   \n",
                            "1                                VIDEOLAR-INNOVA S/A  04.229.761/0001-70  AM   \n",
                            "2                                VIDEOLAR-INNOVA S/A  04.229.761/0001-70  AM   \n",
                            "3                                VIDEOLAR-INNOVA S/A  04.229.761/0001-70  AM   \n",
                            "4                                    USINA CAETE S A  12.282.034/0001-03  AL   \n",
                            "\n",
                            "   data_da_contratacao  valor_contratado_reais  valor_desembolsado_reais  \\\n",
                            "0  2002-02-04T00:00:00            1.820297e+08              1.820297e+08   \n",
                            "1  2002-01-10T00:00:00            5.000000e+05              5.339624e+05   \n",
                            "2  2002-01-10T00:00:00            5.714000e+06              5.340896e+06   \n",
                            "3  2002-01-10T00:00:00            2.968000e+07              2.999406e+07   \n",
                            "4  2002-01-11T00:00:00            6.323444e+06              6.408000e+06   \n",
                            "\n",
                            "                        fonte_de_recurso_desembolsos custo_financeiro  juros  \\\n",
                            "0                          RECURSOS LIVRES - TESOURO        TAXA FIXA    1.0   \n",
                            "1  RECURSOS LIVRES - FAT / RECURSOS LIVRES - PRÓP...             TJLP    1.0   \n",
                            "2  RECURSOS LIVRES - FAT / RECURSOS LIVRES - PRÓP...      US$ / CESTA    4.5   \n",
                            "3  RECURSOS LIVRES - FAT / RECURSOS LIVRES - PRÓP...             TJLP    4.5   \n",
                            "4  RECURSOS LIVRES - PRÓPRIOS / RECURSOS VINCULAD...             TJLP    3.5   \n",
                            "\n",
                            "   prazo_carencia_meses  ...      produto instrumento_financeiro inovacao  \\\n",
                            "0                    63  ...  BNDES FINEM                 OUTROS      NÃO   \n",
                            "1                    24  ...  BNDES FINEM                 OUTROS      NÃO   \n",
                            "2                    12  ...  BNDES FINEM                 OUTROS      NÃO   \n",
                            "3                    12  ...  BNDES FINEM                 OUTROS      NÃO   \n",
                            "4                    30  ...  BNDES FINEM                 OUTROS      NÃO   \n",
                            "\n",
                            "               area_operacional     setor_bndes    subsetor_bndes  \\\n",
                            "0               AREA DE ENERGIA  INFRAESTRUTURA  ENERGIA ELÉTRICA   \n",
                            "1  AREA DE INDUSTRIA E SERVICOS       INDUSTRIA          MECÂNICA   \n",
                            "2  AREA DE INDUSTRIA E SERVICOS       INDUSTRIA          MECÂNICA   \n",
                            "3  AREA DE INDUSTRIA E SERVICOS       INDUSTRIA          MECÂNICA   \n",
                            "4  AREA DE INDUSTRIA E SERVICOS  INFRAESTRUTURA  ENERGIA ELÉTRICA   \n",
                            "\n",
                            "  porte_do_cliente   natureza_do_cliente tipo_de_garantia situacao_do_contrato  \n",
                            "0           GRANDE  PRIVADA                          REAL            LIQUIDADO  \n",
                            "1           GRANDE  PRIVADA                REAL / PESSOAL            LIQUIDADO  \n",
                            "2           GRANDE  PRIVADA                REAL / PESSOAL            LIQUIDADO  \n",
                            "3           GRANDE  PRIVADA                REAL / PESSOAL            LIQUIDADO  \n",
                            "4           GRANDE  PRIVADA                REAL / PESSOAL            LIQUIDADO  \n",
                            "\n",
                            "[5 rows x 22 columns]"
                        ],
                        "text/html": [
                            "<div>\n",
                            "<style scoped>\n",
                            "    .dataframe tbody tr th:only-of-type {\n",
                            "        vertical-align: middle;\n",
                            "    }\n",
                            "\n",
                            "    .dataframe tbody tr th {\n",
                            "        vertical-align: top;\n",
                            "    }\n",
                            "\n",
                            "    .dataframe thead th {\n",
                            "        text-align: right;\n",
                            "    }\n",
                            "</style>\n",
                            "<table border=\"1\" class=\"dataframe\">\n",
                            "  <thead>\n",
                            "    <tr style=\"text-align: right;\">\n",
                            "      <th></th>\n",
                            "      <th>cliente</th>\n",
                            "      <th>cnpj</th>\n",
                            "      <th>uf</th>\n",
                            "      <th>data_da_contratacao</th>\n",
                            "      <th>valor_contratado_reais</th>\n",
                            "      <th>valor_desembolsado_reais</th>\n",
                            "      <th>fonte_de_recurso_desembolsos</th>\n",
                            "      <th>custo_financeiro</th>\n",
                            "      <th>juros</th>\n",
                            "      <th>prazo_carencia_meses</th>\n",
                            "      <th>...</th>\n",
                            "      <th>produto</th>\n",
                            "      <th>instrumento_financeiro</th>\n",
                            "      <th>inovacao</th>\n",
                            "      <th>area_operacional</th>\n",
                            "      <th>setor_bndes</th>\n",
                            "      <th>subsetor_bndes</th>\n",
                            "      <th>porte_do_cliente</th>\n",
                            "      <th>natureza_do_cliente</th>\n",
                            "      <th>tipo_de_garantia</th>\n",
                            "      <th>situacao_do_contrato</th>\n",
                            "    </tr>\n",
                            "  </thead>\n",
                            "  <tbody>\n",
                            "    <tr>\n",
                            "      <th>0</th>\n",
                            "      <td>ELETROPAULO METROPOLITANA ELETRICIDADE DE SAO ...</td>\n",
                            "      <td>61.695.227/0001-93</td>\n",
                            "      <td>SP</td>\n",
                            "      <td>2002-02-04T00:00:00</td>\n",
                            "      <td>1.820297e+08</td>\n",
                            "      <td>1.820297e+08</td>\n",
                            "      <td>RECURSOS LIVRES - TESOURO</td>\n",
                            "      <td>TAXA FIXA</td>\n",
                            "      <td>1.0</td>\n",
                            "      <td>63</td>\n",
                            "      <td>...</td>\n",
                            "      <td>BNDES FINEM</td>\n",
                            "      <td>OUTROS</td>\n",
                            "      <td>NÃO</td>\n",
                            "      <td>AREA DE ENERGIA</td>\n",
                            "      <td>INFRAESTRUTURA</td>\n",
                            "      <td>ENERGIA ELÉTRICA</td>\n",
                            "      <td>GRANDE</td>\n",
                            "      <td>PRIVADA</td>\n",
                            "      <td>REAL</td>\n",
                            "      <td>LIQUIDADO</td>\n",
                            "    </tr>\n",
                            "    <tr>\n",
                            "      <th>1</th>\n",
                            "      <td>VIDEOLAR-INNOVA S/A</td>\n",
                            "      <td>04.229.761/0001-70</td>\n",
                            "      <td>AM</td>\n",
                            "      <td>2002-01-10T00:00:00</td>\n",
                            "      <td>5.000000e+05</td>\n",
                            "      <td>5.339624e+05</td>\n",
                            "      <td>RECURSOS LIVRES - FAT / RECURSOS LIVRES - PRÓP...</td>\n",
                            "      <td>TJLP</td>\n",
                            "      <td>1.0</td>\n",
                            "      <td>24</td>\n",
                            "      <td>...</td>\n",
                            "      <td>BNDES FINEM</td>\n",
                            "      <td>OUTROS</td>\n",
                            "      <td>NÃO</td>\n",
                            "      <td>AREA DE INDUSTRIA E SERVICOS</td>\n",
                            "      <td>INDUSTRIA</td>\n",
                            "      <td>MECÂNICA</td>\n",
                            "      <td>GRANDE</td>\n",
                            "      <td>PRIVADA</td>\n",
                            "      <td>REAL / PESSOAL</td>\n",
                            "      <td>LIQUIDADO</td>\n",
                            "    </tr>\n",
                            "    <tr>\n",
                            "      <th>2</th>\n",
                            "      <td>VIDEOLAR-INNOVA S/A</td>\n",
                            "      <td>04.229.761/0001-70</td>\n",
                            "      <td>AM</td>\n",
                            "      <td>2002-01-10T00:00:00</td>\n",
                            "      <td>5.714000e+06</td>\n",
                            "      <td>5.340896e+06</td>\n",
                            "      <td>RECURSOS LIVRES - FAT / RECURSOS LIVRES - PRÓP...</td>\n",
                            "      <td>US$ / CESTA</td>\n",
                            "      <td>4.5</td>\n",
                            "      <td>12</td>\n",
                            "      <td>...</td>\n",
                            "      <td>BNDES FINEM</td>\n",
                            "      <td>OUTROS</td>\n",
                            "      <td>NÃO</td>\n",
                            "      <td>AREA DE INDUSTRIA E SERVICOS</td>\n",
                            "      <td>INDUSTRIA</td>\n",
                            "      <td>MECÂNICA</td>\n",
                            "      <td>GRANDE</td>\n",
                            "      <td>PRIVADA</td>\n",
                            "      <td>REAL / PESSOAL</td>\n",
                            "      <td>LIQUIDADO</td>\n",
                            "    </tr>\n",
                            "    <tr>\n",
                            "      <th>3</th>\n",
                            "      <td>VIDEOLAR-INNOVA S/A</td>\n",
                            "      <td>04.229.761/0001-70</td>\n",
                            "      <td>AM</td>\n",
                            "      <td>2002-01-10T00:00:00</td>\n",
                            "      <td>2.968000e+07</td>\n",
                            "      <td>2.999406e+07</td>\n",
                            "      <td>RECURSOS LIVRES - FAT / RECURSOS LIVRES - PRÓP...</td>\n",
                            "      <td>TJLP</td>\n",
                            "      <td>4.5</td>\n",
                            "      <td>12</td>\n",
                            "      <td>...</td>\n",
                            "      <td>BNDES FINEM</td>\n",
                            "      <td>OUTROS</td>\n",
                            "      <td>NÃO</td>\n",
                            "      <td>AREA DE INDUSTRIA E SERVICOS</td>\n",
                            "      <td>INDUSTRIA</td>\n",
                            "      <td>MECÂNICA</td>\n",
                            "      <td>GRANDE</td>\n",
                            "      <td>PRIVADA</td>\n",
                            "      <td>REAL / PESSOAL</td>\n",
                            "      <td>LIQUIDADO</td>\n",
                            "    </tr>\n",
                            "    <tr>\n",
                            "      <th>4</th>\n",
                            "      <td>USINA CAETE S A</td>\n",
                            "      <td>12.282.034/0001-03</td>\n",
                            "      <td>AL</td>\n",
                            "      <td>2002-01-11T00:00:00</td>\n",
                            "      <td>6.323444e+06</td>\n",
                            "      <td>6.408000e+06</td>\n",
                            "      <td>RECURSOS LIVRES - PRÓPRIOS / RECURSOS VINCULAD...</td>\n",
                            "      <td>TJLP</td>\n",
                            "      <td>3.5</td>\n",
                            "      <td>30</td>\n",
                            "      <td>...</td>\n",
                            "      <td>BNDES FINEM</td>\n",
                            "      <td>OUTROS</td>\n",
                            "      <td>NÃO</td>\n",
                            "      <td>AREA DE INDUSTRIA E SERVICOS</td>\n",
                            "      <td>INFRAESTRUTURA</td>\n",
                            "      <td>ENERGIA ELÉTRICA</td>\n",
                            "      <td>GRANDE</td>\n",
                            "      <td>PRIVADA</td>\n",
                            "      <td>REAL / PESSOAL</td>\n",
                            "      <td>LIQUIDADO</td>\n",
                            "    </tr>\n",
                            "  </tbody>\n",
                            "</table>\n",
                            "<p>5 rows × 22 columns</p>\n",
                            "</div>"
                        ]
                    },
                    "metadata": {},
                    "execution_count": 5
                }
            ],
            "metadata": {}
        },
        {
            "cell_type": "code",
            "execution_count": 6,
            "source": [
                "## Dataset dimensions\n",
                "df_fin.shape"
            ],
            "outputs": [
                {
                    "output_type": "execute_result",
                    "data": {
                        "text/plain": [
                            "(15496, 22)"
                        ]
                    },
                    "metadata": {},
                    "execution_count": 6
                }
            ],
            "metadata": {}
        },
        {
            "cell_type": "code",
            "execution_count": 7,
            "source": [
                "## Veryfing duplicated records\n",
                "df_fin.duplicated().sum()"
            ],
            "outputs": [
                {
                    "output_type": "execute_result",
                    "data": {
                        "text/plain": [
                            "565"
                        ]
                    },
                    "metadata": {},
                    "execution_count": 7
                }
            ],
            "metadata": {}
        },
        {
            "cell_type": "code",
            "execution_count": 8,
            "source": [
                "## Veryfing NA's\n",
                "df_fin.isna().sum()"
            ],
            "outputs": [
                {
                    "output_type": "execute_result",
                    "data": {
                        "text/plain": [
                            "cliente                         0\n",
                            "cnpj                            0\n",
                            "uf                              0\n",
                            "data_da_contratacao             0\n",
                            "valor_contratado_reais          0\n",
                            "valor_desembolsado_reais        0\n",
                            "fonte_de_recurso_desembolsos    0\n",
                            "custo_financeiro                0\n",
                            "juros                           0\n",
                            "prazo_carencia_meses            0\n",
                            "prazo_amortizacao_meses         0\n",
                            "modalidade_de_apoio             0\n",
                            "produto                         0\n",
                            "instrumento_financeiro          0\n",
                            "inovacao                        0\n",
                            "area_operacional                0\n",
                            "setor_bndes                     0\n",
                            "subsetor_bndes                  0\n",
                            "porte_do_cliente                0\n",
                            "natureza_do_cliente             0\n",
                            "tipo_de_garantia                0\n",
                            "situacao_do_contrato            0\n",
                            "dtype: int64"
                        ]
                    },
                    "metadata": {},
                    "execution_count": 8
                }
            ],
            "metadata": {}
        },
        {
            "cell_type": "code",
            "execution_count": 9,
            "source": [
                "## Printing unique bndes sector\n",
                "print(df_fin['setor_bndes'].unique())\n",
                "\n",
                "## Printing unique bndes sub sector\n",
                "print(df_fin['subsetor_bndes'].unique())\n"
            ],
            "outputs": [
                {
                    "output_type": "stream",
                    "name": "stdout",
                    "text": [
                        "['INFRAESTRUTURA' 'INDUSTRIA' 'AGROPECUÁRIA']\n",
                        "['ENERGIA ELÉTRICA' 'MECÂNICA' 'MATERIAL DE TRANSPORTE' 'AGROPECUÁRIA'\n",
                        " 'OUTROS TRANSPORTES' 'TÊXTIL E VESTUÁRIO' 'OUTRAS' 'ALIMENTO E BEBIDA'\n",
                        " 'METALURGIA E PRODUTOS' 'CONSTRUÇÃO' 'QUÍMICA E PETROQUÍMICA'\n",
                        " 'TRANSPORTE RODOVIÁRIO' 'SERV. UTILIDADE PÚBLICA' 'ATV. AUX. TRANSPORTES'\n",
                        " 'EXTRATIVA' 'TRANSPORTE FERROVIÁRIO' 'CELULOSE E PAPEL'\n",
                        " 'TELECOMUNICAÇÕES']\n"
                    ]
                }
            ],
            "metadata": {}
        },
        {
            "cell_type": "code",
            "execution_count": 10,
            "source": [
                "## Subsectors of AGROPECUÁRIA\n",
                "df_fin.loc[df_fin['setor_bndes'] == 'AGROPECUÁRIA']['subsetor_bndes'].unique()"
            ],
            "outputs": [
                {
                    "output_type": "execute_result",
                    "data": {
                        "text/plain": [
                            "array(['AGROPECUÁRIA'], dtype=object)"
                        ]
                    },
                    "metadata": {},
                    "execution_count": 10
                }
            ],
            "metadata": {}
        },
        {
            "cell_type": "code",
            "execution_count": 11,
            "source": [
                "## Subsectors of INFRAESTRUTURA\n",
                "df_fin.loc[df_fin['setor_bndes'] == 'INFRAESTRUTURA']['subsetor_bndes'].unique()\n"
            ],
            "outputs": [
                {
                    "output_type": "execute_result",
                    "data": {
                        "text/plain": [
                            "array(['ENERGIA ELÉTRICA', 'OUTROS TRANSPORTES', 'CONSTRUÇÃO',\n",
                            "       'TRANSPORTE RODOVIÁRIO', 'SERV. UTILIDADE PÚBLICA',\n",
                            "       'ATV. AUX. TRANSPORTES', 'TRANSPORTE FERROVIÁRIO',\n",
                            "       'TELECOMUNICAÇÕES'], dtype=object)"
                        ]
                    },
                    "metadata": {},
                    "execution_count": 11
                }
            ],
            "metadata": {}
        },
        {
            "cell_type": "code",
            "execution_count": 12,
            "source": [
                "## Subsectors of INDUSTRIA\n",
                "df_fin.loc[df_fin['setor_bndes'] == 'INDUSTRIA']['subsetor_bndes'].unique()\n"
            ],
            "outputs": [
                {
                    "output_type": "execute_result",
                    "data": {
                        "text/plain": [
                            "array(['MECÂNICA', 'MATERIAL DE TRANSPORTE', 'TÊXTIL E VESTUÁRIO',\n",
                            "       'OUTRAS', 'ALIMENTO E BEBIDA', 'METALURGIA E PRODUTOS',\n",
                            "       'QUÍMICA E PETROQUÍMICA', 'EXTRATIVA', 'CELULOSE E PAPEL'],\n",
                            "      dtype=object)"
                        ]
                    },
                    "metadata": {},
                    "execution_count": 12
                }
            ],
            "metadata": {}
        },
        {
            "cell_type": "markdown",
            "source": [
                "## 3.2 Padronizando a formatação dos dados"
            ],
            "metadata": {}
        },
        {
            "cell_type": "code",
            "execution_count": 13,
            "source": [
                "# Indexing a new column with year format\n",
                "df_fin['ano'] = pd.to_datetime(df_fin['data_da_contratacao'])\n",
                "df_fin['ano'] = pd.DatetimeIndex(df_fin['ano']).year"
            ],
            "outputs": [],
            "metadata": {}
        },
        {
            "cell_type": "code",
            "execution_count": 14,
            "source": [
                "## Strip setor and subsetor BNDES from special characters\n",
                "df_fin['setor_bndes'] = strip_upper(df_fin['setor_bndes'].tolist(),'')\n",
                "df_fin['subsetor_bndes'] = strip_upper(df_fin['subsetor_bndes'].tolist(), '')\n",
                "\n",
                "## Printing unique bndes sector\n",
                "print(df_fin['setor_bndes'].unique())\n",
                "\n",
                "## Printing unique bndes sub sector\n",
                "print(df_fin['subsetor_bndes'].unique())"
            ],
            "outputs": [
                {
                    "output_type": "stream",
                    "name": "stdout",
                    "text": [
                        "['INFRAESTRUTURA' 'INDUSTRIA' 'AGROPECUARIA']\n",
                        "['ENERGIA ELETRICA' 'MECANICA' 'MATERIAL DE TRANSPORTE' 'AGROPECUARIA'\n",
                        " 'OUTROS TRANSPORTES' 'TEXTIL E VESTUARIO' 'OUTRAS' 'ALIMENTO E BEBIDA'\n",
                        " 'METALURGIA E PRODUTOS' 'CONSTRUCAO' 'QUIMICA E PETROQUIMICA'\n",
                        " 'TRANSPORTE RODOVIARIO' 'SERV. UTILIDADE PUBLICA' 'ATV. AUX. TRANSPORTES'\n",
                        " 'EXTRATIVA' 'TRANSPORTE FERROVIARIO' 'CELULOSE E PAPEL'\n",
                        " 'TELECOMUNICACOES']\n"
                    ]
                }
            ],
            "metadata": {}
        },
        {
            "cell_type": "markdown",
            "source": [
                "## 3.3 - Adicionando bases externas: CAGED, SEEG e PIB (ano/uf/setor)"
            ],
            "metadata": {}
        },
        {
            "cell_type": "code",
            "execution_count": 15,
            "source": [
                "## Loading datasets.\n",
                "caged = pd.read_csv('bases-auxiliares/CAGED-ajustado.csv')\n",
                "seeg_emissao = pd.read_csv('bases-auxiliares/SEEG-emissao-ajustado.csv')\n",
                "pib_ind = pd.read_csv('bases-auxiliares/PIB-IND.csv')\n",
                "pib_agro = pd.read_csv('bases-auxiliares/PIB-agro.csv')\n"
            ],
            "outputs": [],
            "metadata": {}
        },
        {
            "cell_type": "code",
            "execution_count": 16,
            "source": [
                "## Append number of employees from CAGED dataset, segmented by company_size/sector/uf/ano\n",
                "df_fin = map_values_caged(df_fin, caged, 'setor_bndes', 'num_empregados')"
            ],
            "outputs": [],
            "metadata": {}
        },
        {
            "cell_type": "code",
            "execution_count": 17,
            "source": [
                "## Append Co2 emissions information from SEEG dataset, segmented by sector/uf/ano\n",
                "df_fin = map_values_general(df_fin, seeg_emissao, 'setor_bndes', 'emissao_co2')"
            ],
            "outputs": [],
            "metadata": {}
        },
        {
            "cell_type": "code",
            "execution_count": 18,
            "source": [
                "## Set columns to drop from PIB datasets\n",
                "col_drops = ['Código', 'Estado']\n",
                "\n",
                "## Change PIB datasets structure to match our project standards\n",
                "pib_agro = melt_pib(pib_agro, col_drops, 'AGROPECUARIA')\n",
                "pib_ind = melt_pib(pib_ind, col_drops, 'INDUSTRIA')"
            ],
            "outputs": [],
            "metadata": {}
        },
        {
            "cell_type": "code",
            "execution_count": 19,
            "source": [
                "## Append PIB datasets\n",
                "pib = pd.concat([pib_agro, pib_ind], axis = 0, ignore_index = True)\n",
                "print(pib.shape)\n",
                "print(pib.head())\n",
                "print(pib['setor'].unique())"
            ],
            "outputs": [
                {
                    "output_type": "stream",
                    "name": "stdout",
                    "text": [
                        "(864, 4)\n",
                        "   uf   ano         setor           pib\n",
                        "0  AC  2002  AGROPECUARIA  5.401684e+05\n",
                        "1  AL  2002  AGROPECUARIA  4.700566e+06\n",
                        "2  AM  2002  AGROPECUARIA  2.354165e+06\n",
                        "3  AP  2002  AGROPECUARIA  7.825019e+04\n",
                        "4  BA  2002  AGROPECUARIA  1.256136e+07\n",
                        "['AGROPECUARIA' 'INDUSTRIA']\n"
                    ]
                }
            ],
            "metadata": {}
        },
        {
            "cell_type": "code",
            "execution_count": 20,
            "source": [
                "## Set format to numeric\n",
                "pib['ano'] = pd.to_numeric(pib['ano'])"
            ],
            "outputs": [],
            "metadata": {}
        },
        {
            "cell_type": "code",
            "execution_count": 21,
            "source": [
                "## Append PIB information, segmented by sector/uf/ano\n",
                "df_fin = map_values_general(df_fin, pib, 'setor_bndes', 'pib')"
            ],
            "outputs": [],
            "metadata": {}
        },
        {
            "cell_type": "code",
            "execution_count": 23,
            "source": [
                "## Round numeric values\n",
                "toRound = ['valor_contratado_reais', 'valor_desembolsado_reais', 'num_empregados', 'emissao_co2', 'pib']\n",
                "df_fin[toRound] = df_fin[toRound].round(1)"
            ],
            "outputs": [],
            "metadata": {}
        },
        {
            "cell_type": "code",
            "execution_count": 24,
            "source": [
                "## Exporting integrated dataset\n",
                "df_fin.to_csv('bases-auxiliares/operacoes-integrado.csv',\n",
                "              index=False, header=True)\n"
            ],
            "outputs": [],
            "metadata": {}
        },
        {
            "cell_type": "markdown",
            "source": [
                "## 3.4 - Agrupamento\n",
                "A granularidade dos dados colhidos está no nível de ano - uf - setor_bndes e porte do cliente. Devido a isso, nesta etapa o dataset será agrupado para representar este formato e permitir análises estatísticas nesses níveis."
            ],
            "metadata": {}
        },
        {
            "cell_type": "markdown",
            "source": [
                "### 3.4.1 - Agrupamento para os dados CAGED\n",
                "Os dados do CAGED tem um nível de granularidade maior do que os dados do SEEG e do PIB, devido a presença da segmentação por porte do cliente. Devido a isso, o primeiro agrupamento será para este formato."
            ],
            "metadata": {}
        },
        {
            "cell_type": "code",
            "execution_count": 25,
            "source": [
                "## Drop columns with higher segmentation levels\n",
                "drop_cols = ['cliente', 'cnpj', 'data_da_contratacao', 'fonte_de_recurso_desembolsos',\n",
                "                'custo_financeiro', 'modalidade_de_apoio', 'produto', 'instrumento_financeiro',\n",
                "                'inovacao', 'area_operacional', 'subsetor_bndes', 'natureza_do_cliente', 'tipo_de_garantia',\n",
                "                'situacao_do_contrato']\n",
                "df_fin.drop(drop_cols, axis=1, inplace=True)\n"
            ],
            "outputs": [],
            "metadata": {}
        },
        {
            "cell_type": "code",
            "execution_count": 26,
            "source": [
                "## Group dataset with mean values and by uf, setor_bndes, porte_do_cliente and ano\n",
                "df_grouped = df_fin.groupby(['uf', 'setor_bndes', 'porte_do_cliente', 'ano'], as_index=False).agg(\n",
                "    {'valor_contratado_reais': ['mean'], 'valor_desembolsado_reais': ['mean'],\n",
                "    'juros': ['mean'], 'prazo_carencia_meses': ['mean'], 'prazo_amortizacao_meses': ['mean'],\n",
                "    'num_empregados': ['mean'], 'emissao_co2': ['mean'], 'pib': ['mean']})"
            ],
            "outputs": [],
            "metadata": {}
        },
        {
            "cell_type": "code",
            "execution_count": 27,
            "source": [
                "## Melt multi index from pandas\n",
                "df_grouped.columns = list(map(''.join, df_grouped.columns.values))"
            ],
            "outputs": [],
            "metadata": {}
        },
        {
            "cell_type": "code",
            "execution_count": 28,
            "source": [
                "## Rename columns\n",
                "df_grouped.columns = ['uf', 'setor_bndes', 'porte_do_cliente', 'ano', 'mean_valor_contratado_reais',\n",
                "                 'mean_valor_desembolsado_reais', 'mean_juros', 'mean_prazo_carencia_meses', \n",
                "                 'mean_prazo_amortizacao_meses','mean_num_empregados', 'mean_emissao_co2', 'mean_pib']\n"
            ],
            "outputs": [],
            "metadata": {}
        },
        {
            "cell_type": "code",
            "execution_count": 30,
            "source": [
                "## Round numeric values\n",
                "toRound = ['mean_valor_contratado_reais','mean_valor_desembolsado_reais', 'mean_juros',\n",
                "            'mean_prazo_carencia_meses', 'mean_prazo_amortizacao_meses', 'mean_num_empregados',\n",
                "            'mean_emissao_co2', 'mean_pib']\n",
                "df_grouped[toRound] = df_grouped[toRound].round(1)\n"
            ],
            "outputs": [],
            "metadata": {}
        },
        {
            "cell_type": "code",
            "execution_count": 31,
            "source": [
                "## Exporting integrated dataset\n",
                "df_grouped.to_csv('bases-auxiliares/operacoes-grouped-n1.csv',\n",
                "              index=False, header=True)"
            ],
            "outputs": [],
            "metadata": {}
        },
        {
            "cell_type": "markdown",
            "source": [
                "### 3.4.2 - Agrupamento para os dados SEEG - PIB"
            ],
            "metadata": {}
        },
        {
            "cell_type": "code",
            "execution_count": 32,
            "source": [
                "## Drop porte_do_cliente\n",
                "df_fin.drop('porte_do_cliente', axis = 1, inplace = True)"
            ],
            "outputs": [],
            "metadata": {}
        },
        {
            "cell_type": "code",
            "execution_count": 33,
            "source": [
                "## Group dataset with mean values and by uf, setor_bndes, ano\n",
                "df_grouped = df_fin.groupby(['uf', 'setor_bndes', 'ano'], as_index=False).agg(\n",
                "    {'valor_contratado_reais': ['mean'], 'valor_desembolsado_reais': ['mean'],\n",
                "     'juros': ['mean'], 'prazo_carencia_meses': ['mean'], 'prazo_amortizacao_meses': ['mean'],\n",
                "     'num_empregados': ['mean'], 'emissao_co2': ['mean'], 'pib': ['mean']})"
            ],
            "outputs": [],
            "metadata": {}
        },
        {
            "cell_type": "code",
            "execution_count": 34,
            "source": [
                "## Melt multi index from pandas\n",
                "df_grouped.columns = list(map(''.join, df_grouped.columns.values))"
            ],
            "outputs": [],
            "metadata": {}
        },
        {
            "cell_type": "code",
            "execution_count": 36,
            "source": [
                "## Rename columns\n",
                "df_grouped.columns = ['uf', 'setor_bndes', 'ano', 'mean_valor_contratado_reais',\n",
                "                      'mean_valor_desembolsado_reais', 'mean_juros', 'mean_prazo_carencia_meses',\n",
                "                      'mean_prazo_amortizacao_meses', 'mean_num_empregados', 'mean_emissao_co2', 'mean_pib']"
            ],
            "outputs": [],
            "metadata": {}
        },
        {
            "cell_type": "code",
            "execution_count": 37,
            "source": [
                "## Round numeric values\n",
                "toRound = ['mean_valor_contratado_reais', 'mean_valor_desembolsado_reais', 'mean_juros',\n",
                "           'mean_prazo_carencia_meses', 'mean_prazo_amortizacao_meses', 'mean_num_empregados',\n",
                "           'mean_emissao_co2', 'mean_pib']\n",
                "df_grouped[toRound] = df_grouped[toRound].round(1)"
            ],
            "outputs": [],
            "metadata": {}
        },
        {
            "cell_type": "code",
            "execution_count": 39,
            "source": [
                "## Exporting integrated dataset\n",
                "df_grouped.to_csv('bases-auxiliares/operacoes-grouped-n2.csv',\n",
                "                  index=False, header=True)"
            ],
            "outputs": [],
            "metadata": {}
        }
    ],
    "metadata": {
        "orig_nbformat": 4,
        "language_info": {
            "name": "python",
            "version": "3.9.6",
            "mimetype": "text/x-python",
            "codemirror_mode": {
                "name": "ipython",
                "version": 3
            },
            "pygments_lexer": "ipython3",
            "nbconvert_exporter": "python",
            "file_extension": ".py"
        },
        "kernelspec": {
            "name": "python3",
            "display_name": "Python 3.9.6 64-bit ('dados-abertos': venv)"
        },
        "interpreter": {
            "hash": "1d941c93d37f459bccd78a691d83d4424a13868c9a91f8dd5dc1bbe19462440e"
        }
    },
    "nbformat": 4,
    "nbformat_minor": 2
}