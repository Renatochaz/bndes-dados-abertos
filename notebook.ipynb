{
    "cells": [
        {
            "cell_type": "markdown",
            "source": [
                "# 1. Descrição do problema de negócio\n",
                ".."
            ],
            "metadata": {}
        },
        {
            "cell_type": "markdown",
            "source": [
                "# 2. Carregando dados"
            ],
            "metadata": {}
        },
        {
            "cell_type": "markdown",
            "source": [
                "## 2.1 Importando dependências\n",
                "\n",
                "Importando as bibliotecas necessárias para as etapas inicias de carregamento de dados, exploração e transformação."
            ],
            "metadata": {}
        },
        {
            "cell_type": "code",
            "execution_count": 8,
            "source": [
                "## Load dependencies.\n",
                "import pandas as pd\n",
                "import json\n",
                "import requests\n",
                "import numpy as np"
            ],
            "outputs": [],
            "metadata": {}
        },
        {
            "cell_type": "markdown",
            "source": [
                "## 2.1 Carregando dados através da API CKAN."
            ],
            "metadata": {}
        },
        {
            "cell_type": "markdown",
            "source": [
                "A base de dados carregada aqui é referente as operações de financiamento não automáticas dos dados abertos do BNDES."
            ],
            "metadata": {}
        },
        {
            "cell_type": "code",
            "execution_count": 3,
            "source": [
                "## Define resource identifier and server to create our URL string for an API request.\n",
                "res_id = '332d446e-d340-46ef-af64-ee6f36e7bd50' ## Operações de financiamento não automáticas.\n",
                "server = 'https://dadosabertos.bndes.gov.br'\n",
                "query = (f\"{server}/api/3/action/datastore_search?resource_id={res_id}\")\n",
                "\n",
                "print('Url para consulta:', query)\n"
            ],
            "outputs": [
                {
                    "output_type": "stream",
                    "name": "stdout",
                    "text": [
                        "Url para consulta: https://dadosabertos.bndes.gov.br/api/3/action/datastore_search?resource_id=332d446e-d340-46ef-af64-ee6f36e7bd50\n"
                    ]
                }
            ],
            "metadata": {}
        },
        {
            "cell_type": "code",
            "execution_count": 4,
            "source": [
                "## Get number of observations of the dataset.\n",
                "try:\n",
                "    data = requests.get(query)\n",
                "    if data.json()['success'] == True:\n",
                "        limit = data.json()['result']['total']\n",
                "\n",
                "    else:\n",
                "        print(data.json()['error'])\n",
                "except:\n",
                "    data.raise_for_status()\n"
            ],
            "outputs": [],
            "metadata": {}
        },
        {
            "cell_type": "code",
            "execution_count": 5,
            "source": [
                "## Use limit to request a single batch for the full dataset.\n",
                "big_query = (f\"{query}&limit={limit}\")\n",
                "try:\n",
                "    data = requests.get(big_query)\n",
                "    if data.json()['success'] == True:\n",
                "        df_fin = pd.DataFrame(data.json()['result']['records'])\n",
                "\n",
                "    else:\n",
                "        print(data.json()['error'])\n",
                "except:\n",
                "    data.raise_for_status()\n"
            ],
            "outputs": [],
            "metadata": {}
        },
        {
            "cell_type": "markdown",
            "source": [
                "# 3. Data wrangling - Transformando e mapeando os dados para análise.\n"
            ],
            "metadata": {}
        },
        {
            "cell_type": "markdown",
            "source": [
                "## 3.1 Explorando o dataset 'Operações não automáticas'"
            ],
            "metadata": {}
        },
        {
            "cell_type": "code",
            "execution_count": 5,
            "source": [
                "## Return variables definition.\n",
                "data.json()['result']['fields']\n"
            ],
            "outputs": [
                {
                    "output_type": "execute_result",
                    "data": {
                        "text/plain": [
                            "[{'type': 'int', 'id': '_id'},\n",
                            " {'type': 'text', 'id': 'cliente'},\n",
                            " {'type': 'text', 'id': 'cnpj'},\n",
                            " {'type': 'text', 'id': 'descricao_do_projeto'},\n",
                            " {'type': 'text', 'id': 'uf'},\n",
                            " {'type': 'text', 'id': 'municipio'},\n",
                            " {'type': 'numeric', 'id': 'municipio_codigo'},\n",
                            " {'type': 'numeric', 'id': 'numero_do_contrato'},\n",
                            " {'type': 'timestamp', 'id': 'data_da_contratacao'},\n",
                            " {'type': 'numeric', 'id': 'valor_contratado_reais'},\n",
                            " {'type': 'numeric', 'id': 'valor_desembolsado_reais'},\n",
                            " {'type': 'text', 'id': 'fonte_de_recurso_desembolsos'},\n",
                            " {'type': 'text', 'id': 'custo_financeiro'},\n",
                            " {'type': 'numeric', 'id': 'juros'},\n",
                            " {'type': 'numeric', 'id': 'prazo_carencia_meses'},\n",
                            " {'type': 'numeric', 'id': 'prazo_amortizacao_meses'},\n",
                            " {'type': 'text', 'id': 'modalidade_de_apoio'},\n",
                            " {'type': 'text', 'id': 'forma_de_apoio'},\n",
                            " {'type': 'text', 'id': 'produto'},\n",
                            " {'type': 'text', 'id': 'instrumento_financeiro'},\n",
                            " {'type': 'text', 'id': 'inovacao'},\n",
                            " {'type': 'text', 'id': 'area_operacional'},\n",
                            " {'type': 'text', 'id': 'setor_cnae'},\n",
                            " {'type': 'text', 'id': 'subsetor_cnae_agrupado'},\n",
                            " {'type': 'text', 'id': 'subsetor_cnae_codigo'},\n",
                            " {'type': 'text', 'id': 'subsetor_cnae_nome'},\n",
                            " {'type': 'text', 'id': 'setor_bndes'},\n",
                            " {'type': 'text', 'id': 'subsetor_bndes'},\n",
                            " {'type': 'text', 'id': 'porte_do_cliente'},\n",
                            " {'type': 'text', 'id': 'natureza_do_cliente'},\n",
                            " {'type': 'text', 'id': 'instituicao_financeira_credenciada'},\n",
                            " {'type': 'text', 'id': 'cnpj_da_instituicao_financeira_credenciada'},\n",
                            " {'type': 'text', 'id': 'tipo_de_garantia'},\n",
                            " {'type': 'timestamp', 'id': 'tipo_de_excepcionalidade'},\n",
                            " {'type': 'text', 'id': 'situacao_do_contrato'}]"
                        ]
                    },
                    "metadata": {},
                    "execution_count": 5
                }
            ],
            "metadata": {}
        },
        {
            "cell_type": "code",
            "execution_count": 6,
            "source": [
                "## Overview of the dataset.\n",
                "df_fin.head()"
            ],
            "outputs": [
                {
                    "output_type": "execute_result",
                    "data": {
                        "text/plain": [
                            "   _id                                            cliente                cnpj  \\\n",
                            "0    1                        MUNICIPIO DE RIBEIRAO PRETO  56.024.581/0001-56   \n",
                            "1    2  INSTITUTO DE DESENVOLVIMENTO SUSTENTAVEL DO BA...  02.275.306/0001-86   \n",
                            "2    3  INSTITUTO DE DESENVOLVIMENTO SUSTENTAVEL DO BA...  02.275.306/0001-86   \n",
                            "3    4  INSTITUTO DE DESENVOLVIMENTO SUSTENTAVEL DO BA...  02.275.306/0001-86   \n",
                            "4   39  ELETROPAULO METROPOLITANA ELETRICIDADE DE SAO ...  61.695.227/0001-93   \n",
                            "\n",
                            "                                descricao_do_projeto  uf       municipio  \\\n",
                            "0  PROGRAMA DE MODERNIZACAO DA ADMINISTRACAO TRIB...  SP  RIBEIRAO PRETO   \n",
                            "1  PROJETO DIREITO E CIDADANIA; PROJETO DEMONSTRA...  BA         ITUBERA   \n",
                            "2  PROJETO DIREITO E CIDADANIA; PROJETO DEMONSTRA...  BA         ITUBERA   \n",
                            "3  PROJETO DIREITO E CIDADANIA; PROJETO DEMONSTRA...  BA         ITUBERA   \n",
                            "4  SUPRIR PARTE DAS INSUFICIENCIAS DE RECURSOS DA...  SP   SEM MUNICÍPIO   \n",
                            "\n",
                            "   municipio_codigo  numero_do_contrato  data_da_contratacao  \\\n",
                            "0           3543402             1247021  2002-01-02T00:00:00   \n",
                            "1           2917300             1247221  2002-01-03T00:00:00   \n",
                            "2           2917300             1247221  2002-01-03T00:00:00   \n",
                            "3           2917300             1247221  2002-01-03T00:00:00   \n",
                            "4           9999999             2204531  2002-02-04T00:00:00   \n",
                            "\n",
                            "   valor_contratado_reais  ...  \\\n",
                            "0            9.090000e+06  ...   \n",
                            "1            7.066000e+05  ...   \n",
                            "2            7.569159e+04  ...   \n",
                            "3            6.039814e+05  ...   \n",
                            "4            1.820297e+08  ...   \n",
                            "\n",
                            "                                  subsetor_cnae_nome        setor_bndes  \\\n",
                            "0  ADMINISTRACAO PUBLICA EM GERAL                ...  COMERCIO/SERVICOS   \n",
                            "1  ATIV ATENCAO A SAUDE HUMANA INTEGR C/ASSIST SO...  COMERCIO/SERVICOS   \n",
                            "2  ATIV ATENCAO A SAUDE HUMANA INTEGR C/ASSIST SO...  COMERCIO/SERVICOS   \n",
                            "3  ATIV ATENCAO A SAUDE HUMANA INTEGR C/ASSIST SO...  COMERCIO/SERVICOS   \n",
                            "4  DISTRIBUICAO DE ENERGIA ELETRICA              ...     INFRAESTRUTURA   \n",
                            "\n",
                            "        subsetor_bndes  porte_do_cliente  \\\n",
                            "0  COMÉRCIO E SERVIÇOS            GRANDE   \n",
                            "1  COMÉRCIO E SERVIÇOS             MICRO   \n",
                            "2  COMÉRCIO E SERVIÇOS             MICRO   \n",
                            "3  COMÉRCIO E SERVIÇOS             MICRO   \n",
                            "4     ENERGIA ELÉTRICA            GRANDE   \n",
                            "\n",
                            "                                natureza_do_cliente  \\\n",
                            "0  ADMINISTRAÇÃO PÚBLICA DIRETA - GOVERNO MUNICIPAL   \n",
                            "1                              PRIVADA                \n",
                            "2                              PRIVADA                \n",
                            "3                              PRIVADA                \n",
                            "4                              PRIVADA                \n",
                            "\n",
                            "   instituicao_financeira_credenciada  \\\n",
                            "0                          ----------   \n",
                            "1                          ----------   \n",
                            "2                          ----------   \n",
                            "3                          ----------   \n",
                            "4                          ----------   \n",
                            "\n",
                            "  cnpj_da_instituicao_financeira_credenciada  \\\n",
                            "0                                 ----------   \n",
                            "1                                 ----------   \n",
                            "2                                 ----------   \n",
                            "3                                 ----------   \n",
                            "4                                 ----------   \n",
                            "\n",
                            "                         tipo_de_garantia tipo_de_excepcionalidade  \\\n",
                            "0  OUTRA, DE NATUREZA ESPECÍFICA OU MISTA      2021-07-29T00:00:00   \n",
                            "1                           NÃO SE APLICA      2021-07-29T00:00:00   \n",
                            "2                           NÃO SE APLICA      2021-07-29T00:00:00   \n",
                            "3                           NÃO SE APLICA      2021-07-29T00:00:00   \n",
                            "4                                    REAL      2021-07-29T00:00:00   \n",
                            "\n",
                            "  situacao_do_contrato  \n",
                            "0            LIQUIDADO  \n",
                            "1            LIQUIDADO  \n",
                            "2            LIQUIDADO  \n",
                            "3            LIQUIDADO  \n",
                            "4            LIQUIDADO  \n",
                            "\n",
                            "[5 rows x 35 columns]"
                        ],
                        "text/html": [
                            "<div>\n",
                            "<style scoped>\n",
                            "    .dataframe tbody tr th:only-of-type {\n",
                            "        vertical-align: middle;\n",
                            "    }\n",
                            "\n",
                            "    .dataframe tbody tr th {\n",
                            "        vertical-align: top;\n",
                            "    }\n",
                            "\n",
                            "    .dataframe thead th {\n",
                            "        text-align: right;\n",
                            "    }\n",
                            "</style>\n",
                            "<table border=\"1\" class=\"dataframe\">\n",
                            "  <thead>\n",
                            "    <tr style=\"text-align: right;\">\n",
                            "      <th></th>\n",
                            "      <th>_id</th>\n",
                            "      <th>cliente</th>\n",
                            "      <th>cnpj</th>\n",
                            "      <th>descricao_do_projeto</th>\n",
                            "      <th>uf</th>\n",
                            "      <th>municipio</th>\n",
                            "      <th>municipio_codigo</th>\n",
                            "      <th>numero_do_contrato</th>\n",
                            "      <th>data_da_contratacao</th>\n",
                            "      <th>valor_contratado_reais</th>\n",
                            "      <th>...</th>\n",
                            "      <th>subsetor_cnae_nome</th>\n",
                            "      <th>setor_bndes</th>\n",
                            "      <th>subsetor_bndes</th>\n",
                            "      <th>porte_do_cliente</th>\n",
                            "      <th>natureza_do_cliente</th>\n",
                            "      <th>instituicao_financeira_credenciada</th>\n",
                            "      <th>cnpj_da_instituicao_financeira_credenciada</th>\n",
                            "      <th>tipo_de_garantia</th>\n",
                            "      <th>tipo_de_excepcionalidade</th>\n",
                            "      <th>situacao_do_contrato</th>\n",
                            "    </tr>\n",
                            "  </thead>\n",
                            "  <tbody>\n",
                            "    <tr>\n",
                            "      <th>0</th>\n",
                            "      <td>1</td>\n",
                            "      <td>MUNICIPIO DE RIBEIRAO PRETO</td>\n",
                            "      <td>56.024.581/0001-56</td>\n",
                            "      <td>PROGRAMA DE MODERNIZACAO DA ADMINISTRACAO TRIB...</td>\n",
                            "      <td>SP</td>\n",
                            "      <td>RIBEIRAO PRETO</td>\n",
                            "      <td>3543402</td>\n",
                            "      <td>1247021</td>\n",
                            "      <td>2002-01-02T00:00:00</td>\n",
                            "      <td>9.090000e+06</td>\n",
                            "      <td>...</td>\n",
                            "      <td>ADMINISTRACAO PUBLICA EM GERAL                ...</td>\n",
                            "      <td>COMERCIO/SERVICOS</td>\n",
                            "      <td>COMÉRCIO E SERVIÇOS</td>\n",
                            "      <td>GRANDE</td>\n",
                            "      <td>ADMINISTRAÇÃO PÚBLICA DIRETA - GOVERNO MUNICIPAL</td>\n",
                            "      <td>----------</td>\n",
                            "      <td>----------</td>\n",
                            "      <td>OUTRA, DE NATUREZA ESPECÍFICA OU MISTA</td>\n",
                            "      <td>2021-07-29T00:00:00</td>\n",
                            "      <td>LIQUIDADO</td>\n",
                            "    </tr>\n",
                            "    <tr>\n",
                            "      <th>1</th>\n",
                            "      <td>2</td>\n",
                            "      <td>INSTITUTO DE DESENVOLVIMENTO SUSTENTAVEL DO BA...</td>\n",
                            "      <td>02.275.306/0001-86</td>\n",
                            "      <td>PROJETO DIREITO E CIDADANIA; PROJETO DEMONSTRA...</td>\n",
                            "      <td>BA</td>\n",
                            "      <td>ITUBERA</td>\n",
                            "      <td>2917300</td>\n",
                            "      <td>1247221</td>\n",
                            "      <td>2002-01-03T00:00:00</td>\n",
                            "      <td>7.066000e+05</td>\n",
                            "      <td>...</td>\n",
                            "      <td>ATIV ATENCAO A SAUDE HUMANA INTEGR C/ASSIST SO...</td>\n",
                            "      <td>COMERCIO/SERVICOS</td>\n",
                            "      <td>COMÉRCIO E SERVIÇOS</td>\n",
                            "      <td>MICRO</td>\n",
                            "      <td>PRIVADA</td>\n",
                            "      <td>----------</td>\n",
                            "      <td>----------</td>\n",
                            "      <td>NÃO SE APLICA</td>\n",
                            "      <td>2021-07-29T00:00:00</td>\n",
                            "      <td>LIQUIDADO</td>\n",
                            "    </tr>\n",
                            "    <tr>\n",
                            "      <th>2</th>\n",
                            "      <td>3</td>\n",
                            "      <td>INSTITUTO DE DESENVOLVIMENTO SUSTENTAVEL DO BA...</td>\n",
                            "      <td>02.275.306/0001-86</td>\n",
                            "      <td>PROJETO DIREITO E CIDADANIA; PROJETO DEMONSTRA...</td>\n",
                            "      <td>BA</td>\n",
                            "      <td>ITUBERA</td>\n",
                            "      <td>2917300</td>\n",
                            "      <td>1247221</td>\n",
                            "      <td>2002-01-03T00:00:00</td>\n",
                            "      <td>7.569159e+04</td>\n",
                            "      <td>...</td>\n",
                            "      <td>ATIV ATENCAO A SAUDE HUMANA INTEGR C/ASSIST SO...</td>\n",
                            "      <td>COMERCIO/SERVICOS</td>\n",
                            "      <td>COMÉRCIO E SERVIÇOS</td>\n",
                            "      <td>MICRO</td>\n",
                            "      <td>PRIVADA</td>\n",
                            "      <td>----------</td>\n",
                            "      <td>----------</td>\n",
                            "      <td>NÃO SE APLICA</td>\n",
                            "      <td>2021-07-29T00:00:00</td>\n",
                            "      <td>LIQUIDADO</td>\n",
                            "    </tr>\n",
                            "    <tr>\n",
                            "      <th>3</th>\n",
                            "      <td>4</td>\n",
                            "      <td>INSTITUTO DE DESENVOLVIMENTO SUSTENTAVEL DO BA...</td>\n",
                            "      <td>02.275.306/0001-86</td>\n",
                            "      <td>PROJETO DIREITO E CIDADANIA; PROJETO DEMONSTRA...</td>\n",
                            "      <td>BA</td>\n",
                            "      <td>ITUBERA</td>\n",
                            "      <td>2917300</td>\n",
                            "      <td>1247221</td>\n",
                            "      <td>2002-01-03T00:00:00</td>\n",
                            "      <td>6.039814e+05</td>\n",
                            "      <td>...</td>\n",
                            "      <td>ATIV ATENCAO A SAUDE HUMANA INTEGR C/ASSIST SO...</td>\n",
                            "      <td>COMERCIO/SERVICOS</td>\n",
                            "      <td>COMÉRCIO E SERVIÇOS</td>\n",
                            "      <td>MICRO</td>\n",
                            "      <td>PRIVADA</td>\n",
                            "      <td>----------</td>\n",
                            "      <td>----------</td>\n",
                            "      <td>NÃO SE APLICA</td>\n",
                            "      <td>2021-07-29T00:00:00</td>\n",
                            "      <td>LIQUIDADO</td>\n",
                            "    </tr>\n",
                            "    <tr>\n",
                            "      <th>4</th>\n",
                            "      <td>39</td>\n",
                            "      <td>ELETROPAULO METROPOLITANA ELETRICIDADE DE SAO ...</td>\n",
                            "      <td>61.695.227/0001-93</td>\n",
                            "      <td>SUPRIR PARTE DAS INSUFICIENCIAS DE RECURSOS DA...</td>\n",
                            "      <td>SP</td>\n",
                            "      <td>SEM MUNICÍPIO</td>\n",
                            "      <td>9999999</td>\n",
                            "      <td>2204531</td>\n",
                            "      <td>2002-02-04T00:00:00</td>\n",
                            "      <td>1.820297e+08</td>\n",
                            "      <td>...</td>\n",
                            "      <td>DISTRIBUICAO DE ENERGIA ELETRICA              ...</td>\n",
                            "      <td>INFRAESTRUTURA</td>\n",
                            "      <td>ENERGIA ELÉTRICA</td>\n",
                            "      <td>GRANDE</td>\n",
                            "      <td>PRIVADA</td>\n",
                            "      <td>----------</td>\n",
                            "      <td>----------</td>\n",
                            "      <td>REAL</td>\n",
                            "      <td>2021-07-29T00:00:00</td>\n",
                            "      <td>LIQUIDADO</td>\n",
                            "    </tr>\n",
                            "  </tbody>\n",
                            "</table>\n",
                            "<p>5 rows × 35 columns</p>\n",
                            "</div>"
                        ]
                    },
                    "metadata": {},
                    "execution_count": 6
                }
            ],
            "metadata": {}
        },
        {
            "cell_type": "code",
            "execution_count": 7,
            "source": [
                "## Dataset dimensions\n",
                "df_fin.shape"
            ],
            "outputs": [
                {
                    "output_type": "execute_result",
                    "data": {
                        "text/plain": [
                            "(19565, 35)"
                        ]
                    },
                    "metadata": {},
                    "execution_count": 7
                }
            ],
            "metadata": {}
        },
        {
            "cell_type": "code",
            "execution_count": 8,
            "source": [
                "## Veryfing duplicated records\n",
                "df_fin.duplicated().sum()"
            ],
            "outputs": [
                {
                    "output_type": "execute_result",
                    "data": {
                        "text/plain": [
                            "0"
                        ]
                    },
                    "metadata": {},
                    "execution_count": 8
                }
            ],
            "metadata": {}
        },
        {
            "cell_type": "code",
            "execution_count": 9,
            "source": [
                "## Veryfing NA's\n",
                "df_fin.isna().sum()"
            ],
            "outputs": [
                {
                    "output_type": "execute_result",
                    "data": {
                        "text/plain": [
                            "_id                                           0\n",
                            "cliente                                       0\n",
                            "cnpj                                          0\n",
                            "descricao_do_projeto                          0\n",
                            "uf                                            0\n",
                            "municipio                                     0\n",
                            "municipio_codigo                              0\n",
                            "numero_do_contrato                            0\n",
                            "data_da_contratacao                           0\n",
                            "valor_contratado_reais                        0\n",
                            "valor_desembolsado_reais                      0\n",
                            "fonte_de_recurso_desembolsos                  0\n",
                            "custo_financeiro                              0\n",
                            "juros                                         0\n",
                            "prazo_carencia_meses                          0\n",
                            "prazo_amortizacao_meses                       0\n",
                            "modalidade_de_apoio                           0\n",
                            "forma_de_apoio                                0\n",
                            "produto                                       0\n",
                            "instrumento_financeiro                        0\n",
                            "inovacao                                      0\n",
                            "area_operacional                              0\n",
                            "setor_cnae                                    0\n",
                            "subsetor_cnae_agrupado                        0\n",
                            "subsetor_cnae_codigo                          0\n",
                            "subsetor_cnae_nome                            0\n",
                            "setor_bndes                                   0\n",
                            "subsetor_bndes                                0\n",
                            "porte_do_cliente                              0\n",
                            "natureza_do_cliente                           0\n",
                            "instituicao_financeira_credenciada            0\n",
                            "cnpj_da_instituicao_financeira_credenciada    0\n",
                            "tipo_de_garantia                              0\n",
                            "tipo_de_excepcionalidade                      0\n",
                            "situacao_do_contrato                          0\n",
                            "dtype: int64"
                        ]
                    },
                    "metadata": {},
                    "execution_count": 9
                }
            ],
            "metadata": {}
        },
        {
            "cell_type": "markdown",
            "source": [
                "## 3.2 Explorando os setores para entender o pareamento necessários dos dados SEEG"
            ],
            "metadata": {}
        },
        {
            "cell_type": "code",
            "execution_count": 31,
            "source": [
                "print(df_fin[\"setor_bndes\"].unique())\n"
            ],
            "outputs": [
                {
                    "output_type": "stream",
                    "name": "stdout",
                    "text": [
                        "['COMERCIO/SERVICOS' 'INFRAESTRUTURA' 'INDUSTRIA' 'AGROPECUÁRIA']\n"
                    ]
                }
            ],
            "metadata": {}
        },
        {
            "cell_type": "code",
            "execution_count": 26,
            "source": [
                "index = np.where(df_fin['setor_bndes']=='AGROPECUÁRIA')"
            ],
            "outputs": [
                {
                    "output_type": "error",
                    "ename": "IndexError",
                    "evalue": "tuple index out of range",
                    "traceback": [
                        "\u001b[0;31m---------------------------------------------------------------------------\u001b[0m",
                        "\u001b[0;31mIndexError\u001b[0m                                Traceback (most recent call last)",
                        "\u001b[0;32m/tmp/ipykernel_408/3504948049.py\u001b[0m in \u001b[0;36m<module>\u001b[0;34m\u001b[0m\n\u001b[1;32m      1\u001b[0m \u001b[0mindex\u001b[0m \u001b[0;34m=\u001b[0m \u001b[0mnp\u001b[0m\u001b[0;34m.\u001b[0m\u001b[0mwhere\u001b[0m\u001b[0;34m(\u001b[0m\u001b[0mdf_fin\u001b[0m\u001b[0;34m[\u001b[0m\u001b[0;34m'setor_bndes'\u001b[0m\u001b[0;34m]\u001b[0m\u001b[0;34m==\u001b[0m\u001b[0;34m'AGROPECUÁRIA'\u001b[0m\u001b[0;34m)\u001b[0m\u001b[0;34m\u001b[0m\u001b[0;34m\u001b[0m\u001b[0m\n\u001b[0;32m----> 2\u001b[0;31m \u001b[0mindex\u001b[0m\u001b[0;34m[\u001b[0m\u001b[0;36m1\u001b[0m\u001b[0;34m]\u001b[0m\u001b[0;34m\u001b[0m\u001b[0;34m\u001b[0m\u001b[0m\n\u001b[0m",
                        "\u001b[0;31mIndexError\u001b[0m: tuple index out of range"
                    ]
                }
            ],
            "metadata": {}
        },
        {
            "cell_type": "code",
            "execution_count": 30,
            "source": [
                "df_fin.loc[index,'subsetor_bndes']"
            ],
            "outputs": [
                {
                    "output_type": "execute_result",
                    "data": {
                        "text/plain": [
                            "29       AGROPECUÁRIA\n",
                            "30       AGROPECUÁRIA\n",
                            "31       AGROPECUÁRIA\n",
                            "32       AGROPECUÁRIA\n",
                            "34       AGROPECUÁRIA\n",
                            "             ...     \n",
                            "19542    AGROPECUÁRIA\n",
                            "19543    AGROPECUÁRIA\n",
                            "19544    AGROPECUÁRIA\n",
                            "19550    AGROPECUÁRIA\n",
                            "19555    AGROPECUÁRIA\n",
                            "Name: subsetor_bndes, Length: 729, dtype: object"
                        ]
                    },
                    "metadata": {},
                    "execution_count": 30
                }
            ],
            "metadata": {}
        }
    ],
    "metadata": {
        "orig_nbformat": 4,
        "language_info": {
            "name": "python",
            "version": "3.9.6",
            "mimetype": "text/x-python",
            "codemirror_mode": {
                "name": "ipython",
                "version": 3
            },
            "pygments_lexer": "ipython3",
            "nbconvert_exporter": "python",
            "file_extension": ".py"
        },
        "kernelspec": {
            "name": "python3",
            "display_name": "Python 3.9.6 64-bit ('dados-abertos': venv)"
        },
        "interpreter": {
            "hash": "1d941c93d37f459bccd78a691d83d4424a13868c9a91f8dd5dc1bbe19462440e"
        }
    },
    "nbformat": 4,
    "nbformat_minor": 2
}