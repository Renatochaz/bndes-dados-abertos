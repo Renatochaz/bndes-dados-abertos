{
 "cells": [
  {
   "cell_type": "markdown",
   "source": [
    "# Código de ajuste dos dados de IDH - Renda\n",
    "Neste trabalho serão usados dados apenas do IDHM, pois fazem parte do escopo que busca-se analisar.\n",
    "Os dados de IDH estão disponíveis para os estados brasileiros nos anos de 2010, 2016 e 2017.\n",
    "\n",
    "Dados disponíveis em: http://www.atlasbrasil.org.br/ranking"
   ],
   "metadata": {}
  },
  {
   "cell_type": "code",
   "execution_count": 9,
   "source": [
    "## Load dependencies.\n",
    "import os\n",
    "import pandas as pd\n",
    "import numpy as np"
   ],
   "outputs": [],
   "metadata": {}
  },
  {
   "cell_type": "code",
   "execution_count": 10,
   "source": [
    "## Read files.\n",
    "fields = ['Territorialidade', 'IDHM']\n",
    "df1 = pd.read_excel('bases-auxiliares/idh_2010.xlsx', usecols=fields)\n",
    "df2 = pd.read_excel('bases-auxiliares/idh_2016.xlsx', usecols=fields)\n",
    "df3 = pd.read_excel('bases-auxiliares/idh_2017.xlsx', usecols=fields)"
   ],
   "outputs": [],
   "metadata": {}
  },
  {
   "cell_type": "code",
   "execution_count": 11,
   "source": [
    "## Set year to datasets.\n",
    "df1['ano'] = 2010\n",
    "df2['ano'] = 2016\n",
    "df3['ano'] = 2017"
   ],
   "outputs": [],
   "metadata": {}
  },
  {
   "cell_type": "code",
   "execution_count": 12,
   "source": [
    "## Appenda datasets.\n",
    "df = df1.append([df2, df3])"
   ],
   "outputs": [],
   "metadata": {}
  },
  {
   "cell_type": "code",
   "execution_count": 13,
   "source": [
    "## Create dict for states.\n",
    "estado = df['Territorialidade'].unique().tolist()\n",
    "uf = ['DF', 'SP', 'SC', 'RJ', 'PR', 'RS', 'ES', 'GO', 'MG', 'MS', 'MT', 'AP', 'RR', 'TO', 'RO', 'RN',\n",
    "              'CE', 'AM', 'PE', 'SE', 'AC', 'BA', 'PB', 'PI', 'PA', 'MA', 'AL']\n",
    "\n",
    "uf_dict = dict(zip(estado, uf))\n",
    "uf_dict"
   ],
   "outputs": [
    {
     "output_type": "execute_result",
     "data": {
      "text/plain": [
       "{'Distrito Federal': 'DF',\n",
       " 'São Paulo': 'SP',\n",
       " 'Santa Catarina': 'SC',\n",
       " 'Rio de Janeiro': 'RJ',\n",
       " 'Paraná': 'PR',\n",
       " 'Rio Grande do Sul': 'RS',\n",
       " 'Espírito Santo': 'ES',\n",
       " 'Goiás': 'GO',\n",
       " 'Minas Gerais': 'MG',\n",
       " 'Mato Grosso do Sul': 'MS',\n",
       " 'Mato Grosso': 'MT',\n",
       " 'Amapá': 'AP',\n",
       " 'Roraima': 'RR',\n",
       " 'Tocantins': 'TO',\n",
       " 'Rondônia': 'RO',\n",
       " 'Rio Grande do Norte': 'RN',\n",
       " 'Ceará': 'CE',\n",
       " 'Amazonas': 'AM',\n",
       " 'Pernambuco': 'PE',\n",
       " 'Sergipe': 'SE',\n",
       " 'Acre': 'AC',\n",
       " 'Bahia': 'BA',\n",
       " 'Paraíba': 'PB',\n",
       " 'Piauí': 'PI',\n",
       " 'Pará': 'PA',\n",
       " 'Maranhão': 'MA',\n",
       " 'Alagoas': 'AL'}"
      ]
     },
     "metadata": {},
     "execution_count": 13
    }
   ],
   "metadata": {}
  },
  {
   "cell_type": "code",
   "execution_count": 14,
   "source": [
    "## Append UF to the dataset.\n",
    "df['uf'] = df['Territorialidade'].map(uf_dict)"
   ],
   "outputs": [],
   "metadata": {}
  },
  {
   "cell_type": "code",
   "execution_count": 15,
   "source": [
    "## Change column names and drop redundant column.\n",
    "df.columns = ['drop', 'idhm', 'ano', 'uf']\n",
    "df = df.drop('drop', 1)\n",
    "df"
   ],
   "outputs": [
    {
     "output_type": "stream",
     "name": "stderr",
     "text": [
      "/tmp/ipykernel_31092/1210248439.py:3: FutureWarning: In a future version of pandas all arguments of DataFrame.drop except for the argument 'labels' will be keyword-only\n",
      "  df = df.drop('drop', 1)\n"
     ]
    },
    {
     "output_type": "execute_result",
     "data": {
      "text/plain": [
       "     idhm   ano  uf\n",
       "0   0.824  2010  DF\n",
       "1   0.783  2010  SP\n",
       "2   0.774  2010  SC\n",
       "3   0.761  2010  RJ\n",
       "4   0.749  2010  PR\n",
       "..    ...   ...  ..\n",
       "22  0.702  2017  SE\n",
       "23  0.698  2017  PA\n",
       "24  0.697  2017  PI\n",
       "25  0.687  2017  MA\n",
       "26  0.683  2017  AL\n",
       "\n",
       "[81 rows x 3 columns]"
      ],
      "text/html": [
       "<div>\n",
       "<style scoped>\n",
       "    .dataframe tbody tr th:only-of-type {\n",
       "        vertical-align: middle;\n",
       "    }\n",
       "\n",
       "    .dataframe tbody tr th {\n",
       "        vertical-align: top;\n",
       "    }\n",
       "\n",
       "    .dataframe thead th {\n",
       "        text-align: right;\n",
       "    }\n",
       "</style>\n",
       "<table border=\"1\" class=\"dataframe\">\n",
       "  <thead>\n",
       "    <tr style=\"text-align: right;\">\n",
       "      <th></th>\n",
       "      <th>idhm</th>\n",
       "      <th>ano</th>\n",
       "      <th>uf</th>\n",
       "    </tr>\n",
       "  </thead>\n",
       "  <tbody>\n",
       "    <tr>\n",
       "      <th>0</th>\n",
       "      <td>0.824</td>\n",
       "      <td>2010</td>\n",
       "      <td>DF</td>\n",
       "    </tr>\n",
       "    <tr>\n",
       "      <th>1</th>\n",
       "      <td>0.783</td>\n",
       "      <td>2010</td>\n",
       "      <td>SP</td>\n",
       "    </tr>\n",
       "    <tr>\n",
       "      <th>2</th>\n",
       "      <td>0.774</td>\n",
       "      <td>2010</td>\n",
       "      <td>SC</td>\n",
       "    </tr>\n",
       "    <tr>\n",
       "      <th>3</th>\n",
       "      <td>0.761</td>\n",
       "      <td>2010</td>\n",
       "      <td>RJ</td>\n",
       "    </tr>\n",
       "    <tr>\n",
       "      <th>4</th>\n",
       "      <td>0.749</td>\n",
       "      <td>2010</td>\n",
       "      <td>PR</td>\n",
       "    </tr>\n",
       "    <tr>\n",
       "      <th>...</th>\n",
       "      <td>...</td>\n",
       "      <td>...</td>\n",
       "      <td>...</td>\n",
       "    </tr>\n",
       "    <tr>\n",
       "      <th>22</th>\n",
       "      <td>0.702</td>\n",
       "      <td>2017</td>\n",
       "      <td>SE</td>\n",
       "    </tr>\n",
       "    <tr>\n",
       "      <th>23</th>\n",
       "      <td>0.698</td>\n",
       "      <td>2017</td>\n",
       "      <td>PA</td>\n",
       "    </tr>\n",
       "    <tr>\n",
       "      <th>24</th>\n",
       "      <td>0.697</td>\n",
       "      <td>2017</td>\n",
       "      <td>PI</td>\n",
       "    </tr>\n",
       "    <tr>\n",
       "      <th>25</th>\n",
       "      <td>0.687</td>\n",
       "      <td>2017</td>\n",
       "      <td>MA</td>\n",
       "    </tr>\n",
       "    <tr>\n",
       "      <th>26</th>\n",
       "      <td>0.683</td>\n",
       "      <td>2017</td>\n",
       "      <td>AL</td>\n",
       "    </tr>\n",
       "  </tbody>\n",
       "</table>\n",
       "<p>81 rows × 3 columns</p>\n",
       "</div>"
      ]
     },
     "metadata": {},
     "execution_count": 15
    }
   ],
   "metadata": {}
  },
  {
   "cell_type": "code",
   "execution_count": 17,
   "source": [
    "## Exporting dataset\n",
    "df.to_csv('bases-auxiliares/idhm.csv',\n",
    "                index=False, header=True)"
   ],
   "outputs": [],
   "metadata": {}
  }
 ],
 "metadata": {
  "orig_nbformat": 4,
  "language_info": {
   "name": "python",
   "version": "3.9.6",
   "mimetype": "text/x-python",
   "codemirror_mode": {
    "name": "ipython",
    "version": 3
   },
   "pygments_lexer": "ipython3",
   "nbconvert_exporter": "python",
   "file_extension": ".py"
  },
  "kernelspec": {
   "name": "python3",
   "display_name": "Python 3.9.6 64-bit ('dados-abertos': venv)"
  },
  "interpreter": {
   "hash": "1d941c93d37f459bccd78a691d83d4424a13868c9a91f8dd5dc1bbe19462440e"
  }
 },
 "nbformat": 4,
 "nbformat_minor": 2
}